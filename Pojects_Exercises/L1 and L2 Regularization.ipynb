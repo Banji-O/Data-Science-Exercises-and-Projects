{
 "cells": [
  {
   "cell_type": "markdown",
   "id": "c260eb70-7b2d-4b55-8028-cdf0fd1b3997",
   "metadata": {},
   "source": [
    "<center>\n",
    "    <h1><b> L1 and L2 Regularization</b></h1>\n",
    "</center>\n",
    "\n",
    "L1 and L2 are used to regularize model overfit.\n",
    "\n",
    "L1 uses lambda function with absolute value to reduce theta function when dealing with overfit.\n",
    "\n",
    "L2 uses lambda function with square value to reduce theta function when dealing with overfit."
   ]
  },
  {
   "cell_type": "code",
   "execution_count": 1,
   "id": "f7d1eb82-ce00-4752-8c9f-9498f919024b",
   "metadata": {},
   "outputs": [],
   "source": [
    "import pandas as pd\n",
    "import numpy as np\n",
    "import seaborn as sb\n",
    "import matplotlib.pyplot as plt\n",
    "from sklearn.linear_model import LinearRegression\n",
    "from sklearn.model_selection import train_test_split, GridSearchCV\n",
    "from sklearn.metrics import accuracy_score, confusion_matrix\n",
    "\n",
    "%matplotlib inline"
   ]
  },
  {
   "cell_type": "code",
   "execution_count": 2,
   "id": "27a4ce0f-46b1-4347-81d2-8b5389b85bce",
   "metadata": {},
   "outputs": [],
   "source": [
    "# Suppress warnings for clean notebook\n",
    "import warnings\n",
    "warnings.filterwarnings('ignore')"
   ]
  },
  {
   "cell_type": "markdown",
   "id": "9dd2177c-51cf-476a-9c7d-f330ee1ddc1f",
   "metadata": {},
   "source": [
    "### Dataset Loading"
   ]
  },
  {
   "cell_type": "code",
   "execution_count": 3,
   "id": "a6fde51b-58c8-4c6a-95fa-e9d0f1b5fee4",
   "metadata": {},
   "outputs": [],
   "source": [
    "dataset = pd.read_csv(r'D:\\AI Engineering\\Python\\My_Projects\\Datasets\\Melbourne_housing.csv', low_memory = False)"
   ]
  },
  {
   "cell_type": "code",
   "execution_count": 4,
   "id": "33861da2-16c7-42cd-bb52-71feda2d9dbc",
   "metadata": {},
   "outputs": [
    {
     "data": {
      "text/html": [
       "<div>\n",
       "<style scoped>\n",
       "    .dataframe tbody tr th:only-of-type {\n",
       "        vertical-align: middle;\n",
       "    }\n",
       "\n",
       "    .dataframe tbody tr th {\n",
       "        vertical-align: top;\n",
       "    }\n",
       "\n",
       "    .dataframe thead th {\n",
       "        text-align: right;\n",
       "    }\n",
       "</style>\n",
       "<table border=\"1\" class=\"dataframe\">\n",
       "  <thead>\n",
       "    <tr style=\"text-align: right;\">\n",
       "      <th></th>\n",
       "      <th>Suburb</th>\n",
       "      <th>Address</th>\n",
       "      <th>Rooms</th>\n",
       "      <th>Type</th>\n",
       "      <th>Method</th>\n",
       "      <th>SellerG</th>\n",
       "      <th>Date</th>\n",
       "      <th>Distance</th>\n",
       "      <th>Postcode</th>\n",
       "      <th>Bedroom</th>\n",
       "      <th>...</th>\n",
       "      <th>Landsize</th>\n",
       "      <th>BuildingArea</th>\n",
       "      <th>YearBuilt</th>\n",
       "      <th>CouncilArea</th>\n",
       "      <th>Latitude</th>\n",
       "      <th>Longtitude</th>\n",
       "      <th>Regionname</th>\n",
       "      <th>Propertycount</th>\n",
       "      <th>ParkingArea</th>\n",
       "      <th>Price</th>\n",
       "    </tr>\n",
       "  </thead>\n",
       "  <tbody>\n",
       "    <tr>\n",
       "      <th>0</th>\n",
       "      <td>Abbotsford</td>\n",
       "      <td>68 Studley St</td>\n",
       "      <td>2</td>\n",
       "      <td>h</td>\n",
       "      <td>SS</td>\n",
       "      <td>Jellis</td>\n",
       "      <td>3/9/2016</td>\n",
       "      <td>2.5</td>\n",
       "      <td>3067.0</td>\n",
       "      <td>2.0</td>\n",
       "      <td>...</td>\n",
       "      <td>126.0</td>\n",
       "      <td>inf</td>\n",
       "      <td>NaN</td>\n",
       "      <td>Yarra City Council</td>\n",
       "      <td>-37.8014</td>\n",
       "      <td>144.9958</td>\n",
       "      <td>Northern Metropolitan</td>\n",
       "      <td>4019.0</td>\n",
       "      <td>Carport</td>\n",
       "      <td>NaN</td>\n",
       "    </tr>\n",
       "    <tr>\n",
       "      <th>1</th>\n",
       "      <td>Airport West</td>\n",
       "      <td>154 Halsey Rd</td>\n",
       "      <td>3</td>\n",
       "      <td>t</td>\n",
       "      <td>PI</td>\n",
       "      <td>Nelson</td>\n",
       "      <td>3/9/2016</td>\n",
       "      <td>13.5</td>\n",
       "      <td>3042.0</td>\n",
       "      <td>3.0</td>\n",
       "      <td>...</td>\n",
       "      <td>303.0</td>\n",
       "      <td>225</td>\n",
       "      <td>2016.0</td>\n",
       "      <td>Moonee Valley City Council</td>\n",
       "      <td>-37.7180</td>\n",
       "      <td>144.8780</td>\n",
       "      <td>Western Metropolitan</td>\n",
       "      <td>3464.0</td>\n",
       "      <td>Detached Garage</td>\n",
       "      <td>840000.0</td>\n",
       "    </tr>\n",
       "    <tr>\n",
       "      <th>2</th>\n",
       "      <td>Albert Park</td>\n",
       "      <td>105 Kerferd Rd</td>\n",
       "      <td>2</td>\n",
       "      <td>h</td>\n",
       "      <td>S</td>\n",
       "      <td>hockingstuart</td>\n",
       "      <td>3/9/2016</td>\n",
       "      <td>3.3</td>\n",
       "      <td>3206.0</td>\n",
       "      <td>2.0</td>\n",
       "      <td>...</td>\n",
       "      <td>120.0</td>\n",
       "      <td>82</td>\n",
       "      <td>1900.0</td>\n",
       "      <td>Port Phillip City Council</td>\n",
       "      <td>-37.8459</td>\n",
       "      <td>144.9555</td>\n",
       "      <td>Southern Metropolitan</td>\n",
       "      <td>3280.0</td>\n",
       "      <td>Attached Garage</td>\n",
       "      <td>1275000.0</td>\n",
       "    </tr>\n",
       "    <tr>\n",
       "      <th>3</th>\n",
       "      <td>Albert Park</td>\n",
       "      <td>85 Richardson St</td>\n",
       "      <td>2</td>\n",
       "      <td>h</td>\n",
       "      <td>S</td>\n",
       "      <td>Thomson</td>\n",
       "      <td>3/9/2016</td>\n",
       "      <td>3.3</td>\n",
       "      <td>3206.0</td>\n",
       "      <td>2.0</td>\n",
       "      <td>...</td>\n",
       "      <td>159.0</td>\n",
       "      <td>inf</td>\n",
       "      <td>NaN</td>\n",
       "      <td>Port Phillip City Council</td>\n",
       "      <td>-37.8450</td>\n",
       "      <td>144.9538</td>\n",
       "      <td>Southern Metropolitan</td>\n",
       "      <td>3280.0</td>\n",
       "      <td>Indoor</td>\n",
       "      <td>1455000.0</td>\n",
       "    </tr>\n",
       "    <tr>\n",
       "      <th>4</th>\n",
       "      <td>Alphington</td>\n",
       "      <td>30 Austin St</td>\n",
       "      <td>3</td>\n",
       "      <td>h</td>\n",
       "      <td>SN</td>\n",
       "      <td>McGrath</td>\n",
       "      <td>3/9/2016</td>\n",
       "      <td>6.4</td>\n",
       "      <td>3078.0</td>\n",
       "      <td>3.0</td>\n",
       "      <td>...</td>\n",
       "      <td>174.0</td>\n",
       "      <td>122</td>\n",
       "      <td>2003.0</td>\n",
       "      <td>Darebin City Council</td>\n",
       "      <td>-37.7818</td>\n",
       "      <td>145.0198</td>\n",
       "      <td>Northern Metropolitan</td>\n",
       "      <td>2211.0</td>\n",
       "      <td>Parkade</td>\n",
       "      <td>NaN</td>\n",
       "    </tr>\n",
       "  </tbody>\n",
       "</table>\n",
       "<p>5 rows × 22 columns</p>\n",
       "</div>"
      ],
      "text/plain": [
       "         Suburb           Address  Rooms Type Method        SellerG      Date  \\\n",
       "0    Abbotsford     68 Studley St      2    h     SS         Jellis  3/9/2016   \n",
       "1  Airport West     154 Halsey Rd      3    t     PI         Nelson  3/9/2016   \n",
       "2   Albert Park    105 Kerferd Rd      2    h      S  hockingstuart  3/9/2016   \n",
       "3   Albert Park  85 Richardson St      2    h      S        Thomson  3/9/2016   \n",
       "4    Alphington      30 Austin St      3    h     SN        McGrath  3/9/2016   \n",
       "\n",
       "   Distance  Postcode  Bedroom  ...  Landsize  BuildingArea  YearBuilt  \\\n",
       "0       2.5    3067.0      2.0  ...     126.0           inf        NaN   \n",
       "1      13.5    3042.0      3.0  ...     303.0           225     2016.0   \n",
       "2       3.3    3206.0      2.0  ...     120.0            82     1900.0   \n",
       "3       3.3    3206.0      2.0  ...     159.0           inf        NaN   \n",
       "4       6.4    3078.0      3.0  ...     174.0           122     2003.0   \n",
       "\n",
       "                  CouncilArea  Latitude Longtitude             Regionname  \\\n",
       "0          Yarra City Council  -37.8014   144.9958  Northern Metropolitan   \n",
       "1  Moonee Valley City Council  -37.7180   144.8780   Western Metropolitan   \n",
       "2   Port Phillip City Council  -37.8459   144.9555  Southern Metropolitan   \n",
       "3   Port Phillip City Council  -37.8450   144.9538  Southern Metropolitan   \n",
       "4        Darebin City Council  -37.7818   145.0198  Northern Metropolitan   \n",
       "\n",
       "   Propertycount      ParkingArea      Price  \n",
       "0         4019.0          Carport        NaN  \n",
       "1         3464.0  Detached Garage   840000.0  \n",
       "2         3280.0  Attached Garage  1275000.0  \n",
       "3         3280.0           Indoor  1455000.0  \n",
       "4         2211.0          Parkade        NaN  \n",
       "\n",
       "[5 rows x 22 columns]"
      ]
     },
     "execution_count": 4,
     "metadata": {},
     "output_type": "execute_result"
    }
   ],
   "source": [
    "dataset.head()"
   ]
  },
  {
   "cell_type": "markdown",
   "id": "81cc656d-e4b6-4c4f-ad68-0508838b1be2",
   "metadata": {},
   "source": [
    "### Data Exploration"
   ]
  },
  {
   "cell_type": "code",
   "execution_count": 5,
   "id": "9c868302-ed77-4c53-9e9b-d57b69fe75f1",
   "metadata": {},
   "outputs": [
    {
     "data": {
      "text/plain": [
       "(34857, 22)"
      ]
     },
     "execution_count": 5,
     "metadata": {},
     "output_type": "execute_result"
    }
   ],
   "source": [
    "dataset.shape"
   ]
  },
  {
   "cell_type": "code",
   "execution_count": 6,
   "id": "ae283277-0200-4673-a8c9-b7270ac7aa6c",
   "metadata": {},
   "outputs": [
    {
     "data": {
      "text/plain": [
       "Suburb             351\n",
       "Address          34009\n",
       "Rooms               12\n",
       "Type                 3\n",
       "Method               9\n",
       "SellerG            388\n",
       "Date                78\n",
       "Distance           215\n",
       "Postcode           211\n",
       "Bedroom             15\n",
       "Bathroom            11\n",
       "Car                 15\n",
       "Landsize          1684\n",
       "BuildingArea       742\n",
       "YearBuilt          160\n",
       "CouncilArea         33\n",
       "Latitude         13402\n",
       "Longtitude       14524\n",
       "Regionname           8\n",
       "Propertycount      342\n",
       "ParkingArea          8\n",
       "Price             2871\n",
       "dtype: int64"
      ]
     },
     "execution_count": 6,
     "metadata": {},
     "output_type": "execute_result"
    }
   ],
   "source": [
    "# Number of unique values in each column\n",
    "dataset.nunique()"
   ]
  },
  {
   "cell_type": "code",
   "execution_count": 7,
   "id": "4e3caf70-78e5-4080-b484-89e7ee1fb03d",
   "metadata": {},
   "outputs": [
    {
     "name": "stdout",
     "output_type": "stream",
     "text": [
      "<class 'pandas.core.frame.DataFrame'>\n",
      "RangeIndex: 34857 entries, 0 to 34856\n",
      "Data columns (total 22 columns):\n",
      " #   Column         Non-Null Count  Dtype  \n",
      "---  ------         --------------  -----  \n",
      " 0   Suburb         34857 non-null  object \n",
      " 1   Address        34857 non-null  object \n",
      " 2   Rooms          34857 non-null  int64  \n",
      " 3   Type           34857 non-null  object \n",
      " 4   Method         34857 non-null  object \n",
      " 5   SellerG        34857 non-null  object \n",
      " 6   Date           34857 non-null  object \n",
      " 7   Distance       34856 non-null  float64\n",
      " 8   Postcode       34856 non-null  float64\n",
      " 9   Bedroom        26640 non-null  float64\n",
      " 10  Bathroom       26631 non-null  float64\n",
      " 11  Car            26129 non-null  float64\n",
      " 12  Landsize       23047 non-null  float64\n",
      " 13  BuildingArea   13760 non-null  object \n",
      " 14  YearBuilt      15551 non-null  float64\n",
      " 15  CouncilArea    34854 non-null  object \n",
      " 16  Latitude       26881 non-null  float64\n",
      " 17  Longtitude     26881 non-null  float64\n",
      " 18  Regionname     34857 non-null  object \n",
      " 19  Propertycount  34854 non-null  float64\n",
      " 20  ParkingArea    34857 non-null  object \n",
      " 21  Price          27247 non-null  float64\n",
      "dtypes: float64(11), int64(1), object(10)\n",
      "memory usage: 5.9+ MB\n"
     ]
    }
   ],
   "source": [
    "dataset.info()"
   ]
  },
  {
   "cell_type": "code",
   "execution_count": 8,
   "id": "efaa538a-a8c4-40a9-88b7-0523f3ec78f1",
   "metadata": {},
   "outputs": [
    {
     "data": {
      "text/plain": [
       "Suburb               0\n",
       "Address              0\n",
       "Rooms                0\n",
       "Type                 0\n",
       "Method               0\n",
       "SellerG              0\n",
       "Date                 0\n",
       "Distance             1\n",
       "Postcode             1\n",
       "Bedroom           8217\n",
       "Bathroom          8226\n",
       "Car               8728\n",
       "Landsize         11810\n",
       "BuildingArea     21097\n",
       "YearBuilt        19306\n",
       "CouncilArea          3\n",
       "Latitude          7976\n",
       "Longtitude        7976\n",
       "Regionname           0\n",
       "Propertycount        3\n",
       "ParkingArea          0\n",
       "Price             7610\n",
       "dtype: int64"
      ]
     },
     "execution_count": 8,
     "metadata": {},
     "output_type": "execute_result"
    }
   ],
   "source": [
    "dataset.isnull().sum()"
   ]
  },
  {
   "cell_type": "code",
   "execution_count": 9,
   "id": "a5af064d-ff27-4d8b-9e38-4d212ac29ec7",
   "metadata": {},
   "outputs": [
    {
     "data": {
      "text/plain": [
       "Index(['Suburb', 'Address', 'Rooms', 'Type', 'Method', 'SellerG', 'Date',\n",
       "       'Distance', 'Postcode', 'Bedroom', 'Bathroom', 'Car', 'Landsize',\n",
       "       'BuildingArea', 'YearBuilt', 'CouncilArea', 'Latitude', 'Longtitude',\n",
       "       'Regionname', 'Propertycount', 'ParkingArea', 'Price'],\n",
       "      dtype='object')"
      ]
     },
     "execution_count": 9,
     "metadata": {},
     "output_type": "execute_result"
    }
   ],
   "source": [
    "dataset.columns"
   ]
  },
  {
   "cell_type": "code",
   "execution_count": 10,
   "id": "043ed1cd-90bf-4949-9081-d83e15f28605",
   "metadata": {},
   "outputs": [],
   "source": [
    "cols_to_use = ['Suburb', 'Rooms', 'Type', 'Method', 'SellerG', 'Regionname', 'Propertycount', 'Distance', 'CouncilArea', 'Bedroom', 'Bathroom', 'Car', 'Landsize',\n",
    "       'BuildingArea', 'YearBuilt', 'Price']"
   ]
  },
  {
   "cell_type": "code",
   "execution_count": 11,
   "id": "6e426f17-c162-4a4a-94bf-c78f4059cb85",
   "metadata": {},
   "outputs": [
    {
     "data": {
      "text/html": [
       "<div>\n",
       "<style scoped>\n",
       "    .dataframe tbody tr th:only-of-type {\n",
       "        vertical-align: middle;\n",
       "    }\n",
       "\n",
       "    .dataframe tbody tr th {\n",
       "        vertical-align: top;\n",
       "    }\n",
       "\n",
       "    .dataframe thead th {\n",
       "        text-align: right;\n",
       "    }\n",
       "</style>\n",
       "<table border=\"1\" class=\"dataframe\">\n",
       "  <thead>\n",
       "    <tr style=\"text-align: right;\">\n",
       "      <th></th>\n",
       "      <th>Suburb</th>\n",
       "      <th>Rooms</th>\n",
       "      <th>Type</th>\n",
       "      <th>Method</th>\n",
       "      <th>SellerG</th>\n",
       "      <th>Regionname</th>\n",
       "      <th>Propertycount</th>\n",
       "      <th>Distance</th>\n",
       "      <th>CouncilArea</th>\n",
       "      <th>Bedroom</th>\n",
       "      <th>Bathroom</th>\n",
       "      <th>Car</th>\n",
       "      <th>Landsize</th>\n",
       "      <th>BuildingArea</th>\n",
       "      <th>YearBuilt</th>\n",
       "      <th>Price</th>\n",
       "    </tr>\n",
       "  </thead>\n",
       "  <tbody>\n",
       "    <tr>\n",
       "      <th>10</th>\n",
       "      <td>Altona North</td>\n",
       "      <td>3</td>\n",
       "      <td>h</td>\n",
       "      <td>S</td>\n",
       "      <td>Jas</td>\n",
       "      <td>Western Metropolitan</td>\n",
       "      <td>5132.0</td>\n",
       "      <td>11.1</td>\n",
       "      <td>Hobsons Bay City Council</td>\n",
       "      <td>3.0</td>\n",
       "      <td>1.0</td>\n",
       "      <td>2.0</td>\n",
       "      <td>533.0</td>\n",
       "      <td>117</td>\n",
       "      <td>1970.0</td>\n",
       "      <td>781000.0</td>\n",
       "    </tr>\n",
       "    <tr>\n",
       "      <th>11</th>\n",
       "      <td>Altona North</td>\n",
       "      <td>4</td>\n",
       "      <td>h</td>\n",
       "      <td>S</td>\n",
       "      <td>hockingstuart</td>\n",
       "      <td>Western Metropolitan</td>\n",
       "      <td>5132.0</td>\n",
       "      <td>11.1</td>\n",
       "      <td>Hobsons Bay City Council</td>\n",
       "      <td>NaN</td>\n",
       "      <td>NaN</td>\n",
       "      <td>NaN</td>\n",
       "      <td>NaN</td>\n",
       "      <td>missing</td>\n",
       "      <td>NaN</td>\n",
       "      <td>857500.0</td>\n",
       "    </tr>\n",
       "    <tr>\n",
       "      <th>12</th>\n",
       "      <td>Armadale</td>\n",
       "      <td>3</td>\n",
       "      <td>h</td>\n",
       "      <td>S</td>\n",
       "      <td>RT</td>\n",
       "      <td>Southern Metropolitan</td>\n",
       "      <td>4836.0</td>\n",
       "      <td>6.3</td>\n",
       "      <td>Stonnington City Council</td>\n",
       "      <td>2.0</td>\n",
       "      <td>1.0</td>\n",
       "      <td>1.0</td>\n",
       "      <td>305.0</td>\n",
       "      <td>missing</td>\n",
       "      <td>NaN</td>\n",
       "      <td>NaN</td>\n",
       "    </tr>\n",
       "    <tr>\n",
       "      <th>13</th>\n",
       "      <td>Armadale</td>\n",
       "      <td>2</td>\n",
       "      <td>u</td>\n",
       "      <td>S</td>\n",
       "      <td>Jellis</td>\n",
       "      <td>Southern Metropolitan</td>\n",
       "      <td>4836.0</td>\n",
       "      <td>6.3</td>\n",
       "      <td>Stonnington City Council</td>\n",
       "      <td>2.0</td>\n",
       "      <td>1.0</td>\n",
       "      <td>1.0</td>\n",
       "      <td>0.0</td>\n",
       "      <td>76</td>\n",
       "      <td>1964.0</td>\n",
       "      <td>599000.0</td>\n",
       "    </tr>\n",
       "    <tr>\n",
       "      <th>14</th>\n",
       "      <td>Ascot Vale</td>\n",
       "      <td>3</td>\n",
       "      <td>h</td>\n",
       "      <td>S</td>\n",
       "      <td>Jellis</td>\n",
       "      <td>Western Metropolitan</td>\n",
       "      <td>6567.0</td>\n",
       "      <td>5.9</td>\n",
       "      <td>Moonee Valley City Council</td>\n",
       "      <td>3.0</td>\n",
       "      <td>1.0</td>\n",
       "      <td>2.0</td>\n",
       "      <td>305.0</td>\n",
       "      <td>135</td>\n",
       "      <td>1910.0</td>\n",
       "      <td>NaN</td>\n",
       "    </tr>\n",
       "    <tr>\n",
       "      <th>15</th>\n",
       "      <td>Ascot Vale</td>\n",
       "      <td>2</td>\n",
       "      <td>u</td>\n",
       "      <td>S</td>\n",
       "      <td>Nelson</td>\n",
       "      <td>Western Metropolitan</td>\n",
       "      <td>6567.0</td>\n",
       "      <td>5.9</td>\n",
       "      <td>Moonee Valley City Council</td>\n",
       "      <td>3.0</td>\n",
       "      <td>1.0</td>\n",
       "      <td>2.0</td>\n",
       "      <td>0.0</td>\n",
       "      <td>missing</td>\n",
       "      <td>NaN</td>\n",
       "      <td>455000.0</td>\n",
       "    </tr>\n",
       "    <tr>\n",
       "      <th>16</th>\n",
       "      <td>Ashburton</td>\n",
       "      <td>4</td>\n",
       "      <td>h</td>\n",
       "      <td>S</td>\n",
       "      <td>Marshall</td>\n",
       "      <td>Southern Metropolitan</td>\n",
       "      <td>3052.0</td>\n",
       "      <td>11.0</td>\n",
       "      <td>Boroondara City Council</td>\n",
       "      <td>4.0</td>\n",
       "      <td>3.0</td>\n",
       "      <td>2.0</td>\n",
       "      <td>753.0</td>\n",
       "      <td>399</td>\n",
       "      <td>2015.0</td>\n",
       "      <td>2650000.0</td>\n",
       "    </tr>\n",
       "    <tr>\n",
       "      <th>17</th>\n",
       "      <td>Ashburton</td>\n",
       "      <td>2</td>\n",
       "      <td>h</td>\n",
       "      <td>S</td>\n",
       "      <td>Marshall</td>\n",
       "      <td>Southern Metropolitan</td>\n",
       "      <td>3052.0</td>\n",
       "      <td>11.0</td>\n",
       "      <td>Boroondara City Council</td>\n",
       "      <td>NaN</td>\n",
       "      <td>NaN</td>\n",
       "      <td>NaN</td>\n",
       "      <td>NaN</td>\n",
       "      <td>inf</td>\n",
       "      <td>NaN</td>\n",
       "      <td>1820000.0</td>\n",
       "    </tr>\n",
       "    <tr>\n",
       "      <th>18</th>\n",
       "      <td>Ashwood</td>\n",
       "      <td>3</td>\n",
       "      <td>h</td>\n",
       "      <td>SP</td>\n",
       "      <td>Jellis</td>\n",
       "      <td>Southern Metropolitan</td>\n",
       "      <td>2894.0</td>\n",
       "      <td>12.2</td>\n",
       "      <td>Monash City Council</td>\n",
       "      <td>3.0</td>\n",
       "      <td>1.0</td>\n",
       "      <td>2.0</td>\n",
       "      <td>343.0</td>\n",
       "      <td>inf</td>\n",
       "      <td>1960.0</td>\n",
       "      <td>NaN</td>\n",
       "    </tr>\n",
       "    <tr>\n",
       "      <th>19</th>\n",
       "      <td>Ashwood</td>\n",
       "      <td>2</td>\n",
       "      <td>h</td>\n",
       "      <td>S</td>\n",
       "      <td>Tim</td>\n",
       "      <td>Southern Metropolitan</td>\n",
       "      <td>2894.0</td>\n",
       "      <td>12.2</td>\n",
       "      <td>Monash City Council</td>\n",
       "      <td>2.0</td>\n",
       "      <td>1.0</td>\n",
       "      <td>1.0</td>\n",
       "      <td>583.0</td>\n",
       "      <td>inf</td>\n",
       "      <td>1950.0</td>\n",
       "      <td>995000.0</td>\n",
       "    </tr>\n",
       "  </tbody>\n",
       "</table>\n",
       "</div>"
      ],
      "text/plain": [
       "          Suburb  Rooms Type Method        SellerG             Regionname  \\\n",
       "10  Altona North      3    h      S            Jas   Western Metropolitan   \n",
       "11  Altona North      4    h      S  hockingstuart   Western Metropolitan   \n",
       "12      Armadale      3    h      S             RT  Southern Metropolitan   \n",
       "13      Armadale      2    u      S         Jellis  Southern Metropolitan   \n",
       "14    Ascot Vale      3    h      S         Jellis   Western Metropolitan   \n",
       "15    Ascot Vale      2    u      S         Nelson   Western Metropolitan   \n",
       "16     Ashburton      4    h      S       Marshall  Southern Metropolitan   \n",
       "17     Ashburton      2    h      S       Marshall  Southern Metropolitan   \n",
       "18       Ashwood      3    h     SP         Jellis  Southern Metropolitan   \n",
       "19       Ashwood      2    h      S            Tim  Southern Metropolitan   \n",
       "\n",
       "    Propertycount  Distance                 CouncilArea  Bedroom  Bathroom  \\\n",
       "10         5132.0      11.1    Hobsons Bay City Council      3.0       1.0   \n",
       "11         5132.0      11.1    Hobsons Bay City Council      NaN       NaN   \n",
       "12         4836.0       6.3    Stonnington City Council      2.0       1.0   \n",
       "13         4836.0       6.3    Stonnington City Council      2.0       1.0   \n",
       "14         6567.0       5.9  Moonee Valley City Council      3.0       1.0   \n",
       "15         6567.0       5.9  Moonee Valley City Council      3.0       1.0   \n",
       "16         3052.0      11.0     Boroondara City Council      4.0       3.0   \n",
       "17         3052.0      11.0     Boroondara City Council      NaN       NaN   \n",
       "18         2894.0      12.2         Monash City Council      3.0       1.0   \n",
       "19         2894.0      12.2         Monash City Council      2.0       1.0   \n",
       "\n",
       "    Car  Landsize BuildingArea  YearBuilt      Price  \n",
       "10  2.0     533.0          117     1970.0   781000.0  \n",
       "11  NaN       NaN      missing        NaN   857500.0  \n",
       "12  1.0     305.0      missing        NaN        NaN  \n",
       "13  1.0       0.0           76     1964.0   599000.0  \n",
       "14  2.0     305.0          135     1910.0        NaN  \n",
       "15  2.0       0.0      missing        NaN   455000.0  \n",
       "16  2.0     753.0          399     2015.0  2650000.0  \n",
       "17  NaN       NaN          inf        NaN  1820000.0  \n",
       "18  2.0     343.0          inf     1960.0        NaN  \n",
       "19  1.0     583.0          inf     1950.0   995000.0  "
      ]
     },
     "execution_count": 11,
     "metadata": {},
     "output_type": "execute_result"
    }
   ],
   "source": [
    "df = dataset[cols_to_use]\n",
    "df[10:20]"
   ]
  },
  {
   "cell_type": "code",
   "execution_count": 12,
   "id": "779c4157-e2c5-4c89-87be-cffafe363b5d",
   "metadata": {},
   "outputs": [
    {
     "data": {
      "text/plain": [
       "(34857, 16)"
      ]
     },
     "execution_count": 12,
     "metadata": {},
     "output_type": "execute_result"
    }
   ],
   "source": [
    "df.shape"
   ]
  },
  {
   "cell_type": "code",
   "execution_count": 13,
   "id": "106523d2-388c-4026-8263-9c9e73248f51",
   "metadata": {},
   "outputs": [
    {
     "data": {
      "text/plain": [
       "Suburb               0\n",
       "Rooms                0\n",
       "Type                 0\n",
       "Method               0\n",
       "SellerG              0\n",
       "Regionname           0\n",
       "Propertycount        3\n",
       "Distance             1\n",
       "CouncilArea          3\n",
       "Bedroom           8217\n",
       "Bathroom          8226\n",
       "Car               8728\n",
       "Landsize         11810\n",
       "BuildingArea     21097\n",
       "YearBuilt        19306\n",
       "Price             7610\n",
       "dtype: int64"
      ]
     },
     "execution_count": 13,
     "metadata": {},
     "output_type": "execute_result"
    }
   ],
   "source": [
    "df.isna().sum()"
   ]
  },
  {
   "cell_type": "code",
   "execution_count": 14,
   "id": "a0b5f5e0-595b-441e-ac08-97e08593e2ce",
   "metadata": {},
   "outputs": [],
   "source": [
    "# Filling the selected columns Nan rows with zero \n",
    "fill_zero_cols = ['Propertycount', 'Distance', 'Bedroom', 'Bathroom', 'Car']\n",
    "df[fill_zero_cols] = df[fill_zero_cols].fillna(0)"
   ]
  },
  {
   "cell_type": "code",
   "execution_count": 15,
   "id": "cb362cd3-2a5d-4d1e-98fd-688d4577ee29",
   "metadata": {},
   "outputs": [
    {
     "data": {
      "text/plain": [
       "Suburb               0\n",
       "Rooms                0\n",
       "Type                 0\n",
       "Method               0\n",
       "SellerG              0\n",
       "Regionname           0\n",
       "Propertycount        0\n",
       "Distance             0\n",
       "CouncilArea          3\n",
       "Bedroom              0\n",
       "Bathroom             0\n",
       "Car                  0\n",
       "Landsize         11810\n",
       "BuildingArea     21097\n",
       "YearBuilt        19306\n",
       "Price             7610\n",
       "dtype: int64"
      ]
     },
     "execution_count": 15,
     "metadata": {},
     "output_type": "execute_result"
    }
   ],
   "source": [
    "df.isna().sum()"
   ]
  },
  {
   "cell_type": "code",
   "execution_count": 16,
   "id": "fa8e227e-52ce-48ee-9afd-2af6f2a39541",
   "metadata": {},
   "outputs": [
    {
     "data": {
      "text/plain": [
       "array(['inf', '225', '82', '122', '263', '242', '108', '251', '117',\n",
       "       'missing', '76', '135', '399', '118', '103', '180', nan, '123',\n",
       "       '218', '129', '167', '154', '275', '121', '146', '125', '255',\n",
       "       '94', '75', '254', '156', '404', '240', '370', '268', '202', '203',\n",
       "       '69', '140', '214', '253', '189', '215', '195', '96', '104', '100',\n",
       "       '313', '144', '130', '64', '93', '106', '107', '110', '70', '132',\n",
       "       '229', '51', '147', '113', '83', '56', '137', '85', '175', '3558',\n",
       "       '170', '259', '265', '353', '138', '19', '116', '87', '74', '320',\n",
       "       '300', '52', '210', '120', '86', '97', '152', '200', '14', '161',\n",
       "       '128', '178', '185', '109', '53', '133', '115', '143', '150',\n",
       "       '236', '276', '188', '179', '249', '141', '349', '192', '34', '73',\n",
       "       '84', '81', '207', '50', '197', '264', '312', '235', '221', '260',\n",
       "       '183', '160', '186', '78', '105', '145', '168', '62', '111', '220',\n",
       "       '315', '181', '500', '61', '112', '420', '226', '266', '410',\n",
       "       '449', '356', '477', '205', '250', '95', '190', '193', '58', '136',\n",
       "       '284', '432', '258', '247', '162', '213', '174', '209', '119',\n",
       "       '348', '238', '166', '44', '134', '176', '98', '159', '79', '71',\n",
       "       '60', '33', '89', '230', '217', '3', '127', '187', '228', '99',\n",
       "       '49', '201', '12', '63', '223', '102', '327', '4', '16', '165',\n",
       "       '65', '139', '280', '67', '272', '38', '172', '182', '211', '153',\n",
       "       '169', '66', '285', '91', '374', '163', '288', '124', '227', '233',\n",
       "       '2', '39', '151', '279', '405', '252', '199', '158', '126', '80',\n",
       "       '57', '142', '36', '77', '435', '92', '149', '114', '594', '274',\n",
       "       '40', '68', '164', '350', '204', '481', '257', '323', '314', '157',\n",
       "       '378', '55', '309', '88', '54', '90', '148', '243', '47', '191',\n",
       "       '335', '808', '302', '326', '520', '212', '222', '171', '360',\n",
       "       '101', '325', '267', '342', '196', '256', '15', '155', '234', '72',\n",
       "       '330', '177', '341', '340', '394', '245', '270', '42', '232',\n",
       "       '131', '297', '237', '194', '173', '46', '465', '301', '303', '45',\n",
       "       '387', '206', '365', '445', '283', '321', '37', '304', '244',\n",
       "       '305', '43', '41', '22', '467', '287', '393', '59', '292', '618',\n",
       "       '792', '355', '1044', '398', '334', '395', '298', '371', '351',\n",
       "       '248', '224', '426', '286', '308', '1', '198', '291', '331', '277',\n",
       "       '208', '281', '216', '262', '364', '278', '30', '362', '184', '25',\n",
       "       '558', '375', '508', '372', '246', '289', '347', '241', '475',\n",
       "       '412', '413', '400', '593', '101.37', '142.1', '219', '239',\n",
       "       '123.21', '140.7481', '86.5', '30.6', '225.5', '322', '409.54',\n",
       "       '26', '3647', '156.6', '156.5', '544', '227.6', '190.36', '104.63',\n",
       "       '443', '167.13', '148.5', '270.18', '53.3', '98.5', '157.9351',\n",
       "       '328', '54.5', '213.23', '94.3', '4645', '21', '310', '95.88',\n",
       "       '329.24', '261', '105.7', '72.9', '45.4', '69.5', '221.3', '121.6',\n",
       "       '113.2', '186.75', '290', '540', '98.7', '127.8', '231', '268.6',\n",
       "       '106.4', '311', '389', '0', '332', '296', '269', '306', '380',\n",
       "       '367', '48', '346', '35', '5', '294', '524', '28', '458', '195.3',\n",
       "       '385', '196.8', '106.2', '32', '424', '20', '430', '511', '531',\n",
       "       '333', '72.3', '66.23', '101.51', '112.6', '112.9', '316', '99.5',\n",
       "       '77.5', '9', '293', '131.3', '105.23', '352', '391', '121.8',\n",
       "       '82.6', '136.49', '125.6', '502', '125.51', '680', '157.9352',\n",
       "       '126.8', '100.6', '44.4', '198.6', '390', '151.54', '397', '425',\n",
       "       '495', '318', '273', '345', '564', '363', '584', '958', '354',\n",
       "       '622', '337', '317', '529', '697', '602', '6791', '358', '282',\n",
       "       '534', '429', '411', '532', '802', '373', '324', '180.9',\n",
       "       '826.8367', '572', '366', '307', '625', '419', '94.5', '392',\n",
       "       '116.65', '11', '134.6', '183.84', '431', '126.7', '157.85', '18',\n",
       "       '450', '295', '726', '503', '447', '271', '416', '640', '428',\n",
       "       '660', '463', '361', '782', '496', '735', '173.45', '134.3',\n",
       "       '464.3', '76.77', '113.76', '107.4', '255.79', '186.36', '490',\n",
       "       '103.6', '63.7', '162.52', '106.76', '39.5', '423', '329', '319',\n",
       "       '437', '453', '472', '418', '487', '31', '155.4', '116.4',\n",
       "       '182.85', '109.5', '129.7', '665', '148.47', '114.39', '553',\n",
       "       '182.9', '184.75', '193.74', '68.5', '336', '719', '3112', '460',\n",
       "       '344', '414', '525', '1561', '454', '720', '415', '381', '677',\n",
       "       '439', '857', '23', '377', '512', '664', '406', '521', '408',\n",
       "       '6178', '478', '654', '727', '417', '560', '168.01', '306.19',\n",
       "       '515.78', '196.1', '789', '131.27', '167.87', '183.97', '271.5',\n",
       "       '199.5', '29', '446', '75.45', '165.5', '629', '144.65', '263.5',\n",
       "       '585', '516', '17', '27', '444', '427', '338', '506', '643', '518',\n",
       "       '13', '1022', '339', '461', '376', '513', '491', '836', '464',\n",
       "       '386', '603', '613', '179.3', '142.6', '92.9', '147.2', '225.98',\n",
       "       '301.08', '113.81', '401', '737', '784', '530', '82.3', '110.87',\n",
       "       '402', '673', '109.98', '122.25', '105.9', '101.7', '106.9',\n",
       "       '93.82', '132.6', '154.3', '178.74', '88.3', '80.7', '89.25',\n",
       "       '181.6', '299', '104.4', '180.56', '123.5', '542', '1143', '575',\n",
       "       '859', '653', '999', '44515', '438', '686', '649', '357', '121.63',\n",
       "       '736', '371.6122', '199.73', '118.54', '412.31', '298.21', '88.74',\n",
       "       '122.6', '369', '169.5', '42.2', '489', '135.5', '266.76', '272.4',\n",
       "       '0.01', '229.8', '177.8', '139.4', '700', '766', '538', '528',\n",
       "       '650', '434', '368', '2002', '557', '7', '396', '924', '638',\n",
       "       '101.76', '634', '195.0964', '470', '130.52', '547', '111.04',\n",
       "       '63.4', '271.47', '92.5', '115.96', '121.84', '122.86', '114.2',\n",
       "       '266.53', '78.54', '85.35', '1041', '607', '407', '440', '10',\n",
       "       '501', '474', '448', '466', '739', '379', '614', '421', '231.33',\n",
       "       '68.11', '153.1', '85.2', '80.74', '93.84', '124.45', '210.68',\n",
       "       '145.4', '160.91', '200.71', '285.7', '100.8', '81.79', '934',\n",
       "       '703', '129.92', '436.64', '43.7', '113.6', '66.32', '35.64',\n",
       "       '61.6', '388.5', '672'], dtype=object)"
      ]
     },
     "execution_count": 16,
     "metadata": {},
     "output_type": "execute_result"
    }
   ],
   "source": [
    "df['BuildingArea'].unique()"
   ]
  },
  {
   "cell_type": "code",
   "execution_count": 17,
   "id": "cabb77fd-3793-4bbe-8438-9641f7dd40c0",
   "metadata": {},
   "outputs": [],
   "source": [
    "# Replacing non int values with None\n",
    "df['BuildingArea'] = df['BuildingArea'].replace(['inf', 'missing', 'nan', None], np.NaN)"
   ]
  },
  {
   "cell_type": "code",
   "execution_count": 18,
   "id": "ffd75c1e-8896-415f-aea0-0a7d906839a4",
   "metadata": {},
   "outputs": [
    {
     "data": {
      "text/plain": [
       "array([nan, '225', '82', '122', '263', '242', '108', '251', '117', '76',\n",
       "       '135', '399', '118', '103', '180', '123', '218', '129', '167',\n",
       "       '154', '275', '121', '146', '125', '255', '94', '75', '254', '156',\n",
       "       '404', '240', '370', '268', '202', '203', '69', '140', '214',\n",
       "       '253', '189', '215', '195', '96', '104', '100', '313', '144',\n",
       "       '130', '64', '93', '106', '107', '110', '70', '132', '229', '51',\n",
       "       '147', '113', '83', '56', '137', '85', '175', '3558', '170', '259',\n",
       "       '265', '353', '138', '19', '116', '87', '74', '320', '300', '52',\n",
       "       '210', '120', '86', '97', '152', '200', '14', '161', '128', '178',\n",
       "       '185', '109', '53', '133', '115', '143', '150', '236', '276',\n",
       "       '188', '179', '249', '141', '349', '192', '34', '73', '84', '81',\n",
       "       '207', '50', '197', '264', '312', '235', '221', '260', '183',\n",
       "       '160', '186', '78', '105', '145', '168', '62', '111', '220', '315',\n",
       "       '181', '500', '61', '112', '420', '226', '266', '410', '449',\n",
       "       '356', '477', '205', '250', '95', '190', '193', '58', '136', '284',\n",
       "       '432', '258', '247', '162', '213', '174', '209', '119', '348',\n",
       "       '238', '166', '44', '134', '176', '98', '159', '79', '71', '60',\n",
       "       '33', '89', '230', '217', '3', '127', '187', '228', '99', '49',\n",
       "       '201', '12', '63', '223', '102', '327', '4', '16', '165', '65',\n",
       "       '139', '280', '67', '272', '38', '172', '182', '211', '153', '169',\n",
       "       '66', '285', '91', '374', '163', '288', '124', '227', '233', '2',\n",
       "       '39', '151', '279', '405', '252', '199', '158', '126', '80', '57',\n",
       "       '142', '36', '77', '435', '92', '149', '114', '594', '274', '40',\n",
       "       '68', '164', '350', '204', '481', '257', '323', '314', '157',\n",
       "       '378', '55', '309', '88', '54', '90', '148', '243', '47', '191',\n",
       "       '335', '808', '302', '326', '520', '212', '222', '171', '360',\n",
       "       '101', '325', '267', '342', '196', '256', '15', '155', '234', '72',\n",
       "       '330', '177', '341', '340', '394', '245', '270', '42', '232',\n",
       "       '131', '297', '237', '194', '173', '46', '465', '301', '303', '45',\n",
       "       '387', '206', '365', '445', '283', '321', '37', '304', '244',\n",
       "       '305', '43', '41', '22', '467', '287', '393', '59', '292', '618',\n",
       "       '792', '355', '1044', '398', '334', '395', '298', '371', '351',\n",
       "       '248', '224', '426', '286', '308', '1', '198', '291', '331', '277',\n",
       "       '208', '281', '216', '262', '364', '278', '30', '362', '184', '25',\n",
       "       '558', '375', '508', '372', '246', '289', '347', '241', '475',\n",
       "       '412', '413', '400', '593', '101.37', '142.1', '219', '239',\n",
       "       '123.21', '140.7481', '86.5', '30.6', '225.5', '322', '409.54',\n",
       "       '26', '3647', '156.6', '156.5', '544', '227.6', '190.36', '104.63',\n",
       "       '443', '167.13', '148.5', '270.18', '53.3', '98.5', '157.9351',\n",
       "       '328', '54.5', '213.23', '94.3', '4645', '21', '310', '95.88',\n",
       "       '329.24', '261', '105.7', '72.9', '45.4', '69.5', '221.3', '121.6',\n",
       "       '113.2', '186.75', '290', '540', '98.7', '127.8', '231', '268.6',\n",
       "       '106.4', '311', '389', '0', '332', '296', '269', '306', '380',\n",
       "       '367', '48', '346', '35', '5', '294', '524', '28', '458', '195.3',\n",
       "       '385', '196.8', '106.2', '32', '424', '20', '430', '511', '531',\n",
       "       '333', '72.3', '66.23', '101.51', '112.6', '112.9', '316', '99.5',\n",
       "       '77.5', '9', '293', '131.3', '105.23', '352', '391', '121.8',\n",
       "       '82.6', '136.49', '125.6', '502', '125.51', '680', '157.9352',\n",
       "       '126.8', '100.6', '44.4', '198.6', '390', '151.54', '397', '425',\n",
       "       '495', '318', '273', '345', '564', '363', '584', '958', '354',\n",
       "       '622', '337', '317', '529', '697', '602', '6791', '358', '282',\n",
       "       '534', '429', '411', '532', '802', '373', '324', '180.9',\n",
       "       '826.8367', '572', '366', '307', '625', '419', '94.5', '392',\n",
       "       '116.65', '11', '134.6', '183.84', '431', '126.7', '157.85', '18',\n",
       "       '450', '295', '726', '503', '447', '271', '416', '640', '428',\n",
       "       '660', '463', '361', '782', '496', '735', '173.45', '134.3',\n",
       "       '464.3', '76.77', '113.76', '107.4', '255.79', '186.36', '490',\n",
       "       '103.6', '63.7', '162.52', '106.76', '39.5', '423', '329', '319',\n",
       "       '437', '453', '472', '418', '487', '31', '155.4', '116.4',\n",
       "       '182.85', '109.5', '129.7', '665', '148.47', '114.39', '553',\n",
       "       '182.9', '184.75', '193.74', '68.5', '336', '719', '3112', '460',\n",
       "       '344', '414', '525', '1561', '454', '720', '415', '381', '677',\n",
       "       '439', '857', '23', '377', '512', '664', '406', '521', '408',\n",
       "       '6178', '478', '654', '727', '417', '560', '168.01', '306.19',\n",
       "       '515.78', '196.1', '789', '131.27', '167.87', '183.97', '271.5',\n",
       "       '199.5', '29', '446', '75.45', '165.5', '629', '144.65', '263.5',\n",
       "       '585', '516', '17', '27', '444', '427', '338', '506', '643', '518',\n",
       "       '13', '1022', '339', '461', '376', '513', '491', '836', '464',\n",
       "       '386', '603', '613', '179.3', '142.6', '92.9', '147.2', '225.98',\n",
       "       '301.08', '113.81', '401', '737', '784', '530', '82.3', '110.87',\n",
       "       '402', '673', '109.98', '122.25', '105.9', '101.7', '106.9',\n",
       "       '93.82', '132.6', '154.3', '178.74', '88.3', '80.7', '89.25',\n",
       "       '181.6', '299', '104.4', '180.56', '123.5', '542', '1143', '575',\n",
       "       '859', '653', '999', '44515', '438', '686', '649', '357', '121.63',\n",
       "       '736', '371.6122', '199.73', '118.54', '412.31', '298.21', '88.74',\n",
       "       '122.6', '369', '169.5', '42.2', '489', '135.5', '266.76', '272.4',\n",
       "       '0.01', '229.8', '177.8', '139.4', '700', '766', '538', '528',\n",
       "       '650', '434', '368', '2002', '557', '7', '396', '924', '638',\n",
       "       '101.76', '634', '195.0964', '470', '130.52', '547', '111.04',\n",
       "       '63.4', '271.47', '92.5', '115.96', '121.84', '122.86', '114.2',\n",
       "       '266.53', '78.54', '85.35', '1041', '607', '407', '440', '10',\n",
       "       '501', '474', '448', '466', '739', '379', '614', '421', '231.33',\n",
       "       '68.11', '153.1', '85.2', '80.74', '93.84', '124.45', '210.68',\n",
       "       '145.4', '160.91', '200.71', '285.7', '100.8', '81.79', '934',\n",
       "       '703', '129.92', '436.64', '43.7', '113.6', '66.32', '35.64',\n",
       "       '61.6', '388.5', '672'], dtype=object)"
      ]
     },
     "execution_count": 18,
     "metadata": {},
     "output_type": "execute_result"
    }
   ],
   "source": [
    "df['BuildingArea'].unique()"
   ]
  },
  {
   "cell_type": "code",
   "execution_count": 19,
   "id": "aa354696-0cbf-43b9-a0bb-25de5d30b693",
   "metadata": {},
   "outputs": [],
   "source": [
    "# Converting BuildingArea datatype to float\n",
    "df['BuildingArea'] = df['BuildingArea'].astype('float')"
   ]
  },
  {
   "cell_type": "code",
   "execution_count": 20,
   "id": "e642ac7d-0797-4c53-922d-8d62642fe6f8",
   "metadata": {},
   "outputs": [
    {
     "name": "stdout",
     "output_type": "stream",
     "text": [
      "<class 'pandas.core.series.Series'>\n",
      "RangeIndex: 34857 entries, 0 to 34856\n",
      "Series name: BuildingArea\n",
      "Non-Null Count  Dtype  \n",
      "--------------  -----  \n",
      "13742 non-null  float64\n",
      "dtypes: float64(1)\n",
      "memory usage: 272.4 KB\n"
     ]
    }
   ],
   "source": [
    "df['BuildingArea'].info()"
   ]
  },
  {
   "cell_type": "code",
   "execution_count": 21,
   "id": "04f6c0f5-3b95-48f5-811e-f6f3997667bf",
   "metadata": {},
   "outputs": [],
   "source": [
    "# Filling selected columns with their mean\n",
    "df['Landsize'] = df['Landsize'].fillna(df['Landsize'].mean())\n",
    "df['BuildingArea'] = df['BuildingArea'].fillna(df['BuildingArea'].mean())"
   ]
  },
  {
   "cell_type": "code",
   "execution_count": 22,
   "id": "684ffe1f-1af2-4dc0-ae84-d48a7d243d99",
   "metadata": {},
   "outputs": [
    {
     "data": {
      "text/plain": [
       "Suburb               0\n",
       "Rooms                0\n",
       "Type                 0\n",
       "Method               0\n",
       "SellerG              0\n",
       "Regionname           0\n",
       "Propertycount        0\n",
       "Distance             0\n",
       "CouncilArea          3\n",
       "Bedroom              0\n",
       "Bathroom             0\n",
       "Car                  0\n",
       "Landsize             0\n",
       "BuildingArea         0\n",
       "YearBuilt        19306\n",
       "Price             7610\n",
       "dtype: int64"
      ]
     },
     "execution_count": 22,
     "metadata": {},
     "output_type": "execute_result"
    }
   ],
   "source": [
    "df.isna().sum()"
   ]
  },
  {
   "cell_type": "code",
   "execution_count": 23,
   "id": "a3137308-40d6-4070-beaf-e03b5f8ec230",
   "metadata": {},
   "outputs": [
    {
     "data": {
      "text/plain": [
       "array([9.58, 8.1 , 7.  , 4.67, 3.9 , 3.67, 3.5 , 3.41, 2.96, 2.86, 2.61,\n",
       "       2.49, 2.35, 2.32, 2.14, 1.77, 1.67, 1.59, 1.55, 1.47, 1.47, 1.38,\n",
       "       1.36, 1.3 , 1.29, 1.14, 1.1 , 1.09, 1.07, 1.05, 1.  , 0.92, 0.84,\n",
       "       0.84, 0.81, 0.8 , 0.73, 0.7 , 0.64, 0.58, 0.53, 0.48, 0.39, 0.37,\n",
       "       0.34, 0.32, 0.3 , 0.3 , 0.28, 0.26, 0.24, 0.24, 0.21, 0.21, 0.19,\n",
       "       0.18, 0.17, 0.16, 0.16, 0.16, 0.15, 0.15, 0.15, 0.15, 0.15, 0.14,\n",
       "       0.14, 0.14, 0.13, 0.13, 0.12, 0.12, 0.11, 0.11, 0.1 , 0.1 , 0.1 ,\n",
       "       0.1 , 0.08, 0.08, 0.08, 0.08, 0.07, 0.07, 0.07, 0.07, 0.06, 0.06,\n",
       "       0.06, 0.06, 0.06, 0.06, 0.05, 0.05, 0.05, 0.05, 0.05, 0.05, 0.05,\n",
       "       0.04, 0.04, 0.04, 0.04, 0.04, 0.04, 0.04, 0.04, 0.04, 0.03, 0.03,\n",
       "       0.03, 0.03, 0.03, 0.03, 0.03, 0.03, 0.03, 0.03, 0.03, 0.03, 0.02,\n",
       "       0.02, 0.02, 0.02, 0.02, 0.02, 0.02, 0.02, 0.02, 0.02, 0.01, 0.01,\n",
       "       0.01, 0.01, 0.01, 0.01, 0.01, 0.01, 0.01, 0.01, 0.01, 0.01, 0.01,\n",
       "       0.01, 0.01, 0.01, 0.01, 0.01, 0.01, 0.01, 0.01, 0.01, 0.01, 0.01,\n",
       "       0.01, 0.01, 0.01, 0.01, 0.01, 0.01])"
      ]
     },
     "execution_count": 23,
     "metadata": {},
     "output_type": "execute_result"
    }
   ],
   "source": [
    "# Checking the percentage of each unique value in 'YearBuilt' column\n",
    "(df['YearBuilt'].value_counts(normalize = True).values * 100).round(2)"
   ]
  },
  {
   "cell_type": "code",
   "execution_count": 24,
   "id": "3de334b4-4586-4c5b-886a-a5eca1a8bd52",
   "metadata": {},
   "outputs": [],
   "source": [
    "# Function to fill null rows in YearBuilt with their proportionate values\n",
    "def replace_with_percentage(df: pd.DataFrame, col: float(), new_col: float()) -> pd.DataFrame:\n",
    "    # Copy the original column to the new column\n",
    "    df[new_col] = df[col].copy()\n",
    "\n",
    "    # Find rows with NaN in the new column\n",
    "    null_rows = df[new_col].isnull()\n",
    "    \n",
    "    # Get value counts of unique values in the column\n",
    "    unique_value_count = df[col].value_counts(normalize=True)\n",
    "    \n",
    "    # Create a list of values based on their percentage\n",
    "    values = unique_value_count.index.tolist()\n",
    "    weights = unique_value_count.values.tolist()\n",
    "\n",
    "    # Randomly assign values to NaN rows in the new column based on percentage distribution\n",
    "    df.loc[null_rows, new_col] = np.random.choice(values, size=null_rows.sum(), p=weights)\n",
    "    \n",
    "    return df"
   ]
  },
  {
   "cell_type": "code",
   "execution_count": 25,
   "id": "5a5527b5-17bf-4703-9792-91bbd0ffa9e2",
   "metadata": {},
   "outputs": [
    {
     "data": {
      "text/html": [
       "<div>\n",
       "<style scoped>\n",
       "    .dataframe tbody tr th:only-of-type {\n",
       "        vertical-align: middle;\n",
       "    }\n",
       "\n",
       "    .dataframe tbody tr th {\n",
       "        vertical-align: top;\n",
       "    }\n",
       "\n",
       "    .dataframe thead th {\n",
       "        text-align: right;\n",
       "    }\n",
       "</style>\n",
       "<table border=\"1\" class=\"dataframe\">\n",
       "  <thead>\n",
       "    <tr style=\"text-align: right;\">\n",
       "      <th></th>\n",
       "      <th>Suburb</th>\n",
       "      <th>Rooms</th>\n",
       "      <th>Type</th>\n",
       "      <th>Method</th>\n",
       "      <th>SellerG</th>\n",
       "      <th>Regionname</th>\n",
       "      <th>Propertycount</th>\n",
       "      <th>Distance</th>\n",
       "      <th>CouncilArea</th>\n",
       "      <th>Bedroom</th>\n",
       "      <th>Bathroom</th>\n",
       "      <th>Car</th>\n",
       "      <th>Landsize</th>\n",
       "      <th>BuildingArea</th>\n",
       "      <th>YearBuilt</th>\n",
       "      <th>Price</th>\n",
       "      <th>YearBuilt_</th>\n",
       "    </tr>\n",
       "  </thead>\n",
       "  <tbody>\n",
       "    <tr>\n",
       "      <th>0</th>\n",
       "      <td>Abbotsford</td>\n",
       "      <td>2</td>\n",
       "      <td>h</td>\n",
       "      <td>SS</td>\n",
       "      <td>Jellis</td>\n",
       "      <td>Northern Metropolitan</td>\n",
       "      <td>4019.0</td>\n",
       "      <td>2.5</td>\n",
       "      <td>Yarra City Council</td>\n",
       "      <td>2.0</td>\n",
       "      <td>1.0</td>\n",
       "      <td>1.0</td>\n",
       "      <td>126.0</td>\n",
       "      <td>160.2564</td>\n",
       "      <td>NaN</td>\n",
       "      <td>NaN</td>\n",
       "      <td>1975.0</td>\n",
       "    </tr>\n",
       "    <tr>\n",
       "      <th>1</th>\n",
       "      <td>Airport West</td>\n",
       "      <td>3</td>\n",
       "      <td>t</td>\n",
       "      <td>PI</td>\n",
       "      <td>Nelson</td>\n",
       "      <td>Western Metropolitan</td>\n",
       "      <td>3464.0</td>\n",
       "      <td>13.5</td>\n",
       "      <td>Moonee Valley City Council</td>\n",
       "      <td>3.0</td>\n",
       "      <td>2.0</td>\n",
       "      <td>1.0</td>\n",
       "      <td>303.0</td>\n",
       "      <td>225.0000</td>\n",
       "      <td>2016.0</td>\n",
       "      <td>840000.0</td>\n",
       "      <td>2016.0</td>\n",
       "    </tr>\n",
       "    <tr>\n",
       "      <th>2</th>\n",
       "      <td>Albert Park</td>\n",
       "      <td>2</td>\n",
       "      <td>h</td>\n",
       "      <td>S</td>\n",
       "      <td>hockingstuart</td>\n",
       "      <td>Southern Metropolitan</td>\n",
       "      <td>3280.0</td>\n",
       "      <td>3.3</td>\n",
       "      <td>Port Phillip City Council</td>\n",
       "      <td>2.0</td>\n",
       "      <td>1.0</td>\n",
       "      <td>0.0</td>\n",
       "      <td>120.0</td>\n",
       "      <td>82.0000</td>\n",
       "      <td>1900.0</td>\n",
       "      <td>1275000.0</td>\n",
       "      <td>1900.0</td>\n",
       "    </tr>\n",
       "    <tr>\n",
       "      <th>3</th>\n",
       "      <td>Albert Park</td>\n",
       "      <td>2</td>\n",
       "      <td>h</td>\n",
       "      <td>S</td>\n",
       "      <td>Thomson</td>\n",
       "      <td>Southern Metropolitan</td>\n",
       "      <td>3280.0</td>\n",
       "      <td>3.3</td>\n",
       "      <td>Port Phillip City Council</td>\n",
       "      <td>2.0</td>\n",
       "      <td>1.0</td>\n",
       "      <td>0.0</td>\n",
       "      <td>159.0</td>\n",
       "      <td>160.2564</td>\n",
       "      <td>NaN</td>\n",
       "      <td>1455000.0</td>\n",
       "      <td>1890.0</td>\n",
       "    </tr>\n",
       "    <tr>\n",
       "      <th>4</th>\n",
       "      <td>Alphington</td>\n",
       "      <td>3</td>\n",
       "      <td>h</td>\n",
       "      <td>SN</td>\n",
       "      <td>McGrath</td>\n",
       "      <td>Northern Metropolitan</td>\n",
       "      <td>2211.0</td>\n",
       "      <td>6.4</td>\n",
       "      <td>Darebin City Council</td>\n",
       "      <td>3.0</td>\n",
       "      <td>2.0</td>\n",
       "      <td>1.0</td>\n",
       "      <td>174.0</td>\n",
       "      <td>122.0000</td>\n",
       "      <td>2003.0</td>\n",
       "      <td>NaN</td>\n",
       "      <td>2003.0</td>\n",
       "    </tr>\n",
       "  </tbody>\n",
       "</table>\n",
       "</div>"
      ],
      "text/plain": [
       "         Suburb  Rooms Type Method        SellerG             Regionname  \\\n",
       "0    Abbotsford      2    h     SS         Jellis  Northern Metropolitan   \n",
       "1  Airport West      3    t     PI         Nelson   Western Metropolitan   \n",
       "2   Albert Park      2    h      S  hockingstuart  Southern Metropolitan   \n",
       "3   Albert Park      2    h      S        Thomson  Southern Metropolitan   \n",
       "4    Alphington      3    h     SN        McGrath  Northern Metropolitan   \n",
       "\n",
       "   Propertycount  Distance                 CouncilArea  Bedroom  Bathroom  \\\n",
       "0         4019.0       2.5          Yarra City Council      2.0       1.0   \n",
       "1         3464.0      13.5  Moonee Valley City Council      3.0       2.0   \n",
       "2         3280.0       3.3   Port Phillip City Council      2.0       1.0   \n",
       "3         3280.0       3.3   Port Phillip City Council      2.0       1.0   \n",
       "4         2211.0       6.4        Darebin City Council      3.0       2.0   \n",
       "\n",
       "   Car  Landsize  BuildingArea  YearBuilt      Price  YearBuilt_  \n",
       "0  1.0     126.0      160.2564        NaN        NaN      1975.0  \n",
       "1  1.0     303.0      225.0000     2016.0   840000.0      2016.0  \n",
       "2  0.0     120.0       82.0000     1900.0  1275000.0      1900.0  \n",
       "3  0.0     159.0      160.2564        NaN  1455000.0      1890.0  \n",
       "4  1.0     174.0      122.0000     2003.0        NaN      2003.0  "
      ]
     },
     "execution_count": 25,
     "metadata": {},
     "output_type": "execute_result"
    }
   ],
   "source": [
    "# Replace NaN with values according to their percentage in a new column 'YearBuilt_'\n",
    "df = replace_with_percentage(df, 'YearBuilt', 'YearBuilt_')\n",
    "df.head(5)"
   ]
  },
  {
   "cell_type": "code",
   "execution_count": 26,
   "id": "b49ae604-63e8-4b33-a3cd-89a97e5a4486",
   "metadata": {},
   "outputs": [
    {
     "data": {
      "text/plain": [
       "dtype('float64')"
      ]
     },
     "execution_count": 26,
     "metadata": {},
     "output_type": "execute_result"
    }
   ],
   "source": [
    "df['YearBuilt_'].dtype"
   ]
  },
  {
   "cell_type": "code",
   "execution_count": 27,
   "id": "1930e643-8b37-433f-9fd5-fc1404cb4fb8",
   "metadata": {},
   "outputs": [],
   "source": [
    "# dropping YearBuilt column\n",
    "df1 = df.drop(columns ='YearBuilt', axis = 1)"
   ]
  },
  {
   "cell_type": "code",
   "execution_count": 28,
   "id": "698ef2b1-16d4-4f5d-aa69-143dbb359a83",
   "metadata": {},
   "outputs": [
    {
     "data": {
      "text/html": [
       "<div>\n",
       "<style scoped>\n",
       "    .dataframe tbody tr th:only-of-type {\n",
       "        vertical-align: middle;\n",
       "    }\n",
       "\n",
       "    .dataframe tbody tr th {\n",
       "        vertical-align: top;\n",
       "    }\n",
       "\n",
       "    .dataframe thead th {\n",
       "        text-align: right;\n",
       "    }\n",
       "</style>\n",
       "<table border=\"1\" class=\"dataframe\">\n",
       "  <thead>\n",
       "    <tr style=\"text-align: right;\">\n",
       "      <th></th>\n",
       "      <th>Suburb</th>\n",
       "      <th>Rooms</th>\n",
       "      <th>Type</th>\n",
       "      <th>Method</th>\n",
       "      <th>SellerG</th>\n",
       "      <th>Regionname</th>\n",
       "      <th>Propertycount</th>\n",
       "      <th>Distance</th>\n",
       "      <th>CouncilArea</th>\n",
       "      <th>Bedroom</th>\n",
       "      <th>Bathroom</th>\n",
       "      <th>Car</th>\n",
       "      <th>Landsize</th>\n",
       "      <th>BuildingArea</th>\n",
       "      <th>Price</th>\n",
       "      <th>YearBuilt_</th>\n",
       "    </tr>\n",
       "  </thead>\n",
       "  <tbody>\n",
       "    <tr>\n",
       "      <th>0</th>\n",
       "      <td>Abbotsford</td>\n",
       "      <td>2</td>\n",
       "      <td>h</td>\n",
       "      <td>SS</td>\n",
       "      <td>Jellis</td>\n",
       "      <td>Northern Metropolitan</td>\n",
       "      <td>4019.0</td>\n",
       "      <td>2.5</td>\n",
       "      <td>Yarra City Council</td>\n",
       "      <td>2.0</td>\n",
       "      <td>1.0</td>\n",
       "      <td>1.0</td>\n",
       "      <td>126.0</td>\n",
       "      <td>160.2564</td>\n",
       "      <td>NaN</td>\n",
       "      <td>1975.0</td>\n",
       "    </tr>\n",
       "  </tbody>\n",
       "</table>\n",
       "</div>"
      ],
      "text/plain": [
       "       Suburb  Rooms Type Method SellerG             Regionname  \\\n",
       "0  Abbotsford      2    h     SS  Jellis  Northern Metropolitan   \n",
       "\n",
       "   Propertycount  Distance         CouncilArea  Bedroom  Bathroom  Car  \\\n",
       "0         4019.0       2.5  Yarra City Council      2.0       1.0  1.0   \n",
       "\n",
       "   Landsize  BuildingArea  Price  YearBuilt_  \n",
       "0     126.0      160.2564    NaN      1975.0  "
      ]
     },
     "execution_count": 28,
     "metadata": {},
     "output_type": "execute_result"
    }
   ],
   "source": [
    "df1.head(1)"
   ]
  },
  {
   "cell_type": "code",
   "execution_count": 29,
   "id": "3775cee8-2088-46c5-ad3d-3b1c7bcd4b74",
   "metadata": {},
   "outputs": [
    {
     "data": {
      "text/plain": [
       "Suburb              0\n",
       "Rooms               0\n",
       "Type                0\n",
       "Method              0\n",
       "SellerG             0\n",
       "Regionname          0\n",
       "Propertycount       0\n",
       "Distance            0\n",
       "CouncilArea         3\n",
       "Bedroom             0\n",
       "Bathroom            0\n",
       "Car                 0\n",
       "Landsize            0\n",
       "BuildingArea        0\n",
       "Price            7610\n",
       "YearBuilt_          0\n",
       "dtype: int64"
      ]
     },
     "execution_count": 29,
     "metadata": {},
     "output_type": "execute_result"
    }
   ],
   "source": [
    "df1.isnull().sum()"
   ]
  },
  {
   "cell_type": "code",
   "execution_count": 30,
   "id": "115c513e-697a-430a-b3dc-751f470fa1a5",
   "metadata": {},
   "outputs": [],
   "source": [
    "# Dropping null values in the dataframe\n",
    "df1.dropna(inplace = True)"
   ]
  },
  {
   "cell_type": "code",
   "execution_count": 31,
   "id": "9109b295-893d-470b-b082-8a80b8828d7a",
   "metadata": {},
   "outputs": [
    {
     "data": {
      "text/plain": [
       "Suburb           0\n",
       "Rooms            0\n",
       "Type             0\n",
       "Method           0\n",
       "SellerG          0\n",
       "Regionname       0\n",
       "Propertycount    0\n",
       "Distance         0\n",
       "CouncilArea      0\n",
       "Bedroom          0\n",
       "Bathroom         0\n",
       "Car              0\n",
       "Landsize         0\n",
       "BuildingArea     0\n",
       "Price            0\n",
       "YearBuilt_       0\n",
       "dtype: int64"
      ]
     },
     "execution_count": 31,
     "metadata": {},
     "output_type": "execute_result"
    }
   ],
   "source": [
    "df1.isna().sum()"
   ]
  },
  {
   "cell_type": "code",
   "execution_count": 32,
   "id": "9b389255-7479-4a45-9a84-98284816b2c1",
   "metadata": {},
   "outputs": [
    {
     "data": {
      "text/plain": [
       "Suburb            object\n",
       "Rooms              int64\n",
       "Type              object\n",
       "Method            object\n",
       "SellerG           object\n",
       "Regionname        object\n",
       "Propertycount    float64\n",
       "Distance         float64\n",
       "CouncilArea       object\n",
       "Bedroom          float64\n",
       "Bathroom         float64\n",
       "Car              float64\n",
       "Landsize         float64\n",
       "BuildingArea     float64\n",
       "Price            float64\n",
       "YearBuilt_       float64\n",
       "dtype: object"
      ]
     },
     "execution_count": 32,
     "metadata": {},
     "output_type": "execute_result"
    }
   ],
   "source": [
    "df1.dtypes"
   ]
  },
  {
   "cell_type": "code",
   "execution_count": 33,
   "id": "5ab8d31e-5439-4b6a-a4bb-5bf731172ff5",
   "metadata": {},
   "outputs": [
    {
     "data": {
      "text/html": [
       "<div>\n",
       "<style scoped>\n",
       "    .dataframe tbody tr th:only-of-type {\n",
       "        vertical-align: middle;\n",
       "    }\n",
       "\n",
       "    .dataframe tbody tr th {\n",
       "        vertical-align: top;\n",
       "    }\n",
       "\n",
       "    .dataframe thead th {\n",
       "        text-align: right;\n",
       "    }\n",
       "</style>\n",
       "<table border=\"1\" class=\"dataframe\">\n",
       "  <thead>\n",
       "    <tr style=\"text-align: right;\">\n",
       "      <th></th>\n",
       "      <th>Rooms</th>\n",
       "      <th>Propertycount</th>\n",
       "      <th>Distance</th>\n",
       "      <th>Bedroom</th>\n",
       "      <th>Bathroom</th>\n",
       "      <th>Car</th>\n",
       "      <th>Landsize</th>\n",
       "      <th>BuildingArea</th>\n",
       "      <th>Price</th>\n",
       "      <th>YearBuilt_</th>\n",
       "      <th>...</th>\n",
       "      <th>CouncilArea_Moorabool Shire Council</th>\n",
       "      <th>CouncilArea_Moreland City Council</th>\n",
       "      <th>CouncilArea_Nillumbik Shire Council</th>\n",
       "      <th>CouncilArea_Port Phillip City Council</th>\n",
       "      <th>CouncilArea_Stonnington City Council</th>\n",
       "      <th>CouncilArea_Whitehorse City Council</th>\n",
       "      <th>CouncilArea_Whittlesea City Council</th>\n",
       "      <th>CouncilArea_Wyndham City Council</th>\n",
       "      <th>CouncilArea_Yarra City Council</th>\n",
       "      <th>CouncilArea_Yarra Ranges Shire Council</th>\n",
       "    </tr>\n",
       "  </thead>\n",
       "  <tbody>\n",
       "    <tr>\n",
       "      <th>1</th>\n",
       "      <td>3</td>\n",
       "      <td>3464</td>\n",
       "      <td>13</td>\n",
       "      <td>3</td>\n",
       "      <td>2</td>\n",
       "      <td>1</td>\n",
       "      <td>303</td>\n",
       "      <td>225</td>\n",
       "      <td>840000</td>\n",
       "      <td>2016</td>\n",
       "      <td>...</td>\n",
       "      <td>0</td>\n",
       "      <td>0</td>\n",
       "      <td>0</td>\n",
       "      <td>0</td>\n",
       "      <td>0</td>\n",
       "      <td>0</td>\n",
       "      <td>0</td>\n",
       "      <td>0</td>\n",
       "      <td>0</td>\n",
       "      <td>0</td>\n",
       "    </tr>\n",
       "    <tr>\n",
       "      <th>2</th>\n",
       "      <td>2</td>\n",
       "      <td>3280</td>\n",
       "      <td>3</td>\n",
       "      <td>2</td>\n",
       "      <td>1</td>\n",
       "      <td>0</td>\n",
       "      <td>120</td>\n",
       "      <td>82</td>\n",
       "      <td>1275000</td>\n",
       "      <td>1900</td>\n",
       "      <td>...</td>\n",
       "      <td>0</td>\n",
       "      <td>0</td>\n",
       "      <td>0</td>\n",
       "      <td>1</td>\n",
       "      <td>0</td>\n",
       "      <td>0</td>\n",
       "      <td>0</td>\n",
       "      <td>0</td>\n",
       "      <td>0</td>\n",
       "      <td>0</td>\n",
       "    </tr>\n",
       "  </tbody>\n",
       "</table>\n",
       "<p>2 rows × 746 columns</p>\n",
       "</div>"
      ],
      "text/plain": [
       "   Rooms  Propertycount  Distance  Bedroom  Bathroom  Car  Landsize  \\\n",
       "1      3           3464        13        3         2    1       303   \n",
       "2      2           3280         3        2         1    0       120   \n",
       "\n",
       "   BuildingArea    Price  YearBuilt_  ...  \\\n",
       "1           225   840000        2016  ...   \n",
       "2            82  1275000        1900  ...   \n",
       "\n",
       "   CouncilArea_Moorabool Shire Council  CouncilArea_Moreland City Council  \\\n",
       "1                                    0                                  0   \n",
       "2                                    0                                  0   \n",
       "\n",
       "   CouncilArea_Nillumbik Shire Council  CouncilArea_Port Phillip City Council  \\\n",
       "1                                    0                                      0   \n",
       "2                                    0                                      1   \n",
       "\n",
       "   CouncilArea_Stonnington City Council  CouncilArea_Whitehorse City Council  \\\n",
       "1                                     0                                    0   \n",
       "2                                     0                                    0   \n",
       "\n",
       "   CouncilArea_Whittlesea City Council  CouncilArea_Wyndham City Council  \\\n",
       "1                                    0                                 0   \n",
       "2                                    0                                 0   \n",
       "\n",
       "   CouncilArea_Yarra City Council  CouncilArea_Yarra Ranges Shire Council  \n",
       "1                               0                                       0  \n",
       "2                               0                                       0  \n",
       "\n",
       "[2 rows x 746 columns]"
      ]
     },
     "execution_count": 33,
     "metadata": {},
     "output_type": "execute_result"
    }
   ],
   "source": [
    "# Coverting the object columns to dummies\n",
    "df1 = pd.get_dummies(df1, drop_first = True).astype(int)\n",
    "df1.head(2)"
   ]
  },
  {
   "cell_type": "code",
   "execution_count": 34,
   "id": "7cb90898-e2e2-40e1-b322-f60757f8fba2",
   "metadata": {},
   "outputs": [],
   "source": [
    "# Creating X and Y\n",
    "X = df1.drop('Price', axis = 1)\n",
    "y = df1['Price']"
   ]
  },
  {
   "cell_type": "code",
   "execution_count": 35,
   "id": "e2a1d2d9-ac88-40b2-a762-2e0a4d913245",
   "metadata": {},
   "outputs": [],
   "source": [
    "# splitting the dataset to training and testing \n",
    "train_X, test_X, train_y, test_y = train_test_split(X, y, test_size = 0.3, random_state = 0)"
   ]
  },
  {
   "cell_type": "code",
   "execution_count": 36,
   "id": "582a6cff-6110-472c-990b-c801d535b8d7",
   "metadata": {},
   "outputs": [],
   "source": [
    "# Training the model\n",
    "model = LinearRegression().fit(train_X, train_y)"
   ]
  },
  {
   "cell_type": "code",
   "execution_count": 37,
   "id": "20ce7fd2-249c-43de-8d51-2414b5da6872",
   "metadata": {},
   "outputs": [
    {
     "data": {
      "text/plain": [
       "array([1872552.73424887,  724155.61780828, 1076922.59066442, ...,\n",
       "        710613.26283245,  624662.26660199,  591245.12306279])"
      ]
     },
     "execution_count": 37,
     "metadata": {},
     "output_type": "execute_result"
    }
   ],
   "source": [
    "# making predictons\n",
    "y_prediction = model.predict(test_X)\n",
    "y_prediction"
   ]
  },
  {
   "cell_type": "code",
   "execution_count": 38,
   "id": "48d482a8-162f-4ba9-b841-9f1affad3f85",
   "metadata": {},
   "outputs": [
    {
     "data": {
      "text/plain": [
       "0.6750048842925458"
      ]
     },
     "execution_count": 38,
     "metadata": {},
     "output_type": "execute_result"
    }
   ],
   "source": [
    "# Evaluating the model\n",
    "model.score(test_X, test_y)"
   ]
  },
  {
   "cell_type": "code",
   "execution_count": 39,
   "id": "0290779b-ac1d-4bf3-b803-15b7141b267c",
   "metadata": {},
   "outputs": [
    {
     "data": {
      "text/plain": [
       "0.6786985682607156"
      ]
     },
     "execution_count": 39,
     "metadata": {},
     "output_type": "execute_result"
    }
   ],
   "source": [
    "# Trying the model on seen dataset\n",
    "model.score(train_X, train_y)"
   ]
  },
  {
   "cell_type": "markdown",
   "id": "1621b9dd-bd10-4060-937c-8358aeaca409",
   "metadata": {},
   "source": [
    "### Using Lasso L1 Regularization"
   ]
  },
  {
   "cell_type": "code",
   "execution_count": 40,
   "id": "e23b1bd1-6b93-4fe5-88d4-34e4f1ee382b",
   "metadata": {},
   "outputs": [],
   "source": [
    "from sklearn import linear_model"
   ]
  },
  {
   "cell_type": "code",
   "execution_count": 41,
   "id": "17b884c9-3787-4858-83e2-2d0d0cc62a76",
   "metadata": {},
   "outputs": [
    {
     "data": {
      "text/html": [
       "<style>#sk-container-id-1 {color: black;background-color: white;}#sk-container-id-1 pre{padding: 0;}#sk-container-id-1 div.sk-toggleable {background-color: white;}#sk-container-id-1 label.sk-toggleable__label {cursor: pointer;display: block;width: 100%;margin-bottom: 0;padding: 0.3em;box-sizing: border-box;text-align: center;}#sk-container-id-1 label.sk-toggleable__label-arrow:before {content: \"▸\";float: left;margin-right: 0.25em;color: #696969;}#sk-container-id-1 label.sk-toggleable__label-arrow:hover:before {color: black;}#sk-container-id-1 div.sk-estimator:hover label.sk-toggleable__label-arrow:before {color: black;}#sk-container-id-1 div.sk-toggleable__content {max-height: 0;max-width: 0;overflow: hidden;text-align: left;background-color: #f0f8ff;}#sk-container-id-1 div.sk-toggleable__content pre {margin: 0.2em;color: black;border-radius: 0.25em;background-color: #f0f8ff;}#sk-container-id-1 input.sk-toggleable__control:checked~div.sk-toggleable__content {max-height: 200px;max-width: 100%;overflow: auto;}#sk-container-id-1 input.sk-toggleable__control:checked~label.sk-toggleable__label-arrow:before {content: \"▾\";}#sk-container-id-1 div.sk-estimator input.sk-toggleable__control:checked~label.sk-toggleable__label {background-color: #d4ebff;}#sk-container-id-1 div.sk-label input.sk-toggleable__control:checked~label.sk-toggleable__label {background-color: #d4ebff;}#sk-container-id-1 input.sk-hidden--visually {border: 0;clip: rect(1px 1px 1px 1px);clip: rect(1px, 1px, 1px, 1px);height: 1px;margin: -1px;overflow: hidden;padding: 0;position: absolute;width: 1px;}#sk-container-id-1 div.sk-estimator {font-family: monospace;background-color: #f0f8ff;border: 1px dotted black;border-radius: 0.25em;box-sizing: border-box;margin-bottom: 0.5em;}#sk-container-id-1 div.sk-estimator:hover {background-color: #d4ebff;}#sk-container-id-1 div.sk-parallel-item::after {content: \"\";width: 100%;border-bottom: 1px solid gray;flex-grow: 1;}#sk-container-id-1 div.sk-label:hover label.sk-toggleable__label {background-color: #d4ebff;}#sk-container-id-1 div.sk-serial::before {content: \"\";position: absolute;border-left: 1px solid gray;box-sizing: border-box;top: 0;bottom: 0;left: 50%;z-index: 0;}#sk-container-id-1 div.sk-serial {display: flex;flex-direction: column;align-items: center;background-color: white;padding-right: 0.2em;padding-left: 0.2em;position: relative;}#sk-container-id-1 div.sk-item {position: relative;z-index: 1;}#sk-container-id-1 div.sk-parallel {display: flex;align-items: stretch;justify-content: center;background-color: white;position: relative;}#sk-container-id-1 div.sk-item::before, #sk-container-id-1 div.sk-parallel-item::before {content: \"\";position: absolute;border-left: 1px solid gray;box-sizing: border-box;top: 0;bottom: 0;left: 50%;z-index: -1;}#sk-container-id-1 div.sk-parallel-item {display: flex;flex-direction: column;z-index: 1;position: relative;background-color: white;}#sk-container-id-1 div.sk-parallel-item:first-child::after {align-self: flex-end;width: 50%;}#sk-container-id-1 div.sk-parallel-item:last-child::after {align-self: flex-start;width: 50%;}#sk-container-id-1 div.sk-parallel-item:only-child::after {width: 0;}#sk-container-id-1 div.sk-dashed-wrapped {border: 1px dashed gray;margin: 0 0.4em 0.5em 0.4em;box-sizing: border-box;padding-bottom: 0.4em;background-color: white;}#sk-container-id-1 div.sk-label label {font-family: monospace;font-weight: bold;display: inline-block;line-height: 1.2em;}#sk-container-id-1 div.sk-label-container {text-align: center;}#sk-container-id-1 div.sk-container {/* jupyter's `normalize.less` sets `[hidden] { display: none; }` but bootstrap.min.css set `[hidden] { display: none !important; }` so we also need the `!important` here to be able to override the default hidden behavior on the sphinx rendered scikit-learn.org. See: https://github.com/scikit-learn/scikit-learn/issues/21755 */display: inline-block !important;position: relative;}#sk-container-id-1 div.sk-text-repr-fallback {display: none;}</style><div id=\"sk-container-id-1\" class=\"sk-top-container\"><div class=\"sk-text-repr-fallback\"><pre>Lasso(alpha=25, max_iter=100, tol=0.1)</pre><b>In a Jupyter environment, please rerun this cell to show the HTML representation or trust the notebook. <br />On GitHub, the HTML representation is unable to render, please try loading this page with nbviewer.org.</b></div><div class=\"sk-container\" hidden><div class=\"sk-item\"><div class=\"sk-estimator sk-toggleable\"><input class=\"sk-toggleable__control sk-hidden--visually\" id=\"sk-estimator-id-1\" type=\"checkbox\" checked><label for=\"sk-estimator-id-1\" class=\"sk-toggleable__label sk-toggleable__label-arrow\">Lasso</label><div class=\"sk-toggleable__content\"><pre>Lasso(alpha=25, max_iter=100, tol=0.1)</pre></div></div></div></div></div>"
      ],
      "text/plain": [
       "Lasso(alpha=25, max_iter=100, tol=0.1)"
      ]
     },
     "execution_count": 41,
     "metadata": {},
     "output_type": "execute_result"
    }
   ],
   "source": [
    "# Creating Lasso object\n",
    "lasso_reg = linear_model.Lasso(alpha=25, max_iter=100, tol=0.1)\n",
    "lasso_reg.fit(train_X, train_y)"
   ]
  },
  {
   "cell_type": "code",
   "execution_count": 42,
   "id": "c6296217-bcf4-4446-8986-5613caa2e59c",
   "metadata": {},
   "outputs": [
    {
     "data": {
      "text/plain": [
       "0.6770875427701454"
      ]
     },
     "execution_count": 42,
     "metadata": {},
     "output_type": "execute_result"
    }
   ],
   "source": [
    "lasso_reg.score(test_X, test_y)"
   ]
  },
  {
   "cell_type": "code",
   "execution_count": 43,
   "id": "a7dc083f-e970-4043-85f3-e821cb2125e1",
   "metadata": {},
   "outputs": [
    {
     "data": {
      "text/plain": [
       "0.6767407054747101"
      ]
     },
     "execution_count": 43,
     "metadata": {},
     "output_type": "execute_result"
    }
   ],
   "source": [
    "lasso_reg.score(train_X, train_y)"
   ]
  },
  {
   "cell_type": "markdown",
   "id": "0ef2452c-9fc5-4d1f-9281-cbf7c73bc9a4",
   "metadata": {},
   "source": [
    "### L2 or Ridge Regularization"
   ]
  },
  {
   "cell_type": "code",
   "execution_count": 44,
   "id": "d48202de-0b49-445c-8009-489dced4ea85",
   "metadata": {},
   "outputs": [
    {
     "data": {
      "text/html": [
       "<style>#sk-container-id-2 {color: black;background-color: white;}#sk-container-id-2 pre{padding: 0;}#sk-container-id-2 div.sk-toggleable {background-color: white;}#sk-container-id-2 label.sk-toggleable__label {cursor: pointer;display: block;width: 100%;margin-bottom: 0;padding: 0.3em;box-sizing: border-box;text-align: center;}#sk-container-id-2 label.sk-toggleable__label-arrow:before {content: \"▸\";float: left;margin-right: 0.25em;color: #696969;}#sk-container-id-2 label.sk-toggleable__label-arrow:hover:before {color: black;}#sk-container-id-2 div.sk-estimator:hover label.sk-toggleable__label-arrow:before {color: black;}#sk-container-id-2 div.sk-toggleable__content {max-height: 0;max-width: 0;overflow: hidden;text-align: left;background-color: #f0f8ff;}#sk-container-id-2 div.sk-toggleable__content pre {margin: 0.2em;color: black;border-radius: 0.25em;background-color: #f0f8ff;}#sk-container-id-2 input.sk-toggleable__control:checked~div.sk-toggleable__content {max-height: 200px;max-width: 100%;overflow: auto;}#sk-container-id-2 input.sk-toggleable__control:checked~label.sk-toggleable__label-arrow:before {content: \"▾\";}#sk-container-id-2 div.sk-estimator input.sk-toggleable__control:checked~label.sk-toggleable__label {background-color: #d4ebff;}#sk-container-id-2 div.sk-label input.sk-toggleable__control:checked~label.sk-toggleable__label {background-color: #d4ebff;}#sk-container-id-2 input.sk-hidden--visually {border: 0;clip: rect(1px 1px 1px 1px);clip: rect(1px, 1px, 1px, 1px);height: 1px;margin: -1px;overflow: hidden;padding: 0;position: absolute;width: 1px;}#sk-container-id-2 div.sk-estimator {font-family: monospace;background-color: #f0f8ff;border: 1px dotted black;border-radius: 0.25em;box-sizing: border-box;margin-bottom: 0.5em;}#sk-container-id-2 div.sk-estimator:hover {background-color: #d4ebff;}#sk-container-id-2 div.sk-parallel-item::after {content: \"\";width: 100%;border-bottom: 1px solid gray;flex-grow: 1;}#sk-container-id-2 div.sk-label:hover label.sk-toggleable__label {background-color: #d4ebff;}#sk-container-id-2 div.sk-serial::before {content: \"\";position: absolute;border-left: 1px solid gray;box-sizing: border-box;top: 0;bottom: 0;left: 50%;z-index: 0;}#sk-container-id-2 div.sk-serial {display: flex;flex-direction: column;align-items: center;background-color: white;padding-right: 0.2em;padding-left: 0.2em;position: relative;}#sk-container-id-2 div.sk-item {position: relative;z-index: 1;}#sk-container-id-2 div.sk-parallel {display: flex;align-items: stretch;justify-content: center;background-color: white;position: relative;}#sk-container-id-2 div.sk-item::before, #sk-container-id-2 div.sk-parallel-item::before {content: \"\";position: absolute;border-left: 1px solid gray;box-sizing: border-box;top: 0;bottom: 0;left: 50%;z-index: -1;}#sk-container-id-2 div.sk-parallel-item {display: flex;flex-direction: column;z-index: 1;position: relative;background-color: white;}#sk-container-id-2 div.sk-parallel-item:first-child::after {align-self: flex-end;width: 50%;}#sk-container-id-2 div.sk-parallel-item:last-child::after {align-self: flex-start;width: 50%;}#sk-container-id-2 div.sk-parallel-item:only-child::after {width: 0;}#sk-container-id-2 div.sk-dashed-wrapped {border: 1px dashed gray;margin: 0 0.4em 0.5em 0.4em;box-sizing: border-box;padding-bottom: 0.4em;background-color: white;}#sk-container-id-2 div.sk-label label {font-family: monospace;font-weight: bold;display: inline-block;line-height: 1.2em;}#sk-container-id-2 div.sk-label-container {text-align: center;}#sk-container-id-2 div.sk-container {/* jupyter's `normalize.less` sets `[hidden] { display: none; }` but bootstrap.min.css set `[hidden] { display: none !important; }` so we also need the `!important` here to be able to override the default hidden behavior on the sphinx rendered scikit-learn.org. See: https://github.com/scikit-learn/scikit-learn/issues/21755 */display: inline-block !important;position: relative;}#sk-container-id-2 div.sk-text-repr-fallback {display: none;}</style><div id=\"sk-container-id-2\" class=\"sk-top-container\"><div class=\"sk-text-repr-fallback\"><pre>Ridge(alpha=5, max_iter=100, tol=0.1)</pre><b>In a Jupyter environment, please rerun this cell to show the HTML representation or trust the notebook. <br />On GitHub, the HTML representation is unable to render, please try loading this page with nbviewer.org.</b></div><div class=\"sk-container\" hidden><div class=\"sk-item\"><div class=\"sk-estimator sk-toggleable\"><input class=\"sk-toggleable__control sk-hidden--visually\" id=\"sk-estimator-id-2\" type=\"checkbox\" checked><label for=\"sk-estimator-id-2\" class=\"sk-toggleable__label sk-toggleable__label-arrow\">Ridge</label><div class=\"sk-toggleable__content\"><pre>Ridge(alpha=5, max_iter=100, tol=0.1)</pre></div></div></div></div></div>"
      ],
      "text/plain": [
       "Ridge(alpha=5, max_iter=100, tol=0.1)"
      ]
     },
     "execution_count": 44,
     "metadata": {},
     "output_type": "execute_result"
    }
   ],
   "source": [
    "from sklearn.linear_model import Ridge\n",
    "\n",
    "ridge_reg = Ridge(alpha = 5, max_iter = 100, tol = 0.1)\n",
    "ridge_reg.fit(train_X, train_y)"
   ]
  },
  {
   "cell_type": "code",
   "execution_count": 45,
   "id": "e371606e-783f-4be8-a619-f9230ef768df",
   "metadata": {},
   "outputs": [
    {
     "data": {
      "text/plain": [
       "0.677488894555211"
      ]
     },
     "execution_count": 45,
     "metadata": {},
     "output_type": "execute_result"
    }
   ],
   "source": [
    "ridge_reg.score(test_X, test_y)"
   ]
  },
  {
   "cell_type": "code",
   "execution_count": 46,
   "id": "fc634c95-da46-4c35-a3de-53967b36931d",
   "metadata": {},
   "outputs": [
    {
     "data": {
      "text/plain": [
       "0.6757340405453944"
      ]
     },
     "execution_count": 46,
     "metadata": {},
     "output_type": "execute_result"
    }
   ],
   "source": [
    "ridge_reg.score(train_X, train_y)"
   ]
  },
  {
   "cell_type": "code",
   "execution_count": null,
   "id": "228076e7-0d7b-4710-8f71-a828d03044dd",
   "metadata": {},
   "outputs": [],
   "source": []
  }
 ],
 "metadata": {
  "kernelspec": {
   "display_name": "Python 3 (ipykernel)",
   "language": "python",
   "name": "python3"
  },
  "language_info": {
   "codemirror_mode": {
    "name": "ipython",
    "version": 3
   },
   "file_extension": ".py",
   "mimetype": "text/x-python",
   "name": "python",
   "nbconvert_exporter": "python",
   "pygments_lexer": "ipython3",
   "version": "3.11.7"
  }
 },
 "nbformat": 4,
 "nbformat_minor": 5
}
