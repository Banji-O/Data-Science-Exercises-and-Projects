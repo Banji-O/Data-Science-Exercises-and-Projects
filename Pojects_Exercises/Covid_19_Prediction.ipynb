{
 "cells": [
  {
   "cell_type": "markdown",
   "id": "aad7d70b-1400-472c-ba2c-ecb442a28f12",
   "metadata": {},
   "source": [
    "<center>\n",
    "    <h1><b>Covid-19 Prediction</b></h1>\n",
    "    -----------------------------\n",
    "</center>"
   ]
  },
  {
   "cell_type": "code",
   "execution_count": 9,
   "id": "c8499aef-0b5d-44e0-be97-3cf42e58ad0a",
   "metadata": {},
   "outputs": [],
   "source": [
    "import pandas as pd\n",
    "import numpy as np\n",
    "from sklearn.preprocessing import LabelEncoder\n",
    "import matplotlib\n",
    "from matplotlib import pyplot as plt\n",
    "%matplotlib inline"
   ]
  },
  {
   "cell_type": "code",
   "execution_count": 10,
   "id": "e1c28433-fdf1-4518-bf4f-7e36e289caec",
   "metadata": {},
   "outputs": [],
   "source": [
    "# loading dataset\n",
    "df = pd.read_csv('COVID19.csv', low_memory=False)"
   ]
  },
  {
   "cell_type": "markdown",
   "id": "3573dfaf-4a52-4903-9615-0aa1deecbc17",
   "metadata": {},
   "source": [
    "### Data Exploration"
   ]
  },
  {
   "cell_type": "code",
   "execution_count": 11,
   "id": "a908daf1-31c0-40d9-b0e1-7223ac8f6b18",
   "metadata": {},
   "outputs": [
    {
     "name": "stdout",
     "output_type": "stream",
     "text": [
      " Head:       Sex  Birth Year Chest pain Chills or sweats Confused or disoriented  \\\n",
      "0    MALE      1967.0         NO               NO                      NO   \n",
      "1    MALE      1976.0        NaN              NaN                     NaN   \n",
      "2    MALE      1988.0         NO               NO                      NO   \n",
      "3    MALE      1980.0        NaN              NaN                     NaN   \n",
      "4  FEMALE      1978.0         NO               NO                      NO   \n",
      "\n",
      "  Cough Diarrhea Difficulty breathing or Dyspnea  \\\n",
      "0    NO       NO                              NO   \n",
      "1   NaN      NaN                             NaN   \n",
      "2    NO       NO                              NO   \n",
      "3   NaN      NaN                             NaN   \n",
      "4   YES       NO                             YES   \n",
      "\n",
      "  Digested blood or coffee grounds in vomit  \\\n",
      "0                                       NaN   \n",
      "1                                       NaN   \n",
      "2                                       NaN   \n",
      "3                                       NaN   \n",
      "4                                       NaN   \n",
      "\n",
      "  Pain behind eyes or Sensitivity to light  ... Cough with sputum  \\\n",
      "0                                      NaN  ...                NO   \n",
      "1                                      NaN  ...               NaN   \n",
      "2                                      NaN  ...               NaN   \n",
      "3                                      NaN  ...               NaN   \n",
      "4                                      NaN  ...               NaN   \n",
      "\n",
      "  Cough with heamoptysis Enlarged lymph nodes Wheezing Skin ulcers  \\\n",
      "0                     NO                   NO       NO          NO   \n",
      "1                    NaN                  NaN      NaN         NaN   \n",
      "2                    NaN                  NaN      NaN         NaN   \n",
      "3                    NaN                  NaN      NaN         NaN   \n",
      "4                    NaN                  NaN      NaN         NaN   \n",
      "\n",
      "  Inability to walk Indrawing of chest wall Other complications  \\\n",
      "0                NO                      NO                 1.0   \n",
      "1               NaN                     NaN                 NaN   \n",
      "2               NaN                     NaN                 NaN   \n",
      "3               NaN                     NaN                 NaN   \n",
      "4               NaN                     NaN                 NaN   \n",
      "\n",
      "  Specify other complications    Result  \n",
      "0                         NaN   PENDING  \n",
      "1                         NaN       NaN  \n",
      "2                         NaN  NEGATIVE  \n",
      "3                         NaN       NaN  \n",
      "4                         NaN  NEGATIVE  \n",
      "\n",
      "[5 rows x 47 columns] \n",
      "\n",
      "Tail:            Sex  Birth Year Chest pain Chills or sweats  \\\n",
      "109922    MALE         NaN         NO              NaN   \n",
      "109923    MALE      1996.0         NO              NaN   \n",
      "109924    MALE      1986.0         NO              NaN   \n",
      "109925    MALE      1996.0         NO              NaN   \n",
      "109926  FEMALE      1990.0        NaN              NaN   \n",
      "\n",
      "       Confused or disoriented Cough Diarrhea Difficulty breathing or Dyspnea  \\\n",
      "109922                     NaN    NO       NO                             NaN   \n",
      "109923                     NaN    NO       NO                             NaN   \n",
      "109924                     NaN    NO       NO                             NaN   \n",
      "109925                     NaN    NO       NO                             NaN   \n",
      "109926                     NaN   NaN      NaN                             NaN   \n",
      "\n",
      "       Digested blood or coffee grounds in vomit  \\\n",
      "109922                                       NaN   \n",
      "109923                                       NaN   \n",
      "109924                                       NaN   \n",
      "109925                                       NaN   \n",
      "109926                                       NaN   \n",
      "\n",
      "       Pain behind eyes or Sensitivity to light  ... Cough with sputum  \\\n",
      "109922                                      NaN  ...               NaN   \n",
      "109923                                      NaN  ...               NaN   \n",
      "109924                                      NaN  ...               NaN   \n",
      "109925                                      NaN  ...               NaN   \n",
      "109926                                      NaN  ...               NaN   \n",
      "\n",
      "       Cough with heamoptysis Enlarged lymph nodes Wheezing Skin ulcers  \\\n",
      "109922                    NaN                  NaN      NaN         NaN   \n",
      "109923                    NaN                  NaN      NaN         NaN   \n",
      "109924                    NaN                  NaN      NaN         NaN   \n",
      "109925                    NaN                  NaN      NaN         NaN   \n",
      "109926                    NaN                  NaN      NaN         NaN   \n",
      "\n",
      "       Inability to walk Indrawing of chest wall Other complications  \\\n",
      "109922               NaN                     NaN                 NaN   \n",
      "109923               NaN                     NaN                 NaN   \n",
      "109924               NaN                     NaN                 NaN   \n",
      "109925               NaN                     NaN                 NaN   \n",
      "109926               NaN                     NaN                 NaN   \n",
      "\n",
      "       Specify other complications    Result  \n",
      "109922                         NaN  NEGATIVE  \n",
      "109923                         NaN  NEGATIVE  \n",
      "109924                         NaN  POSITIVE  \n",
      "109925                         NaN  NEGATIVE  \n",
      "109926                         NaN   PENDING  \n",
      "\n",
      "[5 rows x 47 columns]\n"
     ]
    }
   ],
   "source": [
    "print(f' Head: {df.head(5)} \\n\\nTail: {df.tail(5)}')"
   ]
  },
  {
   "cell_type": "code",
   "execution_count": 12,
   "id": "70d9a550-88a6-4d75-8e09-e5208b812d80",
   "metadata": {},
   "outputs": [
    {
     "name": "stdout",
     "output_type": "stream",
     "text": [
      "(109927, 47)\n"
     ]
    }
   ],
   "source": [
    "print(df.shape)"
   ]
  },
  {
   "cell_type": "code",
   "execution_count": 13,
   "id": "fb1f1329-4e4a-4513-a163-8369f8142f6e",
   "metadata": {
    "scrolled": true
   },
   "outputs": [
    {
     "name": "stdout",
     "output_type": "stream",
     "text": [
      "<class 'pandas.core.frame.DataFrame'>\n",
      "RangeIndex: 109927 entries, 0 to 109926\n",
      "Data columns (total 47 columns):\n",
      " #   Column                                     Non-Null Count   Dtype  \n",
      "---  ------                                     --------------   -----  \n",
      " 0   Sex                                        107228 non-null  object \n",
      " 1   Birth Year                                 94963 non-null   float64\n",
      " 2   Chest pain                                 42120 non-null   object \n",
      " 3   Chills or sweats                           24857 non-null   object \n",
      " 4   Confused or disoriented                    23127 non-null   object \n",
      " 5   Cough                                      42218 non-null   object \n",
      " 6   Diarrhea                                   42092 non-null   object \n",
      " 7   Difficulty breathing or Dyspnea            24940 non-null   object \n",
      " 8   Digested blood or coffee grounds in vomit  1397 non-null    object \n",
      " 9   Pain behind eyes or Sensitivity to light   1405 non-null    object \n",
      " 10  Bleeding from the eyes                     1397 non-null    object \n",
      " 11  Fatigue or general weakness                42158 non-null   object \n",
      " 12  Fever                                      42229 non-null   object \n",
      " 13  Fluid in the lung cavity                   1404 non-null    object \n",
      " 14  Fluid in lung cavity in auscultation       23426 non-null   object \n",
      " 15  Fluid in cavity through X-Ray              23416 non-null   object \n",
      " 16  Bleeding of the gums                       1397 non-null    object \n",
      " 17  Headache                                   42080 non-null   object \n",
      " 18  Joint pain or arthritis                    24830 non-null   object \n",
      " 19  Thorax (sore throat)                       40670 non-null   object \n",
      " 20  Malaise                                    3006 non-null    object \n",
      " 21  Muscle pain                                23434 non-null   object \n",
      " 22  Nausea                                     40674 non-null   object \n",
      " 23  Other clinical symptoms                    23506 non-null   object \n",
      " 24  Pharyngeal exudate                         2999 non-null    object \n",
      " 25  Rapid breathing                            22829 non-null   object \n",
      " 26  Runny nose                                 40677 non-null   object \n",
      " 27  Maculopapular rash                         21032 non-null   object \n",
      " 28  Sore throat or pharyngitis                 40670 non-null   object \n",
      " 29  Bleeding or bruising                       21030 non-null   object \n",
      " 30  Vomiting                                   40669 non-null   object \n",
      " 31  Abnormal lung X-Ray findings               23566 non-null   object \n",
      " 32  Conjunctivitis                             18653 non-null   object \n",
      " 33  Acute respiratory distress syndrome        23532 non-null   object \n",
      " 34  Pneumonia (clinical or radiologic)         23414 non-null   object \n",
      " 35  Loss of Taste                              39837 non-null   object \n",
      " 36  Loss of Smell                              39829 non-null   object \n",
      " 37  Cough with sputum                          22181 non-null   object \n",
      " 38  Cough with heamoptysis                     22180 non-null   object \n",
      " 39  Enlarged lymph nodes                       21043 non-null   object \n",
      " 40  Wheezing                                   21025 non-null   object \n",
      " 41  Skin ulcers                                21023 non-null   object \n",
      " 42  Inability to walk                          21032 non-null   object \n",
      " 43  Indrawing of chest wall                    21023 non-null   object \n",
      " 44  Other complications                        20752 non-null   float64\n",
      " 45  Specify other complications                5 non-null       object \n",
      " 46  Result                                     75416 non-null   object \n",
      "dtypes: float64(2), object(45)\n",
      "memory usage: 39.4+ MB\n",
      "None\n"
     ]
    }
   ],
   "source": [
    "print(df.info())"
   ]
  },
  {
   "cell_type": "code",
   "execution_count": 14,
   "id": "80b8ebae-22b8-473a-9295-19b7278eefd0",
   "metadata": {},
   "outputs": [
    {
     "name": "stdout",
     "output_type": "stream",
     "text": [
      "Sex                                            2699\n",
      "Birth Year                                    14964\n",
      "Chest pain                                    67807\n",
      "Chills or sweats                              85070\n",
      "Confused or disoriented                       86800\n",
      "Cough                                         67709\n",
      "Diarrhea                                      67835\n",
      "Difficulty breathing or Dyspnea               84987\n",
      "Digested blood or coffee grounds in vomit    108530\n",
      "Pain behind eyes or Sensitivity to light     108522\n",
      "Bleeding from the eyes                       108530\n",
      "Fatigue or general weakness                   67769\n",
      "Fever                                         67698\n",
      "Fluid in the lung cavity                     108523\n",
      "Fluid in lung cavity in auscultation          86501\n",
      "Fluid in cavity through X-Ray                 86511\n",
      "Bleeding of the gums                         108530\n",
      "Headache                                      67847\n",
      "Joint pain or arthritis                       85097\n",
      "Thorax (sore throat)                          69257\n",
      "Malaise                                      106921\n",
      "Muscle pain                                   86493\n",
      "Nausea                                        69253\n",
      "Other clinical symptoms                       86421\n",
      "Pharyngeal exudate                           106928\n",
      "Rapid breathing                               87098\n",
      "Runny nose                                    69250\n",
      "Maculopapular rash                            88895\n",
      "Sore throat or pharyngitis                    69257\n",
      "Bleeding or bruising                          88897\n",
      "Vomiting                                      69258\n",
      "Abnormal lung X-Ray findings                  86361\n",
      "Conjunctivitis                                91274\n",
      "Acute respiratory distress syndrome           86395\n",
      "Pneumonia (clinical or radiologic)            86513\n",
      "Loss of Taste                                 70090\n",
      "Loss of Smell                                 70098\n",
      "Cough with sputum                             87746\n",
      "Cough with heamoptysis                        87747\n",
      "Enlarged lymph nodes                          88884\n",
      "Wheezing                                      88902\n",
      "Skin ulcers                                   88904\n",
      "Inability to walk                             88895\n",
      "Indrawing of chest wall                       88904\n",
      "Other complications                           89175\n",
      "Specify other complications                  109922\n",
      "Result                                        34511\n",
      "dtype: int64\n"
     ]
    }
   ],
   "source": [
    "print(df.isnull().sum())"
   ]
  },
  {
   "cell_type": "code",
   "execution_count": 16,
   "id": "b9a0d44c-d59a-46bf-b688-5f83b7448198",
   "metadata": {},
   "outputs": [
    {
     "data": {
      "text/plain": [
       "Sex                                           2.455266\n",
       "Birth Year                                   13.612670\n",
       "Chest pain                                   61.683663\n",
       "Chills or sweats                             77.387721\n",
       "Confused or disoriented                      78.961493\n",
       "Cough                                        61.594513\n",
       "Diarrhea                                     61.709134\n",
       "Difficulty breathing or Dyspnea              77.312216\n",
       "Digested blood or coffee grounds in vomit    98.729157\n",
       "Pain behind eyes or Sensitivity to light     98.721879\n",
       "Bleeding from the eyes                       98.729157\n",
       "Fatigue or general weakness                  61.649094\n",
       "Fever                                        61.584506\n",
       "Fluid in the lung cavity                     98.722789\n",
       "Fluid in lung cavity in auscultation         78.689494\n",
       "Fluid in cavity through X-Ray                78.698591\n",
       "Bleeding of the gums                         98.729157\n",
       "Headache                                     61.720051\n",
       "Joint pain or arthritis                      77.412283\n",
       "Thorax (sore throat)                         63.002720\n",
       "Malaise                                      97.265458\n",
       "Muscle pain                                  78.682216\n",
       "Nausea                                       62.999081\n",
       "Other clinical symptoms                      78.616718\n",
       "Pharyngeal exudate                           97.271826\n",
       "Rapid breathing                              79.232582\n",
       "Runny nose                                   62.996352\n",
       "Maculopapular rash                           80.867303\n",
       "Sore throat or pharyngitis                   63.002720\n",
       "Bleeding or bruising                         80.869122\n",
       "Vomiting                                     63.003630\n",
       "Abnormal lung X-Ray findings                 78.562137\n",
       "Conjunctivitis                               83.031466\n",
       "Acute respiratory distress syndrome          78.593066\n",
       "Pneumonia (clinical or radiologic)           78.700410\n",
       "Loss of Taste                                63.760496\n",
       "Loss of Smell                                63.767773\n",
       "Cough with sputum                            79.822064\n",
       "Cough with heamoptysis                       79.822973\n",
       "Enlarged lymph nodes                         80.857296\n",
       "Wheezing                                     80.873671\n",
       "Skin ulcers                                  80.875490\n",
       "Inability to walk                            80.867303\n",
       "Indrawing of chest wall                      80.875490\n",
       "Other complications                          81.122017\n",
       "Specify other complications                  99.995452\n",
       "Result                                       31.394471\n",
       "dtype: float64"
      ]
     },
     "execution_count": 16,
     "metadata": {},
     "output_type": "execute_result"
    }
   ],
   "source": [
    "# Checking the percentage of missing values in each column\n",
    "missing_values = df.isnull().sum() / len(df) * 100\n",
    "missing_values"
   ]
  },
  {
   "cell_type": "code",
   "execution_count": 17,
   "id": "5bff13c6-8545-4a0f-b15d-162f14f7d0aa",
   "metadata": {},
   "outputs": [
    {
     "name": "stdout",
     "output_type": "stream",
     "text": [
      "number of columns to drop: 31 \n",
      "\n",
      "List of columns dropped:['Chills or sweats', 'Confused or disoriented', 'Difficulty breathing or Dyspnea', 'Digested blood or coffee grounds in vomit', 'Pain behind eyes or Sensitivity to light', 'Bleeding from the eyes', 'Fluid in the lung cavity', 'Fluid in lung cavity in auscultation', 'Fluid in cavity through X-Ray', 'Bleeding of the gums', 'Joint pain or arthritis', 'Malaise', 'Muscle pain', 'Other clinical symptoms', 'Pharyngeal exudate', 'Rapid breathing', 'Maculopapular rash', 'Bleeding or bruising', 'Abnormal lung X-Ray findings', 'Conjunctivitis', 'Acute respiratory distress syndrome', 'Pneumonia (clinical or radiologic)', 'Cough with sputum', 'Cough with heamoptysis', 'Enlarged lymph nodes', 'Wheezing', 'Skin ulcers', 'Inability to walk', 'Indrawing of chest wall', 'Other complications', 'Specify other complications']\n"
     ]
    }
   ],
   "source": [
    "# Columns to drop based on missing values >= 70%\n",
    "col_to_drop = missing_values[missing_values > 70].index.tolist()\n",
    "print(f'number of columns to drop: {len(col_to_drop)} \\n\\nList of columns dropped:{col_to_drop}')"
   ]
  },
  {
   "cell_type": "code",
   "execution_count": 18,
   "id": "c0a6d474-4a73-4475-b884-b62e850322a0",
   "metadata": {},
   "outputs": [
    {
     "data": {
      "text/html": [
       "<div>\n",
       "<style scoped>\n",
       "    .dataframe tbody tr th:only-of-type {\n",
       "        vertical-align: middle;\n",
       "    }\n",
       "\n",
       "    .dataframe tbody tr th {\n",
       "        vertical-align: top;\n",
       "    }\n",
       "\n",
       "    .dataframe thead th {\n",
       "        text-align: right;\n",
       "    }\n",
       "</style>\n",
       "<table border=\"1\" class=\"dataframe\">\n",
       "  <thead>\n",
       "    <tr style=\"text-align: right;\">\n",
       "      <th></th>\n",
       "      <th>Sex</th>\n",
       "      <th>Birth Year</th>\n",
       "      <th>Chest pain</th>\n",
       "      <th>Cough</th>\n",
       "      <th>Diarrhea</th>\n",
       "      <th>Fatigue or general weakness</th>\n",
       "      <th>Fever</th>\n",
       "      <th>Headache</th>\n",
       "      <th>Thorax (sore throat)</th>\n",
       "      <th>Nausea</th>\n",
       "      <th>Runny nose</th>\n",
       "      <th>Sore throat or pharyngitis</th>\n",
       "      <th>Vomiting</th>\n",
       "      <th>Loss of Taste</th>\n",
       "      <th>Loss of Smell</th>\n",
       "      <th>Result</th>\n",
       "    </tr>\n",
       "  </thead>\n",
       "  <tbody>\n",
       "    <tr>\n",
       "      <th>0</th>\n",
       "      <td>MALE</td>\n",
       "      <td>1967.0</td>\n",
       "      <td>NO</td>\n",
       "      <td>NO</td>\n",
       "      <td>NO</td>\n",
       "      <td>NO</td>\n",
       "      <td>NO</td>\n",
       "      <td>NO</td>\n",
       "      <td>NO</td>\n",
       "      <td>NO</td>\n",
       "      <td>NO</td>\n",
       "      <td>NO</td>\n",
       "      <td>NO</td>\n",
       "      <td>NO</td>\n",
       "      <td>NO</td>\n",
       "      <td>PENDING</td>\n",
       "    </tr>\n",
       "    <tr>\n",
       "      <th>1</th>\n",
       "      <td>MALE</td>\n",
       "      <td>1976.0</td>\n",
       "      <td>NaN</td>\n",
       "      <td>NaN</td>\n",
       "      <td>NaN</td>\n",
       "      <td>NaN</td>\n",
       "      <td>NaN</td>\n",
       "      <td>NaN</td>\n",
       "      <td>NaN</td>\n",
       "      <td>NaN</td>\n",
       "      <td>NaN</td>\n",
       "      <td>NaN</td>\n",
       "      <td>NaN</td>\n",
       "      <td>NaN</td>\n",
       "      <td>NaN</td>\n",
       "      <td>NaN</td>\n",
       "    </tr>\n",
       "    <tr>\n",
       "      <th>2</th>\n",
       "      <td>MALE</td>\n",
       "      <td>1988.0</td>\n",
       "      <td>NO</td>\n",
       "      <td>NO</td>\n",
       "      <td>NO</td>\n",
       "      <td>NO</td>\n",
       "      <td>YES</td>\n",
       "      <td>NO</td>\n",
       "      <td>NO</td>\n",
       "      <td>NO</td>\n",
       "      <td>NO</td>\n",
       "      <td>NO</td>\n",
       "      <td>NO</td>\n",
       "      <td>NaN</td>\n",
       "      <td>NaN</td>\n",
       "      <td>NEGATIVE</td>\n",
       "    </tr>\n",
       "    <tr>\n",
       "      <th>3</th>\n",
       "      <td>MALE</td>\n",
       "      <td>1980.0</td>\n",
       "      <td>NaN</td>\n",
       "      <td>NaN</td>\n",
       "      <td>NaN</td>\n",
       "      <td>NaN</td>\n",
       "      <td>NaN</td>\n",
       "      <td>NaN</td>\n",
       "      <td>NaN</td>\n",
       "      <td>NaN</td>\n",
       "      <td>NaN</td>\n",
       "      <td>NaN</td>\n",
       "      <td>NaN</td>\n",
       "      <td>NaN</td>\n",
       "      <td>NaN</td>\n",
       "      <td>NaN</td>\n",
       "    </tr>\n",
       "    <tr>\n",
       "      <th>4</th>\n",
       "      <td>FEMALE</td>\n",
       "      <td>1978.0</td>\n",
       "      <td>NO</td>\n",
       "      <td>YES</td>\n",
       "      <td>NO</td>\n",
       "      <td>NO</td>\n",
       "      <td>NO</td>\n",
       "      <td>NO</td>\n",
       "      <td>YES</td>\n",
       "      <td>NO</td>\n",
       "      <td>YES</td>\n",
       "      <td>YES</td>\n",
       "      <td>NO</td>\n",
       "      <td>NaN</td>\n",
       "      <td>NaN</td>\n",
       "      <td>NEGATIVE</td>\n",
       "    </tr>\n",
       "  </tbody>\n",
       "</table>\n",
       "</div>"
      ],
      "text/plain": [
       "      Sex  Birth Year Chest pain Cough Diarrhea Fatigue or general weakness  \\\n",
       "0    MALE      1967.0         NO    NO       NO                          NO   \n",
       "1    MALE      1976.0        NaN   NaN      NaN                         NaN   \n",
       "2    MALE      1988.0         NO    NO       NO                          NO   \n",
       "3    MALE      1980.0        NaN   NaN      NaN                         NaN   \n",
       "4  FEMALE      1978.0         NO   YES       NO                          NO   \n",
       "\n",
       "  Fever Headache Thorax (sore throat) Nausea Runny nose  \\\n",
       "0    NO       NO                   NO     NO         NO   \n",
       "1   NaN      NaN                  NaN    NaN        NaN   \n",
       "2   YES       NO                   NO     NO         NO   \n",
       "3   NaN      NaN                  NaN    NaN        NaN   \n",
       "4    NO       NO                  YES     NO        YES   \n",
       "\n",
       "  Sore throat or pharyngitis Vomiting Loss of Taste Loss of Smell    Result  \n",
       "0                         NO       NO            NO            NO   PENDING  \n",
       "1                        NaN      NaN           NaN           NaN       NaN  \n",
       "2                         NO       NO           NaN           NaN  NEGATIVE  \n",
       "3                        NaN      NaN           NaN           NaN       NaN  \n",
       "4                        YES       NO           NaN           NaN  NEGATIVE  "
      ]
     },
     "execution_count": 18,
     "metadata": {},
     "output_type": "execute_result"
    }
   ],
   "source": [
    "#remainng columns n the dataframe\n",
    "df1 = df.drop(columns = col_to_drop)\n",
    "df1.head()"
   ]
  },
  {
   "cell_type": "code",
   "execution_count": 19,
   "id": "2a4135fe-e29e-4488-bc66-509fe3fc7246",
   "metadata": {},
   "outputs": [
    {
     "data": {
      "text/plain": [
       "Sex                             2699\n",
       "Birth Year                     14964\n",
       "Chest pain                     67807\n",
       "Cough                          67709\n",
       "Diarrhea                       67835\n",
       "Fatigue or general weakness    67769\n",
       "Fever                          67698\n",
       "Headache                       67847\n",
       "Thorax (sore throat)           69257\n",
       "Nausea                         69253\n",
       "Runny nose                     69250\n",
       "Sore throat or pharyngitis     69257\n",
       "Vomiting                       69258\n",
       "Loss of Taste                  70090\n",
       "Loss of Smell                  70098\n",
       "Result                         34511\n",
       "dtype: int64"
      ]
     },
     "execution_count": 19,
     "metadata": {},
     "output_type": "execute_result"
    }
   ],
   "source": [
    "df1.isnull().sum()"
   ]
  },
  {
   "cell_type": "code",
   "execution_count": 20,
   "id": "9f1cfba8-efd7-4f3b-8d74-e5d8de0ce660",
   "metadata": {},
   "outputs": [
    {
     "data": {
      "text/plain": [
       "Index(['sex', 'birth_year', 'chest_pain', 'cough', 'diarrhea',\n",
       "       'fatigue_or_general_weakness', 'fever', 'headache',\n",
       "       'thorax_(sore_throat)', 'nausea', 'runny_nose',\n",
       "       'sore_throat_or_pharyngitis', 'vomiting', 'loss_of_taste',\n",
       "       'loss_of_smell', 'result'],\n",
       "      dtype='object')"
      ]
     },
     "execution_count": 20,
     "metadata": {},
     "output_type": "execute_result"
    }
   ],
   "source": [
    "# modify the column labels lower case and remove spaces\n",
    "df1.columns = df1.columns.str.lower().str.replace(' ', '_')\n",
    "df1.columns"
   ]
  },
  {
   "cell_type": "code",
   "execution_count": 21,
   "id": "47f0510c-30ba-4df4-b220-5094769cfa7d",
   "metadata": {},
   "outputs": [
    {
     "name": "stdout",
     "output_type": "stream",
     "text": [
      "<class 'pandas.core.frame.DataFrame'>\n",
      "RangeIndex: 109927 entries, 0 to 109926\n",
      "Data columns (total 16 columns):\n",
      " #   Column                       Non-Null Count   Dtype  \n",
      "---  ------                       --------------   -----  \n",
      " 0   sex                          107228 non-null  object \n",
      " 1   birth_year                   94963 non-null   float64\n",
      " 2   chest_pain                   42120 non-null   object \n",
      " 3   cough                        42218 non-null   object \n",
      " 4   diarrhea                     42092 non-null   object \n",
      " 5   fatigue_or_general_weakness  42158 non-null   object \n",
      " 6   fever                        42229 non-null   object \n",
      " 7   headache                     42080 non-null   object \n",
      " 8   thorax_(sore_throat)         40670 non-null   object \n",
      " 9   nausea                       40674 non-null   object \n",
      " 10  runny_nose                   40677 non-null   object \n",
      " 11  sore_throat_or_pharyngitis   40670 non-null   object \n",
      " 12  vomiting                     40669 non-null   object \n",
      " 13  loss_of_taste                39837 non-null   object \n",
      " 14  loss_of_smell                39829 non-null   object \n",
      " 15  result                       75416 non-null   object \n",
      "dtypes: float64(1), object(15)\n",
      "memory usage: 13.4+ MB\n"
     ]
    }
   ],
   "source": [
    "df1.info()"
   ]
  },
  {
   "cell_type": "markdown",
   "id": "b846944e-baba-4dc0-9a57-6032f9445c63",
   "metadata": {},
   "source": [
    " **Replacing Nan values with percentage of value counts for each column**"
   ]
  },
  {
   "cell_type": "code",
   "execution_count": 22,
   "id": "6f11934a-5837-4eb1-8f8a-ff147e84efcc",
   "metadata": {},
   "outputs": [],
   "source": [
    "# function to replace Nan values with percentage of values in each column to maintain original distribution of values\n",
    "def replace_nan_with_percent(df):\n",
    "    for col in df.columns:\n",
    "        value_counts = df[col].value_counts(normalize = True)\n",
    "        nan_ind = df[col].isna()\n",
    "        if not nan_ind.empty:\n",
    "            replace_values = np.random.choice(value_counts.index, size = nan_ind.sum(), p = value_counts.values)\n",
    "            df.loc[nan_ind, col] = replace_values\n",
    "    return df"
   ]
  },
  {
   "cell_type": "code",
   "execution_count": 23,
   "id": "fdea01cc-a8d9-4bae-9e95-cfa8bf8741c7",
   "metadata": {},
   "outputs": [],
   "source": [
    "df1 = replace_nan_with_percent(df1)"
   ]
  },
  {
   "cell_type": "code",
   "execution_count": 24,
   "id": "c12e9bf0-b1c9-4bc9-a9c0-e69ef40e08b4",
   "metadata": {},
   "outputs": [
    {
     "name": "stdout",
     "output_type": "stream",
     "text": [
      "<class 'pandas.core.frame.DataFrame'>\n",
      "RangeIndex: 109927 entries, 0 to 109926\n",
      "Data columns (total 16 columns):\n",
      " #   Column                       Non-Null Count   Dtype  \n",
      "---  ------                       --------------   -----  \n",
      " 0   sex                          109927 non-null  object \n",
      " 1   birth_year                   109927 non-null  float64\n",
      " 2   chest_pain                   109927 non-null  object \n",
      " 3   cough                        109927 non-null  object \n",
      " 4   diarrhea                     109927 non-null  object \n",
      " 5   fatigue_or_general_weakness  109927 non-null  object \n",
      " 6   fever                        109927 non-null  object \n",
      " 7   headache                     109927 non-null  object \n",
      " 8   thorax_(sore_throat)         109927 non-null  object \n",
      " 9   nausea                       109927 non-null  object \n",
      " 10  runny_nose                   109927 non-null  object \n",
      " 11  sore_throat_or_pharyngitis   109927 non-null  object \n",
      " 12  vomiting                     109927 non-null  object \n",
      " 13  loss_of_taste                109927 non-null  object \n",
      " 14  loss_of_smell                109927 non-null  object \n",
      " 15  result                       109927 non-null  object \n",
      "dtypes: float64(1), object(15)\n",
      "memory usage: 13.4+ MB\n"
     ]
    }
   ],
   "source": [
    "df1.info()"
   ]
  },
  {
   "cell_type": "code",
   "execution_count": 25,
   "id": "753916d8-77bd-4b89-91b6-1f81c2dbce84",
   "metadata": {},
   "outputs": [
    {
     "data": {
      "text/plain": [
       "(107123, 16)"
      ]
     },
     "execution_count": 25,
     "metadata": {},
     "output_type": "execute_result"
    }
   ],
   "source": [
    "# removing unknown values from the dataframe\n",
    "df2 = df1.replace('UNKNOWN', pd.NA).dropna()\n",
    "df2.shape"
   ]
  },
  {
   "cell_type": "markdown",
   "id": "f3a7c1d3-4bc5-4c14-9ff9-804a11da1e53",
   "metadata": {},
   "source": [
    "### Feature Engineering"
   ]
  },
  {
   "cell_type": "code",
   "execution_count": 26,
   "id": "cd01e463-b95e-44af-a1ce-2bd9da7acd16",
   "metadata": {},
   "outputs": [
    {
     "data": {
      "text/html": [
       "<div>\n",
       "<style scoped>\n",
       "    .dataframe tbody tr th:only-of-type {\n",
       "        vertical-align: middle;\n",
       "    }\n",
       "\n",
       "    .dataframe tbody tr th {\n",
       "        vertical-align: top;\n",
       "    }\n",
       "\n",
       "    .dataframe thead th {\n",
       "        text-align: right;\n",
       "    }\n",
       "</style>\n",
       "<table border=\"1\" class=\"dataframe\">\n",
       "  <thead>\n",
       "    <tr style=\"text-align: right;\">\n",
       "      <th></th>\n",
       "      <th>sex</th>\n",
       "      <th>birth_year</th>\n",
       "      <th>chest_pain</th>\n",
       "      <th>cough</th>\n",
       "      <th>diarrhea</th>\n",
       "      <th>fatigue_or_general_weakness</th>\n",
       "      <th>fever</th>\n",
       "      <th>headache</th>\n",
       "      <th>thorax_(sore_throat)</th>\n",
       "      <th>nausea</th>\n",
       "      <th>runny_nose</th>\n",
       "      <th>sore_throat_or_pharyngitis</th>\n",
       "      <th>vomiting</th>\n",
       "      <th>loss_of_taste</th>\n",
       "      <th>loss_of_smell</th>\n",
       "      <th>result</th>\n",
       "      <th>age</th>\n",
       "    </tr>\n",
       "  </thead>\n",
       "  <tbody>\n",
       "    <tr>\n",
       "      <th>78573</th>\n",
       "      <td>MALE</td>\n",
       "      <td>1993.0</td>\n",
       "      <td>NO</td>\n",
       "      <td>NO</td>\n",
       "      <td>NO</td>\n",
       "      <td>NO</td>\n",
       "      <td>NO</td>\n",
       "      <td>NO</td>\n",
       "      <td>NO</td>\n",
       "      <td>NO</td>\n",
       "      <td>NO</td>\n",
       "      <td>NO</td>\n",
       "      <td>NO</td>\n",
       "      <td>NO</td>\n",
       "      <td>NO</td>\n",
       "      <td>NEGATIVE</td>\n",
       "      <td>31.0</td>\n",
       "    </tr>\n",
       "    <tr>\n",
       "      <th>66028</th>\n",
       "      <td>MALE</td>\n",
       "      <td>1977.0</td>\n",
       "      <td>NO</td>\n",
       "      <td>NO</td>\n",
       "      <td>NO</td>\n",
       "      <td>NO</td>\n",
       "      <td>NO</td>\n",
       "      <td>NO</td>\n",
       "      <td>NO</td>\n",
       "      <td>NO</td>\n",
       "      <td>NO</td>\n",
       "      <td>NO</td>\n",
       "      <td>NO</td>\n",
       "      <td>NO</td>\n",
       "      <td>NO</td>\n",
       "      <td>PENDING</td>\n",
       "      <td>47.0</td>\n",
       "    </tr>\n",
       "    <tr>\n",
       "      <th>37090</th>\n",
       "      <td>FEMALE</td>\n",
       "      <td>1970.0</td>\n",
       "      <td>NO</td>\n",
       "      <td>NO</td>\n",
       "      <td>NO</td>\n",
       "      <td>NO</td>\n",
       "      <td>NO</td>\n",
       "      <td>NO</td>\n",
       "      <td>NO</td>\n",
       "      <td>NO</td>\n",
       "      <td>NO</td>\n",
       "      <td>NO</td>\n",
       "      <td>NO</td>\n",
       "      <td>NO</td>\n",
       "      <td>NO</td>\n",
       "      <td>NEGATIVE</td>\n",
       "      <td>54.0</td>\n",
       "    </tr>\n",
       "    <tr>\n",
       "      <th>19004</th>\n",
       "      <td>FEMALE</td>\n",
       "      <td>2002.0</td>\n",
       "      <td>NO</td>\n",
       "      <td>NO</td>\n",
       "      <td>NO</td>\n",
       "      <td>NO</td>\n",
       "      <td>NO</td>\n",
       "      <td>NO</td>\n",
       "      <td>NO</td>\n",
       "      <td>NO</td>\n",
       "      <td>NO</td>\n",
       "      <td>NO</td>\n",
       "      <td>NO</td>\n",
       "      <td>NO</td>\n",
       "      <td>NO</td>\n",
       "      <td>NEGATIVE</td>\n",
       "      <td>22.0</td>\n",
       "    </tr>\n",
       "    <tr>\n",
       "      <th>44688</th>\n",
       "      <td>FEMALE</td>\n",
       "      <td>1998.0</td>\n",
       "      <td>NO</td>\n",
       "      <td>NO</td>\n",
       "      <td>NO</td>\n",
       "      <td>NO</td>\n",
       "      <td>NO</td>\n",
       "      <td>NO</td>\n",
       "      <td>NO</td>\n",
       "      <td>NO</td>\n",
       "      <td>NO</td>\n",
       "      <td>NO</td>\n",
       "      <td>NO</td>\n",
       "      <td>NO</td>\n",
       "      <td>NO</td>\n",
       "      <td>PENDING</td>\n",
       "      <td>26.0</td>\n",
       "    </tr>\n",
       "  </tbody>\n",
       "</table>\n",
       "</div>"
      ],
      "text/plain": [
       "          sex  birth_year chest_pain cough diarrhea  \\\n",
       "78573    MALE      1993.0         NO    NO       NO   \n",
       "66028    MALE      1977.0         NO    NO       NO   \n",
       "37090  FEMALE      1970.0         NO    NO       NO   \n",
       "19004  FEMALE      2002.0         NO    NO       NO   \n",
       "44688  FEMALE      1998.0         NO    NO       NO   \n",
       "\n",
       "      fatigue_or_general_weakness fever headache thorax_(sore_throat) nausea  \\\n",
       "78573                          NO    NO       NO                   NO     NO   \n",
       "66028                          NO    NO       NO                   NO     NO   \n",
       "37090                          NO    NO       NO                   NO     NO   \n",
       "19004                          NO    NO       NO                   NO     NO   \n",
       "44688                          NO    NO       NO                   NO     NO   \n",
       "\n",
       "      runny_nose sore_throat_or_pharyngitis vomiting loss_of_taste  \\\n",
       "78573         NO                         NO       NO            NO   \n",
       "66028         NO                         NO       NO            NO   \n",
       "37090         NO                         NO       NO            NO   \n",
       "19004         NO                         NO       NO            NO   \n",
       "44688         NO                         NO       NO            NO   \n",
       "\n",
       "      loss_of_smell    result   age  \n",
       "78573            NO  NEGATIVE  31.0  \n",
       "66028            NO   PENDING  47.0  \n",
       "37090            NO  NEGATIVE  54.0  \n",
       "19004            NO  NEGATIVE  22.0  \n",
       "44688            NO   PENDING  26.0  "
      ]
     },
     "execution_count": 26,
     "metadata": {},
     "output_type": "execute_result"
    }
   ],
   "source": [
    "# extracting age from birth year\n",
    "df2['age'] = 2024 - df2.birth_year\n",
    "df2.sample(5)"
   ]
  },
  {
   "cell_type": "code",
   "execution_count": 27,
   "id": "b8b8909e-ae3a-4907-86f3-d2e861b6c2c8",
   "metadata": {},
   "outputs": [],
   "source": [
    "# placing age in the first column \n",
    "df2.insert(0, 'age', df2.pop('age'))"
   ]
  },
  {
   "cell_type": "code",
   "execution_count": 28,
   "id": "d2fa9682-211c-4466-899a-7e275f5acca9",
   "metadata": {},
   "outputs": [],
   "source": [
    "# dropping the birth year column\n",
    "df2.drop(columns = ['birth_year'], inplace = True)"
   ]
  },
  {
   "cell_type": "code",
   "execution_count": 29,
   "id": "62635fb4-7ea9-4643-8e12-596cca733097",
   "metadata": {},
   "outputs": [
    {
     "data": {
      "text/html": [
       "<div>\n",
       "<style scoped>\n",
       "    .dataframe tbody tr th:only-of-type {\n",
       "        vertical-align: middle;\n",
       "    }\n",
       "\n",
       "    .dataframe tbody tr th {\n",
       "        vertical-align: top;\n",
       "    }\n",
       "\n",
       "    .dataframe thead th {\n",
       "        text-align: right;\n",
       "    }\n",
       "</style>\n",
       "<table border=\"1\" class=\"dataframe\">\n",
       "  <thead>\n",
       "    <tr style=\"text-align: right;\">\n",
       "      <th></th>\n",
       "      <th>age</th>\n",
       "      <th>sex</th>\n",
       "      <th>chest_pain</th>\n",
       "      <th>cough</th>\n",
       "      <th>diarrhea</th>\n",
       "      <th>fatigue_or_general_weakness</th>\n",
       "      <th>fever</th>\n",
       "      <th>headache</th>\n",
       "      <th>thorax_(sore_throat)</th>\n",
       "      <th>nausea</th>\n",
       "      <th>runny_nose</th>\n",
       "      <th>sore_throat_or_pharyngitis</th>\n",
       "      <th>vomiting</th>\n",
       "      <th>loss_of_taste</th>\n",
       "      <th>loss_of_smell</th>\n",
       "      <th>result</th>\n",
       "    </tr>\n",
       "  </thead>\n",
       "  <tbody>\n",
       "    <tr>\n",
       "      <th>0</th>\n",
       "      <td>57.0</td>\n",
       "      <td>MALE</td>\n",
       "      <td>NO</td>\n",
       "      <td>NO</td>\n",
       "      <td>NO</td>\n",
       "      <td>NO</td>\n",
       "      <td>NO</td>\n",
       "      <td>NO</td>\n",
       "      <td>NO</td>\n",
       "      <td>NO</td>\n",
       "      <td>NO</td>\n",
       "      <td>NO</td>\n",
       "      <td>NO</td>\n",
       "      <td>NO</td>\n",
       "      <td>NO</td>\n",
       "      <td>PENDING</td>\n",
       "    </tr>\n",
       "    <tr>\n",
       "      <th>1</th>\n",
       "      <td>48.0</td>\n",
       "      <td>MALE</td>\n",
       "      <td>NO</td>\n",
       "      <td>NO</td>\n",
       "      <td>NO</td>\n",
       "      <td>NO</td>\n",
       "      <td>NO</td>\n",
       "      <td>NO</td>\n",
       "      <td>NO</td>\n",
       "      <td>NO</td>\n",
       "      <td>NO</td>\n",
       "      <td>NO</td>\n",
       "      <td>NO</td>\n",
       "      <td>NO</td>\n",
       "      <td>NO</td>\n",
       "      <td>NEGATIVE</td>\n",
       "    </tr>\n",
       "    <tr>\n",
       "      <th>2</th>\n",
       "      <td>36.0</td>\n",
       "      <td>MALE</td>\n",
       "      <td>NO</td>\n",
       "      <td>NO</td>\n",
       "      <td>NO</td>\n",
       "      <td>NO</td>\n",
       "      <td>YES</td>\n",
       "      <td>NO</td>\n",
       "      <td>NO</td>\n",
       "      <td>NO</td>\n",
       "      <td>NO</td>\n",
       "      <td>NO</td>\n",
       "      <td>NO</td>\n",
       "      <td>NO</td>\n",
       "      <td>NO</td>\n",
       "      <td>NEGATIVE</td>\n",
       "    </tr>\n",
       "    <tr>\n",
       "      <th>3</th>\n",
       "      <td>44.0</td>\n",
       "      <td>MALE</td>\n",
       "      <td>NO</td>\n",
       "      <td>NO</td>\n",
       "      <td>NO</td>\n",
       "      <td>NO</td>\n",
       "      <td>NO</td>\n",
       "      <td>NO</td>\n",
       "      <td>NO</td>\n",
       "      <td>NO</td>\n",
       "      <td>NO</td>\n",
       "      <td>NO</td>\n",
       "      <td>NO</td>\n",
       "      <td>NO</td>\n",
       "      <td>NO</td>\n",
       "      <td>NEGATIVE</td>\n",
       "    </tr>\n",
       "    <tr>\n",
       "      <th>4</th>\n",
       "      <td>46.0</td>\n",
       "      <td>FEMALE</td>\n",
       "      <td>NO</td>\n",
       "      <td>YES</td>\n",
       "      <td>NO</td>\n",
       "      <td>NO</td>\n",
       "      <td>NO</td>\n",
       "      <td>NO</td>\n",
       "      <td>YES</td>\n",
       "      <td>NO</td>\n",
       "      <td>YES</td>\n",
       "      <td>YES</td>\n",
       "      <td>NO</td>\n",
       "      <td>NO</td>\n",
       "      <td>NO</td>\n",
       "      <td>NEGATIVE</td>\n",
       "    </tr>\n",
       "  </tbody>\n",
       "</table>\n",
       "</div>"
      ],
      "text/plain": [
       "    age     sex chest_pain cough diarrhea fatigue_or_general_weakness fever  \\\n",
       "0  57.0    MALE         NO    NO       NO                          NO    NO   \n",
       "1  48.0    MALE         NO    NO       NO                          NO    NO   \n",
       "2  36.0    MALE         NO    NO       NO                          NO   YES   \n",
       "3  44.0    MALE         NO    NO       NO                          NO    NO   \n",
       "4  46.0  FEMALE         NO   YES       NO                          NO    NO   \n",
       "\n",
       "  headache thorax_(sore_throat) nausea runny_nose sore_throat_or_pharyngitis  \\\n",
       "0       NO                   NO     NO         NO                         NO   \n",
       "1       NO                   NO     NO         NO                         NO   \n",
       "2       NO                   NO     NO         NO                         NO   \n",
       "3       NO                   NO     NO         NO                         NO   \n",
       "4       NO                  YES     NO        YES                        YES   \n",
       "\n",
       "  vomiting loss_of_taste loss_of_smell    result  \n",
       "0       NO            NO            NO   PENDING  \n",
       "1       NO            NO            NO  NEGATIVE  \n",
       "2       NO            NO            NO  NEGATIVE  \n",
       "3       NO            NO            NO  NEGATIVE  \n",
       "4       NO            NO            NO  NEGATIVE  "
      ]
     },
     "execution_count": 29,
     "metadata": {},
     "output_type": "execute_result"
    }
   ],
   "source": [
    "df2.head(5)"
   ]
  },
  {
   "cell_type": "markdown",
   "id": "ad31dada-ab16-4d76-a31e-63847a08ae86",
   "metadata": {},
   "source": [
    "**Ecoding the dataframe**"
   ]
  },
  {
   "cell_type": "code",
   "execution_count": 30,
   "id": "b38cc186-5d8f-4b1b-9d25-94902fe33cc8",
   "metadata": {},
   "outputs": [],
   "source": [
    "# encoding the target variable, result\n",
    "label_encoder = LabelEncoder()\n",
    "df2['result'] = label_encoder.fit_transform(df2['result'])"
   ]
  },
  {
   "cell_type": "code",
   "execution_count": 31,
   "id": "91805def-fd1a-4d05-9d98-3d5539359cbd",
   "metadata": {},
   "outputs": [
    {
     "data": {
      "text/plain": [
       "0    2\n",
       "1    1\n",
       "2    1\n",
       "3    1\n",
       "4    1\n",
       "Name: result, dtype: int32"
      ]
     },
     "execution_count": 31,
     "metadata": {},
     "output_type": "execute_result"
    }
   ],
   "source": [
    "df2.result.head(5)"
   ]
  },
  {
   "cell_type": "code",
   "execution_count": 32,
   "id": "0f61b4d3-e7bb-4376-ba3d-598b72a07bb2",
   "metadata": {},
   "outputs": [
    {
     "data": {
      "image/png": "[encoded data removed]",
      "text/plain": [
       "<Figure size 640x480 with 1 Axes>"
      ]
     },
     "metadata": {},
     "output_type": "display_data"
    }
   ],
   "source": [
    "# visualize the relationship between age and result \n",
    "plt.scatter(df2.age, df2.result, marker = '+', color = 'r');"
   ]
  },
  {
   "cell_type": "code",
   "execution_count": 33,
   "id": "11a3f8e4-f683-47d4-a888-05a25203b01c",
   "metadata": {},
   "outputs": [
    {
     "data": {
      "text/plain": [
       "['sex',\n",
       " 'chest_pain',\n",
       " 'cough',\n",
       " 'diarrhea',\n",
       " 'fatigue_or_general_weakness',\n",
       " 'fever',\n",
       " 'headache',\n",
       " 'thorax_(sore_throat)',\n",
       " 'nausea',\n",
       " 'runny_nose',\n",
       " 'sore_throat_or_pharyngitis',\n",
       " 'vomiting',\n",
       " 'loss_of_taste',\n",
       " 'loss_of_smell']"
      ]
     },
     "execution_count": 33,
     "metadata": {},
     "output_type": "execute_result"
    }
   ],
   "source": [
    "# list of columns with categorical values\n",
    "cat_columns = [col for col in df2.select_dtypes(include='object').columns]\n",
    "cat_columns   "
   ]
  },
  {
   "cell_type": "code",
   "execution_count": 52,
   "id": "7fcd31de-2bb7-4d8d-9808-33f07acb8249",
   "metadata": {},
   "outputs": [],
   "source": [
    "# dummies encoding for the categorical variables, and concatenating with df1 dataframe\n",
    "df_dum = pd.get_dummies(df2, columns = cat_columns, drop_first = True)\n",
    "df_dum = df_dum.astype(int)"
   ]
  },
  {
   "cell_type": "code",
   "execution_count": 53,
   "id": "4f5bb077-6d78-4b21-9ff7-174e687fecda",
   "metadata": {},
   "outputs": [],
   "source": [
    "df3 = df_dum.copy()"
   ]
  },
  {
   "cell_type": "code",
   "execution_count": 54,
   "id": "42173886-c2ac-4059-81cc-c245f0b4cd4d",
   "metadata": {},
   "outputs": [
    {
     "data": {
      "text/html": [
       "<div>\n",
       "<style scoped>\n",
       "    .dataframe tbody tr th:only-of-type {\n",
       "        vertical-align: middle;\n",
       "    }\n",
       "\n",
       "    .dataframe tbody tr th {\n",
       "        vertical-align: top;\n",
       "    }\n",
       "\n",
       "    .dataframe thead th {\n",
       "        text-align: right;\n",
       "    }\n",
       "</style>\n",
       "<table border=\"1\" class=\"dataframe\">\n",
       "  <thead>\n",
       "    <tr style=\"text-align: right;\">\n",
       "      <th></th>\n",
       "      <th>age</th>\n",
       "      <th>result</th>\n",
       "      <th>sex_MALE</th>\n",
       "      <th>sex_OTHER</th>\n",
       "      <th>chest_pain_YES</th>\n",
       "      <th>cough_YES</th>\n",
       "      <th>diarrhea_YES</th>\n",
       "      <th>fatigue_or_general_weakness_YES</th>\n",
       "      <th>fever_YES</th>\n",
       "      <th>headache_YES</th>\n",
       "      <th>thorax_(sore_throat)_YES</th>\n",
       "      <th>nausea_YES</th>\n",
       "      <th>runny_nose_YES</th>\n",
       "      <th>sore_throat_or_pharyngitis_YES</th>\n",
       "      <th>vomiting_YES</th>\n",
       "      <th>loss_of_taste_YES</th>\n",
       "      <th>loss_of_smell_YES</th>\n",
       "    </tr>\n",
       "  </thead>\n",
       "  <tbody>\n",
       "    <tr>\n",
       "      <th>0</th>\n",
       "      <td>57</td>\n",
       "      <td>2</td>\n",
       "      <td>1</td>\n",
       "      <td>0</td>\n",
       "      <td>0</td>\n",
       "      <td>0</td>\n",
       "      <td>0</td>\n",
       "      <td>0</td>\n",
       "      <td>0</td>\n",
       "      <td>0</td>\n",
       "      <td>0</td>\n",
       "      <td>0</td>\n",
       "      <td>0</td>\n",
       "      <td>0</td>\n",
       "      <td>0</td>\n",
       "      <td>0</td>\n",
       "      <td>0</td>\n",
       "    </tr>\n",
       "    <tr>\n",
       "      <th>1</th>\n",
       "      <td>48</td>\n",
       "      <td>1</td>\n",
       "      <td>1</td>\n",
       "      <td>0</td>\n",
       "      <td>0</td>\n",
       "      <td>0</td>\n",
       "      <td>0</td>\n",
       "      <td>0</td>\n",
       "      <td>0</td>\n",
       "      <td>0</td>\n",
       "      <td>0</td>\n",
       "      <td>0</td>\n",
       "      <td>0</td>\n",
       "      <td>0</td>\n",
       "      <td>0</td>\n",
       "      <td>0</td>\n",
       "      <td>0</td>\n",
       "    </tr>\n",
       "    <tr>\n",
       "      <th>2</th>\n",
       "      <td>36</td>\n",
       "      <td>1</td>\n",
       "      <td>1</td>\n",
       "      <td>0</td>\n",
       "      <td>0</td>\n",
       "      <td>0</td>\n",
       "      <td>0</td>\n",
       "      <td>0</td>\n",
       "      <td>1</td>\n",
       "      <td>0</td>\n",
       "      <td>0</td>\n",
       "      <td>0</td>\n",
       "      <td>0</td>\n",
       "      <td>0</td>\n",
       "      <td>0</td>\n",
       "      <td>0</td>\n",
       "      <td>0</td>\n",
       "    </tr>\n",
       "  </tbody>\n",
       "</table>\n",
       "</div>"
      ],
      "text/plain": [
       "   age  result  sex_MALE  sex_OTHER  chest_pain_YES  cough_YES  diarrhea_YES  \\\n",
       "0   57       2         1          0               0          0             0   \n",
       "1   48       1         1          0               0          0             0   \n",
       "2   36       1         1          0               0          0             0   \n",
       "\n",
       "   fatigue_or_general_weakness_YES  fever_YES  headache_YES  \\\n",
       "0                                0          0             0   \n",
       "1                                0          0             0   \n",
       "2                                0          1             0   \n",
       "\n",
       "   thorax_(sore_throat)_YES  nausea_YES  runny_nose_YES  \\\n",
       "0                         0           0               0   \n",
       "1                         0           0               0   \n",
       "2                         0           0               0   \n",
       "\n",
       "   sore_throat_or_pharyngitis_YES  vomiting_YES  loss_of_taste_YES  \\\n",
       "0                               0             0                  0   \n",
       "1                               0             0                  0   \n",
       "2                               0             0                  0   \n",
       "\n",
       "   loss_of_smell_YES  \n",
       "0                  0  \n",
       "1                  0  \n",
       "2                  0  "
      ]
     },
     "execution_count": 54,
     "metadata": {},
     "output_type": "execute_result"
    }
   ],
   "source": [
    "df3.head(3)"
   ]
  },
  {
   "cell_type": "code",
   "execution_count": 55,
   "id": "4d7ae3de-c080-445b-9820-3a003dda95e2",
   "metadata": {},
   "outputs": [],
   "source": [
    "df3.drop(columns = ['loss_of_smell_YES'], inplace = True)"
   ]
  },
  {
   "cell_type": "code",
   "execution_count": 56,
   "id": "30268278-b897-4936-91e7-b5fadfb3f196",
   "metadata": {},
   "outputs": [
    {
     "data": {
      "text/html": [
       "<div>\n",
       "<style scoped>\n",
       "    .dataframe tbody tr th:only-of-type {\n",
       "        vertical-align: middle;\n",
       "    }\n",
       "\n",
       "    .dataframe tbody tr th {\n",
       "        vertical-align: top;\n",
       "    }\n",
       "\n",
       "    .dataframe thead th {\n",
       "        text-align: right;\n",
       "    }\n",
       "</style>\n",
       "<table border=\"1\" class=\"dataframe\">\n",
       "  <thead>\n",
       "    <tr style=\"text-align: right;\">\n",
       "      <th></th>\n",
       "      <th>age</th>\n",
       "      <th>result</th>\n",
       "      <th>sex_MALE</th>\n",
       "      <th>sex_OTHER</th>\n",
       "      <th>chest_pain_YES</th>\n",
       "      <th>cough_YES</th>\n",
       "      <th>diarrhea_YES</th>\n",
       "      <th>fatigue_or_general_weakness_YES</th>\n",
       "      <th>fever_YES</th>\n",
       "      <th>headache_YES</th>\n",
       "      <th>thorax_(sore_throat)_YES</th>\n",
       "      <th>nausea_YES</th>\n",
       "      <th>runny_nose_YES</th>\n",
       "      <th>sore_throat_or_pharyngitis_YES</th>\n",
       "      <th>vomiting_YES</th>\n",
       "      <th>loss_of_taste_YES</th>\n",
       "    </tr>\n",
       "  </thead>\n",
       "  <tbody>\n",
       "    <tr>\n",
       "      <th>0</th>\n",
       "      <td>57</td>\n",
       "      <td>2</td>\n",
       "      <td>1</td>\n",
       "      <td>0</td>\n",
       "      <td>0</td>\n",
       "      <td>0</td>\n",
       "      <td>0</td>\n",
       "      <td>0</td>\n",
       "      <td>0</td>\n",
       "      <td>0</td>\n",
       "      <td>0</td>\n",
       "      <td>0</td>\n",
       "      <td>0</td>\n",
       "      <td>0</td>\n",
       "      <td>0</td>\n",
       "      <td>0</td>\n",
       "    </tr>\n",
       "    <tr>\n",
       "      <th>1</th>\n",
       "      <td>48</td>\n",
       "      <td>1</td>\n",
       "      <td>1</td>\n",
       "      <td>0</td>\n",
       "      <td>0</td>\n",
       "      <td>0</td>\n",
       "      <td>0</td>\n",
       "      <td>0</td>\n",
       "      <td>0</td>\n",
       "      <td>0</td>\n",
       "      <td>0</td>\n",
       "      <td>0</td>\n",
       "      <td>0</td>\n",
       "      <td>0</td>\n",
       "      <td>0</td>\n",
       "      <td>0</td>\n",
       "    </tr>\n",
       "    <tr>\n",
       "      <th>2</th>\n",
       "      <td>36</td>\n",
       "      <td>1</td>\n",
       "      <td>1</td>\n",
       "      <td>0</td>\n",
       "      <td>0</td>\n",
       "      <td>0</td>\n",
       "      <td>0</td>\n",
       "      <td>0</td>\n",
       "      <td>1</td>\n",
       "      <td>0</td>\n",
       "      <td>0</td>\n",
       "      <td>0</td>\n",
       "      <td>0</td>\n",
       "      <td>0</td>\n",
       "      <td>0</td>\n",
       "      <td>0</td>\n",
       "    </tr>\n",
       "    <tr>\n",
       "      <th>3</th>\n",
       "      <td>44</td>\n",
       "      <td>1</td>\n",
       "      <td>1</td>\n",
       "      <td>0</td>\n",
       "      <td>0</td>\n",
       "      <td>0</td>\n",
       "      <td>0</td>\n",
       "      <td>0</td>\n",
       "      <td>0</td>\n",
       "      <td>0</td>\n",
       "      <td>0</td>\n",
       "      <td>0</td>\n",
       "      <td>0</td>\n",
       "      <td>0</td>\n",
       "      <td>0</td>\n",
       "      <td>0</td>\n",
       "    </tr>\n",
       "    <tr>\n",
       "      <th>4</th>\n",
       "      <td>46</td>\n",
       "      <td>1</td>\n",
       "      <td>0</td>\n",
       "      <td>0</td>\n",
       "      <td>0</td>\n",
       "      <td>1</td>\n",
       "      <td>0</td>\n",
       "      <td>0</td>\n",
       "      <td>0</td>\n",
       "      <td>0</td>\n",
       "      <td>1</td>\n",
       "      <td>0</td>\n",
       "      <td>1</td>\n",
       "      <td>1</td>\n",
       "      <td>0</td>\n",
       "      <td>0</td>\n",
       "    </tr>\n",
       "  </tbody>\n",
       "</table>\n",
       "</div>"
      ],
      "text/plain": [
       "   age  result  sex_MALE  sex_OTHER  chest_pain_YES  cough_YES  diarrhea_YES  \\\n",
       "0   57       2         1          0               0          0             0   \n",
       "1   48       1         1          0               0          0             0   \n",
       "2   36       1         1          0               0          0             0   \n",
       "3   44       1         1          0               0          0             0   \n",
       "4   46       1         0          0               0          1             0   \n",
       "\n",
       "   fatigue_or_general_weakness_YES  fever_YES  headache_YES  \\\n",
       "0                                0          0             0   \n",
       "1                                0          0             0   \n",
       "2                                0          1             0   \n",
       "3                                0          0             0   \n",
       "4                                0          0             0   \n",
       "\n",
       "   thorax_(sore_throat)_YES  nausea_YES  runny_nose_YES  \\\n",
       "0                         0           0               0   \n",
       "1                         0           0               0   \n",
       "2                         0           0               0   \n",
       "3                         0           0               0   \n",
       "4                         1           0               1   \n",
       "\n",
       "   sore_throat_or_pharyngitis_YES  vomiting_YES  loss_of_taste_YES  \n",
       "0                               0             0                  0  \n",
       "1                               0             0                  0  \n",
       "2                               0             0                  0  \n",
       "3                               0             0                  0  \n",
       "4                               1             0                  0  "
      ]
     },
     "execution_count": 56,
     "metadata": {},
     "output_type": "execute_result"
    }
   ],
   "source": [
    "df3.head()"
   ]
  },
  {
   "cell_type": "markdown",
   "id": "9b412d61-ea85-48fb-af87-850f44e960e2",
   "metadata": {},
   "source": [
    "### Model Building"
   ]
  },
  {
   "cell_type": "code",
   "execution_count": 40,
   "id": "84b1998f-96e8-4fd8-bd6c-10b1aa60ff85",
   "metadata": {},
   "outputs": [],
   "source": [
    "# importing libraries for machine learning\n",
    "from sklearn.model_selection import train_test_split, cross_val_score, GridSearchCV\n",
    "from sklearn.linear_model import LogisticRegression\n",
    "from sklearn.tree import DecisionTreeClassifier\n",
    "from sklearn.ensemble import RandomForestClassifier, GradientBoostingClassifier\n",
    "from sklearn.metrics import accuracy_score, precision_score, recall_score, f1_score, roc_auc_score, classification_report, confusion_matrix\n",
    "from sklearn.preprocessing import StandardScaler\n",
    "from imblearn.over_sampling import SMOTE\n",
    "from sklearn.pipeline import Pipeline\n",
    "from sklearn.compose import ColumnTransformer\n",
    "from sklearn.preprocessing import OneHotEncoder"
   ]
  },
  {
   "cell_type": "code",
   "execution_count": 66,
   "id": "d6a37e9d-dcd7-4a7d-990a-92a75256c651",
   "metadata": {},
   "outputs": [],
   "source": [
    "# Defining feature variables X and the target y\n",
    "X = df3.drop('result', axis = 1)\n",
    "y = df3['result']"
   ]
  },
  {
   "cell_type": "code",
   "execution_count": 54,
   "id": "9d6e9c85-6af7-4c96-9002-037d3c0b4a10",
   "metadata": {},
   "outputs": [],
   "source": [
    "\"\"\"# Handling class imbalance across independent variables using SMOTE\n",
    "smote = SMOTE(random_state=42, k_neighbors=3)\n",
    "X_resampled, y_resampled = smote.fit_resample(X, y)\"\"\""
   ]
  },
  {
   "cell_type": "markdown",
   "id": "7a62f7e2-dc73-4b60-b09f-6816d83395ab",
   "metadata": {},
   "source": [
    "**Logistic Regression Model**"
   ]
  },
  {
   "cell_type": "code",
   "execution_count": 58,
   "id": "2964ceb1-1450-49d2-85a0-78d329437a6d",
   "metadata": {},
   "outputs": [],
   "source": [
    "# Spliting the resampled data into training and testing sets\n",
    "X_train, X_test, y_train, y_test = train_test_split(X, y, test_size=0.2, random_state=42)"
   ]
  },
  {
   "cell_type": "code",
   "execution_count": 59,
   "id": "0028a5dd-212f-4155-b981-f70568c95a1f",
   "metadata": {},
   "outputs": [],
   "source": [
    "# Standardizing the numerical features\n",
    "scaler = StandardScaler()\n",
    "X_train_scaled = scaler.fit_transform(X_train)\n",
    "X_test_scaled = scaler.transform(X_test)"
   ]
  },
  {
   "cell_type": "code",
   "execution_count": 60,
   "id": "81701920-fc7e-41be-b9b9-4718f95a53ac",
   "metadata": {},
   "outputs": [],
   "source": [
    "# model and Hyperparameter tunnng\n",
    "\n",
    "log_reg = LogisticRegression(max_iter=1000)\n",
    "log_reg_param_grid = {\n",
    "    'C': [0.1, 1, 10, 100],\n",
    "    'solver': ['newton-cg', 'lbfgs', 'liblinear']\n",
    "}"
   ]
  },
  {
   "cell_type": "code",
   "execution_count": null,
   "id": "8099f18a-3b16-4e69-ab30-4137d4853738",
   "metadata": {},
   "outputs": [],
   "source": [
    "# gridsearch validation\n",
    "log_reg_grid_search = GridSearchCV(estimator=log_reg, param_grid=log_reg_param_grid, cv=5, scoring='f1_weighted', n_jobs=-1)\n",
    "log_reg_grid_search.fit(X_train, y_train)"
   ]
  },
  {
   "cell_type": "code",
   "execution_count": 62,
   "id": "81c591d8-be28-4b70-a54c-04c4595965a1",
   "metadata": {},
   "outputs": [],
   "source": [
    "# Accuracy, Precision, recall, f1, roc_auc metrics function\n",
    "def evaluate_model(model, X_test, y_test):\n",
    "    y_pred = model.predict(X_test)\n",
    "    accuracy = accuracy_score(y_test, y_pred)\n",
    "    precision = precision_score(y_test, y_pred, average='weighted')\n",
    "    recall = recall_score(y_test, y_pred, average='weighted')\n",
    "    f1 = f1_score(y_test, y_pred, average='weighted')\n",
    "    roc_auc = roc_auc_score(y_test, model.predict_proba(X_test), multi_class='ovr', average='weighted')\n",
    "\n",
    "    print(f\"Accuracy: {accuracy}\")\n",
    "    print(f\"Precision: {precision}\")\n",
    "    print(f\"Recall: {recall}\")\n",
    "    print(f\"F1 Score: {f1}\")\n",
    "    print(f\"AUC-ROC: {roc_auc}\")"
   ]
  },
  {
   "cell_type": "code",
   "execution_count": 65,
   "id": "f5c01961-49ca-41eb-b0e1-0775ad434194",
   "metadata": {},
   "outputs": [
    {
     "ename": "ValueError",
     "evalue": "Number of classes in y_true not equal to the number of columns in 'y_score'",
     "output_type": "error",
     "traceback": [
      "\u001b[1;31m---------------------------------------------------------------------------\u001b[0m",
      "\u001b[1;31mValueError\u001b[0m                                Traceback (most recent call last)",
      "Cell \u001b[1;32mIn[65], line 3\u001b[0m\n\u001b[0;32m      1\u001b[0m \u001b[38;5;66;03m# logistic regression evaluation\u001b[39;00m\n\u001b[0;32m      2\u001b[0m log_reg_best \u001b[38;5;241m=\u001b[39m log_reg_grid_search\u001b[38;5;241m.\u001b[39mbest_estimator_\n\u001b[1;32m----> 3\u001b[0m log_reg_metrics \u001b[38;5;241m=\u001b[39m evaluate_model(log_reg_best, X_test_scaled, y_test)\n",
      "Cell \u001b[1;32mIn[62], line 8\u001b[0m, in \u001b[0;36mevaluate_model\u001b[1;34m(model, X_test, y_test)\u001b[0m\n\u001b[0;32m      6\u001b[0m recall \u001b[38;5;241m=\u001b[39m recall_score(y_test, y_pred, average\u001b[38;5;241m=\u001b[39m\u001b[38;5;124m'\u001b[39m\u001b[38;5;124mweighted\u001b[39m\u001b[38;5;124m'\u001b[39m)\n\u001b[0;32m      7\u001b[0m f1 \u001b[38;5;241m=\u001b[39m f1_score(y_test, y_pred, average\u001b[38;5;241m=\u001b[39m\u001b[38;5;124m'\u001b[39m\u001b[38;5;124mweighted\u001b[39m\u001b[38;5;124m'\u001b[39m)\n\u001b[1;32m----> 8\u001b[0m roc_auc \u001b[38;5;241m=\u001b[39m roc_auc_score(y_test, model\u001b[38;5;241m.\u001b[39mpredict_proba(X_test), multi_class\u001b[38;5;241m=\u001b[39m\u001b[38;5;124m'\u001b[39m\u001b[38;5;124movr\u001b[39m\u001b[38;5;124m'\u001b[39m, average\u001b[38;5;241m=\u001b[39m\u001b[38;5;124m'\u001b[39m\u001b[38;5;124mweighted\u001b[39m\u001b[38;5;124m'\u001b[39m)\n\u001b[0;32m     10\u001b[0m \u001b[38;5;28mprint\u001b[39m(\u001b[38;5;124mf\u001b[39m\u001b[38;5;124m\"\u001b[39m\u001b[38;5;124mAccuracy: \u001b[39m\u001b[38;5;132;01m{\u001b[39;00maccuracy\u001b[38;5;132;01m}\u001b[39;00m\u001b[38;5;124m\"\u001b[39m)\n\u001b[0;32m     11\u001b[0m \u001b[38;5;28mprint\u001b[39m(\u001b[38;5;124mf\u001b[39m\u001b[38;5;124m\"\u001b[39m\u001b[38;5;124mPrecision: \u001b[39m\u001b[38;5;132;01m{\u001b[39;00mprecision\u001b[38;5;132;01m}\u001b[39;00m\u001b[38;5;124m\"\u001b[39m)\n",
      "File \u001b[1;32m~\\anaconda3\\Lib\\site-packages\\sklearn\\metrics\\_ranking.py:566\u001b[0m, in \u001b[0;36mroc_auc_score\u001b[1;34m(y_true, y_score, average, sample_weight, max_fpr, multi_class, labels)\u001b[0m\n\u001b[0;32m    564\u001b[0m     \u001b[38;5;28;01mif\u001b[39;00m multi_class \u001b[38;5;241m==\u001b[39m \u001b[38;5;124m\"\u001b[39m\u001b[38;5;124mraise\u001b[39m\u001b[38;5;124m\"\u001b[39m:\n\u001b[0;32m    565\u001b[0m         \u001b[38;5;28;01mraise\u001b[39;00m \u001b[38;5;167;01mValueError\u001b[39;00m(\u001b[38;5;124m\"\u001b[39m\u001b[38;5;124mmulti_class must be in (\u001b[39m\u001b[38;5;124m'\u001b[39m\u001b[38;5;124movo\u001b[39m\u001b[38;5;124m'\u001b[39m\u001b[38;5;124m, \u001b[39m\u001b[38;5;124m'\u001b[39m\u001b[38;5;124movr\u001b[39m\u001b[38;5;124m'\u001b[39m\u001b[38;5;124m)\u001b[39m\u001b[38;5;124m\"\u001b[39m)\n\u001b[1;32m--> 566\u001b[0m     \u001b[38;5;28;01mreturn\u001b[39;00m _multiclass_roc_auc_score(\n\u001b[0;32m    567\u001b[0m         y_true, y_score, labels, multi_class, average, sample_weight\n\u001b[0;32m    568\u001b[0m     )\n\u001b[0;32m    569\u001b[0m \u001b[38;5;28;01melif\u001b[39;00m y_type \u001b[38;5;241m==\u001b[39m \u001b[38;5;124m\"\u001b[39m\u001b[38;5;124mbinary\u001b[39m\u001b[38;5;124m\"\u001b[39m:\n\u001b[0;32m    570\u001b[0m     labels \u001b[38;5;241m=\u001b[39m np\u001b[38;5;241m.\u001b[39munique(y_true)\n",
      "File \u001b[1;32m~\\anaconda3\\Lib\\site-packages\\sklearn\\metrics\\_ranking.py:683\u001b[0m, in \u001b[0;36m_multiclass_roc_auc_score\u001b[1;34m(y_true, y_score, labels, multi_class, average, sample_weight)\u001b[0m\n\u001b[0;32m    681\u001b[0m     classes \u001b[38;5;241m=\u001b[39m _unique(y_true)\n\u001b[0;32m    682\u001b[0m     \u001b[38;5;28;01mif\u001b[39;00m \u001b[38;5;28mlen\u001b[39m(classes) \u001b[38;5;241m!=\u001b[39m y_score\u001b[38;5;241m.\u001b[39mshape[\u001b[38;5;241m1\u001b[39m]:\n\u001b[1;32m--> 683\u001b[0m         \u001b[38;5;28;01mraise\u001b[39;00m \u001b[38;5;167;01mValueError\u001b[39;00m(\n\u001b[0;32m    684\u001b[0m             \u001b[38;5;124m\"\u001b[39m\u001b[38;5;124mNumber of classes in y_true not equal to the number of \u001b[39m\u001b[38;5;124m\"\u001b[39m\n\u001b[0;32m    685\u001b[0m             \u001b[38;5;124m\"\u001b[39m\u001b[38;5;124mcolumns in \u001b[39m\u001b[38;5;124m'\u001b[39m\u001b[38;5;124my_score\u001b[39m\u001b[38;5;124m'\u001b[39m\u001b[38;5;124m\"\u001b[39m\n\u001b[0;32m    686\u001b[0m         )\n\u001b[0;32m    688\u001b[0m \u001b[38;5;28;01mif\u001b[39;00m multi_class \u001b[38;5;241m==\u001b[39m \u001b[38;5;124m\"\u001b[39m\u001b[38;5;124movo\u001b[39m\u001b[38;5;124m\"\u001b[39m:\n\u001b[0;32m    689\u001b[0m     \u001b[38;5;28;01mif\u001b[39;00m sample_weight \u001b[38;5;129;01mis\u001b[39;00m \u001b[38;5;129;01mnot\u001b[39;00m \u001b[38;5;28;01mNone\u001b[39;00m:\n",
      "\u001b[1;31mValueError\u001b[0m: Number of classes in y_true not equal to the number of columns in 'y_score'"
     ]
    }
   ],
   "source": [
    "# logistic regression evaluation\n",
    "log_reg_best = log_reg_grid_search.best_estimator_\n",
    "log_reg_metrics = evaluate_model(log_reg_best, X_test_scaled, y_test)\n",
    "\n"
   ]
  },
  {
   "cell_type": "markdown",
   "id": "b695f106-e213-47f1-9913-e2dedfddfb71",
   "metadata": {},
   "source": [
    "**Decision Tree Model**"
   ]
  },
  {
   "cell_type": "code",
   "execution_count": 72,
   "id": "848cd01b-856e-455e-8cab-cf34f86591b2",
   "metadata": {},
   "outputs": [],
   "source": [
    "# model building and regularization\n",
    "tree = DecisionTreeClassifier()\n",
    "tree_param_grid = {\n",
    "    'max_depth': [None, 10, 20, 30],\n",
    "    'min_samples_split': [2, 5, 10]\n",
    "}"
   ]
  },
  {
   "cell_type": "code",
   "execution_count": 73,
   "id": "219886e8-1e4e-458f-b0cb-c6e394d71fe6",
   "metadata": {},
   "outputs": [
    {
     "data": {
      "text/html": [
       "<style>#sk-container-id-4 {color: black;background-color: white;}#sk-container-id-4 pre{padding: 0;}#sk-container-id-4 div.sk-toggleable {background-color: white;}#sk-container-id-4 label.sk-toggleable__label {cursor: pointer;display: block;width: 100%;margin-bottom: 0;padding: 0.3em;box-sizing: border-box;text-align: center;}#sk-container-id-4 label.sk-toggleable__label-arrow:before {content: \"▸\";float: left;margin-right: 0.25em;color: #696969;}#sk-container-id-4 label.sk-toggleable__label-arrow:hover:before {color: black;}#sk-container-id-4 div.sk-estimator:hover label.sk-toggleable__label-arrow:before {color: black;}#sk-container-id-4 div.sk-toggleable__content {max-height: 0;max-width: 0;overflow: hidden;text-align: left;background-color: #f0f8ff;}#sk-container-id-4 div.sk-toggleable__content pre {margin: 0.2em;color: black;border-radius: 0.25em;background-color: #f0f8ff;}#sk-container-id-4 input.sk-toggleable__control:checked~div.sk-toggleable__content {max-height: 200px;max-width: 100%;overflow: auto;}#sk-container-id-4 input.sk-toggleable__control:checked~label.sk-toggleable__label-arrow:before {content: \"▾\";}#sk-container-id-4 div.sk-estimator input.sk-toggleable__control:checked~label.sk-toggleable__label {background-color: #d4ebff;}#sk-container-id-4 div.sk-label input.sk-toggleable__control:checked~label.sk-toggleable__label {background-color: #d4ebff;}#sk-container-id-4 input.sk-hidden--visually {border: 0;clip: rect(1px 1px 1px 1px);clip: rect(1px, 1px, 1px, 1px);height: 1px;margin: -1px;overflow: hidden;padding: 0;position: absolute;width: 1px;}#sk-container-id-4 div.sk-estimator {font-family: monospace;background-color: #f0f8ff;border: 1px dotted black;border-radius: 0.25em;box-sizing: border-box;margin-bottom: 0.5em;}#sk-container-id-4 div.sk-estimator:hover {background-color: #d4ebff;}#sk-container-id-4 div.sk-parallel-item::after {content: \"\";width: 100%;border-bottom: 1px solid gray;flex-grow: 1;}#sk-container-id-4 div.sk-label:hover label.sk-toggleable__label {background-color: #d4ebff;}#sk-container-id-4 div.sk-serial::before {content: \"\";position: absolute;border-left: 1px solid gray;box-sizing: border-box;top: 0;bottom: 0;left: 50%;z-index: 0;}#sk-container-id-4 div.sk-serial {display: flex;flex-direction: column;align-items: center;background-color: white;padding-right: 0.2em;padding-left: 0.2em;position: relative;}#sk-container-id-4 div.sk-item {position: relative;z-index: 1;}#sk-container-id-4 div.sk-parallel {display: flex;align-items: stretch;justify-content: center;background-color: white;position: relative;}#sk-container-id-4 div.sk-item::before, #sk-container-id-4 div.sk-parallel-item::before {content: \"\";position: absolute;border-left: 1px solid gray;box-sizing: border-box;top: 0;bottom: 0;left: 50%;z-index: -1;}#sk-container-id-4 div.sk-parallel-item {display: flex;flex-direction: column;z-index: 1;position: relative;background-color: white;}#sk-container-id-4 div.sk-parallel-item:first-child::after {align-self: flex-end;width: 50%;}#sk-container-id-4 div.sk-parallel-item:last-child::after {align-self: flex-start;width: 50%;}#sk-container-id-4 div.sk-parallel-item:only-child::after {width: 0;}#sk-container-id-4 div.sk-dashed-wrapped {border: 1px dashed gray;margin: 0 0.4em 0.5em 0.4em;box-sizing: border-box;padding-bottom: 0.4em;background-color: white;}#sk-container-id-4 div.sk-label label {font-family: monospace;font-weight: bold;display: inline-block;line-height: 1.2em;}#sk-container-id-4 div.sk-label-container {text-align: center;}#sk-container-id-4 div.sk-container {/* jupyter's `normalize.less` sets `[hidden] { display: none; }` but bootstrap.min.css set `[hidden] { display: none !important; }` so we also need the `!important` here to be able to override the default hidden behavior on the sphinx rendered scikit-learn.org. See: https://github.com/scikit-learn/scikit-learn/issues/21755 */display: inline-block !important;position: relative;}#sk-container-id-4 div.sk-text-repr-fallback {display: none;}</style><div id=\"sk-container-id-4\" class=\"sk-top-container\"><div class=\"sk-text-repr-fallback\"><pre>GridSearchCV(cv=5, estimator=DecisionTreeClassifier(), n_jobs=-1,\n",
       "             param_grid={&#x27;max_depth&#x27;: [None, 10, 20, 30],\n",
       "                         &#x27;min_samples_split&#x27;: [2, 5, 10]},\n",
       "             scoring=&#x27;f1_weighted&#x27;)</pre><b>In a Jupyter environment, please rerun this cell to show the HTML representation or trust the notebook. <br />On GitHub, the HTML representation is unable to render, please try loading this page with nbviewer.org.</b></div><div class=\"sk-container\" hidden><div class=\"sk-item sk-dashed-wrapped\"><div class=\"sk-label-container\"><div class=\"sk-label sk-toggleable\"><input class=\"sk-toggleable__control sk-hidden--visually\" id=\"sk-estimator-id-6\" type=\"checkbox\" ><label for=\"sk-estimator-id-6\" class=\"sk-toggleable__label sk-toggleable__label-arrow\">GridSearchCV</label><div class=\"sk-toggleable__content\"><pre>GridSearchCV(cv=5, estimator=DecisionTreeClassifier(), n_jobs=-1,\n",
       "             param_grid={&#x27;max_depth&#x27;: [None, 10, 20, 30],\n",
       "                         &#x27;min_samples_split&#x27;: [2, 5, 10]},\n",
       "             scoring=&#x27;f1_weighted&#x27;)</pre></div></div></div><div class=\"sk-parallel\"><div class=\"sk-parallel-item\"><div class=\"sk-item\"><div class=\"sk-label-container\"><div class=\"sk-label sk-toggleable\"><input class=\"sk-toggleable__control sk-hidden--visually\" id=\"sk-estimator-id-7\" type=\"checkbox\" ><label for=\"sk-estimator-id-7\" class=\"sk-toggleable__label sk-toggleable__label-arrow\">estimator: DecisionTreeClassifier</label><div class=\"sk-toggleable__content\"><pre>DecisionTreeClassifier()</pre></div></div></div><div class=\"sk-serial\"><div class=\"sk-item\"><div class=\"sk-estimator sk-toggleable\"><input class=\"sk-toggleable__control sk-hidden--visually\" id=\"sk-estimator-id-8\" type=\"checkbox\" ><label for=\"sk-estimator-id-8\" class=\"sk-toggleable__label sk-toggleable__label-arrow\">DecisionTreeClassifier</label><div class=\"sk-toggleable__content\"><pre>DecisionTreeClassifier()</pre></div></div></div></div></div></div></div></div></div></div>"
      ],
      "text/plain": [
       "GridSearchCV(cv=5, estimator=DecisionTreeClassifier(), n_jobs=-1,\n",
       "             param_grid={'max_depth': [None, 10, 20, 30],\n",
       "                         'min_samples_split': [2, 5, 10]},\n",
       "             scoring='f1_weighted')"
      ]
     },
     "execution_count": 73,
     "metadata": {},
     "output_type": "execute_result"
    }
   ],
   "source": [
    "# Hyperparameter tunnig\n",
    "\n",
    "tree_grid_search = GridSearchCV(estimator=tree, param_grid=tree_param_grid, cv=5, scoring='f1_weighted', n_jobs=-1)\n",
    "\n",
    "tree_grid_search.fit(X_train_scaled, y_train)"
   ]
  },
  {
   "cell_type": "code",
   "execution_count": 74,
   "id": "ba4dbc84-0ce5-4732-89f0-aa73b90561f2",
   "metadata": {},
   "outputs": [
    {
     "name": "stdout",
     "output_type": "stream",
     "text": [
      "Accuracy: 0.4652758437349672\n",
      "Precision: 0.4565511363156665\n",
      "Recall: 0.4652758437349672\n",
      "F1 Score: 0.4535136722302853\n",
      "AUC-ROC: 0.7343396453944534\n"
     ]
    }
   ],
   "source": [
    "#Decision tree evaluation\n",
    "\n",
    "tree_best = tree_grid_search.best_estimator_\n",
    "tree_metrics = evaluate_model(tree_best, X_test_scaled, y_test)"
   ]
  },
  {
   "cell_type": "markdown",
   "id": "5d04bc64-eaae-4d69-a725-884375fa879d",
   "metadata": {},
   "source": [
    "**Random Forest Model**"
   ]
  },
  {
   "cell_type": "code",
   "execution_count": 75,
   "id": "a4e15ec9-b7e2-4c63-9804-7304c1ce7491",
   "metadata": {},
   "outputs": [],
   "source": [
    "# model and regularization strength\n",
    "forest = RandomForestClassifier()\n",
    "\n",
    "forest_param_grid = {\n",
    "    'n_estimators': [100, 200, 300],\n",
    "    'max_depth': [None, 10, 20, 30],\n",
    "    'min_samples_split': [2, 5, 10]\n",
    "}"
   ]
  },
  {
   "cell_type": "code",
   "execution_count": 76,
   "id": "2795cef5-e839-40e7-afb9-3ea556f59f72",
   "metadata": {},
   "outputs": [
    {
     "data": {
      "text/html": [
       "<style>#sk-container-id-5 {color: black;background-color: white;}#sk-container-id-5 pre{padding: 0;}#sk-container-id-5 div.sk-toggleable {background-color: white;}#sk-container-id-5 label.sk-toggleable__label {cursor: pointer;display: block;width: 100%;margin-bottom: 0;padding: 0.3em;box-sizing: border-box;text-align: center;}#sk-container-id-5 label.sk-toggleable__label-arrow:before {content: \"▸\";float: left;margin-right: 0.25em;color: #696969;}#sk-container-id-5 label.sk-toggleable__label-arrow:hover:before {color: black;}#sk-container-id-5 div.sk-estimator:hover label.sk-toggleable__label-arrow:before {color: black;}#sk-container-id-5 div.sk-toggleable__content {max-height: 0;max-width: 0;overflow: hidden;text-align: left;background-color: #f0f8ff;}#sk-container-id-5 div.sk-toggleable__content pre {margin: 0.2em;color: black;border-radius: 0.25em;background-color: #f0f8ff;}#sk-container-id-5 input.sk-toggleable__control:checked~div.sk-toggleable__content {max-height: 200px;max-width: 100%;overflow: auto;}#sk-container-id-5 input.sk-toggleable__control:checked~label.sk-toggleable__label-arrow:before {content: \"▾\";}#sk-container-id-5 div.sk-estimator input.sk-toggleable__control:checked~label.sk-toggleable__label {background-color: #d4ebff;}#sk-container-id-5 div.sk-label input.sk-toggleable__control:checked~label.sk-toggleable__label {background-color: #d4ebff;}#sk-container-id-5 input.sk-hidden--visually {border: 0;clip: rect(1px 1px 1px 1px);clip: rect(1px, 1px, 1px, 1px);height: 1px;margin: -1px;overflow: hidden;padding: 0;position: absolute;width: 1px;}#sk-container-id-5 div.sk-estimator {font-family: monospace;background-color: #f0f8ff;border: 1px dotted black;border-radius: 0.25em;box-sizing: border-box;margin-bottom: 0.5em;}#sk-container-id-5 div.sk-estimator:hover {background-color: #d4ebff;}#sk-container-id-5 div.sk-parallel-item::after {content: \"\";width: 100%;border-bottom: 1px solid gray;flex-grow: 1;}#sk-container-id-5 div.sk-label:hover label.sk-toggleable__label {background-color: #d4ebff;}#sk-container-id-5 div.sk-serial::before {content: \"\";position: absolute;border-left: 1px solid gray;box-sizing: border-box;top: 0;bottom: 0;left: 50%;z-index: 0;}#sk-container-id-5 div.sk-serial {display: flex;flex-direction: column;align-items: center;background-color: white;padding-right: 0.2em;padding-left: 0.2em;position: relative;}#sk-container-id-5 div.sk-item {position: relative;z-index: 1;}#sk-container-id-5 div.sk-parallel {display: flex;align-items: stretch;justify-content: center;background-color: white;position: relative;}#sk-container-id-5 div.sk-item::before, #sk-container-id-5 div.sk-parallel-item::before {content: \"\";position: absolute;border-left: 1px solid gray;box-sizing: border-box;top: 0;bottom: 0;left: 50%;z-index: -1;}#sk-container-id-5 div.sk-parallel-item {display: flex;flex-direction: column;z-index: 1;position: relative;background-color: white;}#sk-container-id-5 div.sk-parallel-item:first-child::after {align-self: flex-end;width: 50%;}#sk-container-id-5 div.sk-parallel-item:last-child::after {align-self: flex-start;width: 50%;}#sk-container-id-5 div.sk-parallel-item:only-child::after {width: 0;}#sk-container-id-5 div.sk-dashed-wrapped {border: 1px dashed gray;margin: 0 0.4em 0.5em 0.4em;box-sizing: border-box;padding-bottom: 0.4em;background-color: white;}#sk-container-id-5 div.sk-label label {font-family: monospace;font-weight: bold;display: inline-block;line-height: 1.2em;}#sk-container-id-5 div.sk-label-container {text-align: center;}#sk-container-id-5 div.sk-container {/* jupyter's `normalize.less` sets `[hidden] { display: none; }` but bootstrap.min.css set `[hidden] { display: none !important; }` so we also need the `!important` here to be able to override the default hidden behavior on the sphinx rendered scikit-learn.org. See: https://github.com/scikit-learn/scikit-learn/issues/21755 */display: inline-block !important;position: relative;}#sk-container-id-5 div.sk-text-repr-fallback {display: none;}</style><div id=\"sk-container-id-5\" class=\"sk-top-container\"><div class=\"sk-text-repr-fallback\"><pre>GridSearchCV(cv=5, estimator=RandomForestClassifier(), n_jobs=-1,\n",
       "             param_grid={&#x27;max_depth&#x27;: [None, 10, 20, 30],\n",
       "                         &#x27;min_samples_split&#x27;: [2, 5, 10],\n",
       "                         &#x27;n_estimators&#x27;: [100, 200, 300]},\n",
       "             scoring=&#x27;f1_weighted&#x27;)</pre><b>In a Jupyter environment, please rerun this cell to show the HTML representation or trust the notebook. <br />On GitHub, the HTML representation is unable to render, please try loading this page with nbviewer.org.</b></div><div class=\"sk-container\" hidden><div class=\"sk-item sk-dashed-wrapped\"><div class=\"sk-label-container\"><div class=\"sk-label sk-toggleable\"><input class=\"sk-toggleable__control sk-hidden--visually\" id=\"sk-estimator-id-9\" type=\"checkbox\" ><label for=\"sk-estimator-id-9\" class=\"sk-toggleable__label sk-toggleable__label-arrow\">GridSearchCV</label><div class=\"sk-toggleable__content\"><pre>GridSearchCV(cv=5, estimator=RandomForestClassifier(), n_jobs=-1,\n",
       "             param_grid={&#x27;max_depth&#x27;: [None, 10, 20, 30],\n",
       "                         &#x27;min_samples_split&#x27;: [2, 5, 10],\n",
       "                         &#x27;n_estimators&#x27;: [100, 200, 300]},\n",
       "             scoring=&#x27;f1_weighted&#x27;)</pre></div></div></div><div class=\"sk-parallel\"><div class=\"sk-parallel-item\"><div class=\"sk-item\"><div class=\"sk-label-container\"><div class=\"sk-label sk-toggleable\"><input class=\"sk-toggleable__control sk-hidden--visually\" id=\"sk-estimator-id-10\" type=\"checkbox\" ><label for=\"sk-estimator-id-10\" class=\"sk-toggleable__label sk-toggleable__label-arrow\">estimator: RandomForestClassifier</label><div class=\"sk-toggleable__content\"><pre>RandomForestClassifier()</pre></div></div></div><div class=\"sk-serial\"><div class=\"sk-item\"><div class=\"sk-estimator sk-toggleable\"><input class=\"sk-toggleable__control sk-hidden--visually\" id=\"sk-estimator-id-11\" type=\"checkbox\" ><label for=\"sk-estimator-id-11\" class=\"sk-toggleable__label sk-toggleable__label-arrow\">RandomForestClassifier</label><div class=\"sk-toggleable__content\"><pre>RandomForestClassifier()</pre></div></div></div></div></div></div></div></div></div></div>"
      ],
      "text/plain": [
       "GridSearchCV(cv=5, estimator=RandomForestClassifier(), n_jobs=-1,\n",
       "             param_grid={'max_depth': [None, 10, 20, 30],\n",
       "                         'min_samples_split': [2, 5, 10],\n",
       "                         'n_estimators': [100, 200, 300]},\n",
       "             scoring='f1_weighted')"
      ]
     },
     "execution_count": 76,
     "metadata": {},
     "output_type": "execute_result"
    }
   ],
   "source": [
    "# Hyperparameter tuning\n",
    "forest_grid_search = GridSearchCV(estimator=forest, param_grid=forest_param_grid, cv=5, scoring='f1_weighted', n_jobs=-1)\n",
    "forest_grid_search.fit(X_train_scaled, y_train)"
   ]
  },
  {
   "cell_type": "code",
   "execution_count": 77,
   "id": "a1971c2b-92fb-4076-9256-731332fbf73c",
   "metadata": {},
   "outputs": [
    {
     "name": "stdout",
     "output_type": "stream",
     "text": [
      "Accuracy: 0.4682127756538471\n",
      "Precision: 0.4600895459587303\n",
      "Recall: 0.4682127756538471\n",
      "F1 Score: 0.45764169133208654\n",
      "AUC-ROC: 0.7376569615858807\n"
     ]
    }
   ],
   "source": [
    "# model evaluation\n",
    "forest_best = forest_grid_search.best_estimator_\n",
    "forest_metrics = evaluate_model(forest_best, X_test_scaled, y_test)"
   ]
  },
  {
   "cell_type": "markdown",
   "id": "cb5dd06c-62ae-4a24-ab44-9ddb9fea661c",
   "metadata": {},
   "source": [
    "**Gradient Boosting Model**"
   ]
  },
  {
   "cell_type": "code",
   "execution_count": 78,
   "id": "8bd92bec-3b62-47f3-9a32-a86eddfe03ed",
   "metadata": {},
   "outputs": [],
   "source": [
    "gbm = GradientBoostingClassifier()\n",
    "gbm_param_grid = {\n",
    "    'n_estimators': [100, 200, 300],\n",
    "    'learning_rate': [0.01, 0.1, 0.2],\n",
    "    'max_depth': [3, 5, 7]\n",
    "}"
   ]
  },
  {
   "cell_type": "code",
   "execution_count": null,
   "id": "71f1f79d-466e-4fb9-a6ce-192b00b7dba6",
   "metadata": {},
   "outputs": [],
   "source": [
    "gbm_grid_search = GridSearchCV(estimator=gbm, param_grid=gbm_param_grid, cv=5, scoring='f1_weighted', n_jobs=-1)\n",
    "gbm_grid_search.fit(X_train_scaled, y_train)"
   ]
  },
  {
   "cell_type": "markdown",
   "id": "cf1a0aa4-bf0e-4a6e-affc-ba57681453f4",
   "metadata": {},
   "source": [
    "\n",
    "gbm_best = gbm_grid_search.best_estimator_\n",
    "gbm_metrics = evaluate_model(gbm_best, X_test_scaled, y_test)"
   ]
  }
 ],
 "metadata": {
  "kernelspec": {
   "display_name": "Python 3 (ipykernel)",
   "language": "python",
   "name": "python3"
  },
  "language_info": {
   "codemirror_mode": {
    "name": "ipython",
    "version": 3
   },
   "file_extension": ".py",
   "mimetype": "text/x-python",
   "name": "python",
   "nbconvert_exporter": "python",
   "pygments_lexer": "ipython3",
   "version": "3.11.7"
  }
 },
 "nbformat": 4,
 "nbformat_minor": 5
}
