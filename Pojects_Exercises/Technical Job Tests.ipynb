{
 "cells": [
  {
   "cell_type": "markdown",
   "id": "b8143019-b438-411d-ae4c-3fc3bbd01a4a",
   "metadata": {},
   "source": [
    "<center>\n",
    "    <h1><b> Technical Job Tests</b></h1>\n",
    "</center>"
   ]
  },
  {
   "cell_type": "code",
   "execution_count": 1,
   "id": "5484b0fd-128b-4994-a708-87be1ecb99ea",
   "metadata": {},
   "outputs": [
    {
     "name": "stdout",
     "output_type": "stream",
     "text": [
      "['a', 'b', 'c']\n"
     ]
    }
   ],
   "source": [
    "x = ['www.a.com', 'www.b.com', 'www.c.com']\n",
    "y = []\n",
    "\n",
    "for i in x:\n",
    "    y.append(i.split('.')[1])\n",
    "print(y)"
   ]
  },
  {
   "cell_type": "code",
   "execution_count": 2,
   "id": "bb0ad6f1-6675-415e-90e6-8cc61ef206ff",
   "metadata": {},
   "outputs": [
    {
     "name": "stdout",
     "output_type": "stream",
     "text": [
      "['a.com', 'b.com', 'c.com']\n"
     ]
    }
   ],
   "source": [
    "x = ['www.a.com', 'www.b.com', 'www.c.com']\n",
    "y = []\n",
    "\n",
    "for i in x:\n",
    "    y.append(i.split('.')[1] + '.'+ i.split('.')[2])\n",
    "print(y)"
   ]
  },
  {
   "cell_type": "code",
   "execution_count": 3,
   "id": "8f372d3f-5596-4462-aceb-190a74b15e49",
   "metadata": {},
   "outputs": [
    {
     "name": "stdout",
     "output_type": "stream",
     "text": [
      "['com', 'com', 'com']\n"
     ]
    }
   ],
   "source": [
    "x = ['www.a.com', 'www.b.com', 'www.c.com']\n",
    "y = []\n",
    "\n",
    "for i in x:\n",
    "    y.append(i.strip()[-3:])\n",
    "print(y)"
   ]
  },
  {
   "cell_type": "code",
   "execution_count": 4,
   "id": "5a72a355-f0cc-4f0a-9571-c208761bdd8b",
   "metadata": {},
   "outputs": [
    {
     "name": "stdout",
     "output_type": "stream",
     "text": [
      "{'www.a.com': 2, 'www.b.com': 1, 'www.c.com': 0}\n"
     ]
    }
   ],
   "source": [
    "def count_email(emails, urls):\n",
    "    # Create a dictionary to hold the counts, initializing with 0 for each domain in URLs\n",
    "    counts = {url: 0 for url in urls}\n",
    "\n",
    "    # Loop through each email and extract its domain\n",
    "    for email in emails:\n",
    "        domain = 'www.' + email.split('@')[1]  # Add 'www.' to the email domain\n",
    "        \n",
    "        # If this domain is in our list of URLs, increment the count\n",
    "        if domain in counts:\n",
    "            counts[domain] += 1\n",
    "\n",
    "    return counts\n",
    "\n",
    "# Example usage:\n",
    "if __name__ == '__main__':\n",
    "    \n",
    "    emails = ['foo@a.com', 'bar@a.com', 'baz@b.com', 'qux@d.com']\n",
    "    urls = ['www.a.com', 'www.b.com', 'www.c.com']\n",
    "\n",
    "    result = count_email(emails, urls)\n",
    "    print(result)"
   ]
  },
  {
   "cell_type": "markdown",
   "id": "7495b977-5ba9-4764-8899-0fdf03654a69",
   "metadata": {},
   "source": [
    "### Unit Tests"
   ]
  },
  {
   "cell_type": "code",
   "execution_count": 2,
   "id": "6dbfeb14-626a-4e21-ac65-3ce0d548700b",
   "metadata": {},
   "outputs": [],
   "source": [
    "import unittest"
   ]
  },
  {
   "cell_type": "code",
   "execution_count": 6,
   "id": "e4e2d5a2-499a-4cfa-b884-440925bbbae9",
   "metadata": {},
   "outputs": [
    {
     "name": "stderr",
     "output_type": "stream",
     "text": [
      "......\n",
      "----------------------------------------------------------------------\n",
      "Ran 6 tests in 0.067s\n",
      "\n",
      "OK\n"
     ]
    }
   ],
   "source": [
    "def count_email_domains(emails, urls):\n",
    "    counts = {url: 0 for url in urls}\n",
    "    for email in emails:\n",
    "        domain = 'www.' + email.split('@')[1]\n",
    "        if domain in counts:\n",
    "            counts[domain] += 1\n",
    "    return counts\n",
    "\n",
    "\n",
    "class TestCountEmailDomains(unittest.TestCase):\n",
    "\n",
    "    def test_basic_functionality(self):\n",
    "        emails = ['foo@a.com', 'bar@a.com', 'baz@b.com', 'qux@d.com']\n",
    "        urls = ['www.a.com', 'www.b.com', 'www.c.com']\n",
    "        expected = {'www.a.com': 2, 'www.b.com': 1, 'www.c.com': 0}\n",
    "        self.assertEqual(count_email_domains(emails, urls), expected)\n",
    "\n",
    "    def test_no_matching_domains(self):\n",
    "        emails = ['foo@x.com', 'bar@y.com', 'baz@z.com']\n",
    "        urls = ['www.a.com', 'www.b.com', 'www.c.com']\n",
    "        expected = {'www.a.com':0, 'www.b.com': 0, 'www.c.com': 0}\n",
    "        self.assertEqual(count_email_domains(emails, urls), expected)\n",
    "\n",
    "    def test_multiple_matching_domains(self):\n",
    "        emails = ['foo@a.com', 'bar@a.com', 'baz@b.com', 'qux@a.com']\n",
    "        urls = ['www.a.com', 'www.b.com']\n",
    "        expected = {'www.a.com': 3, 'www.b.com': 1}\n",
    "        self.assertEqual(count_email_domains(emails, urls), expected)\n",
    "\n",
    "    def test_empty_lists(self):\n",
    "        emails = []\n",
    "        urls = []\n",
    "        expected = {}\n",
    "        self.assertEqual(count_email_domains(emails, urls), expected)\n",
    "\n",
    "    def test_empty_emails(self):\n",
    "        emails = []\n",
    "        urls = ['www.a.com', 'www.b.com']\n",
    "        expected = {'www.a.com': 0, 'www.b.com': 0}\n",
    "        self.assertEqual(count_email_domains(emails, urls), expected)\n",
    "\n",
    "    def test_empty_urls(self):\n",
    "        emails = ['foo@a.com', 'bar@a.com', 'baz@b.com', 'qux@a.com']\n",
    "        urls = []\n",
    "        expected = {}\n",
    "        self.assertEqual(count_email_domains(emails, urls), expected)\n",
    "\n",
    "\n",
    "if __name__ == '__main__':\n",
    "    unittest.main(argv=['first-arg-is-ignored'], exit = False)\n"
   ]
  },
  {
   "cell_type": "markdown",
   "id": "d800c554-0f87-4e69-a6e1-618821571911",
   "metadata": {},
   "source": [
    "----------------\n",
    "### Problem to Solve\n",
    "\n",
    " Given a string s containing just the characters '(', ')', '{', '}', '[', and ']', determine if the input string is valid.\n",
    " An input string is valid if:\n",
    "  - Open braackets must be closed by the same type of brackets.\n",
    "  - Open brackets must be closed in the correct order.\n",
    "\n",
    "  Contraints:\n",
    "  \t- 1 <= s.length <= 104\n",
    "  \t- s consists of parenthensis only '()[]{}'\n",
    "\n",
    "  Example 1:\n",
    "  Input s = '()'\n",
    "  Output: valid\n",
    "\n",
    "  Example 2:\n",
    "  Input: s = '()[]{}'\n",
    "  Output: valid\n",
    "\n",
    "  Example 3:\n",
    "  Input: s = '(]'\n",
    "  Output: invalid\n",
    "\n",
    "  Example 4:\n",
    "  Input: s = '([)]'\n",
    "  Output: invalid\n",
    "\n",
    "  Example 5:\n",
    "  Input: s = '{[]}'\n",
    "  Output: valid\n",
    "\n",
    "\n"
   ]
  },
  {
   "cell_type": "code",
   "execution_count": 8,
   "id": "3a7656df-3c75-46b0-995e-4897229f192c",
   "metadata": {},
   "outputs": [
    {
     "name": "stdin",
     "output_type": "stream",
     "text": [
      " {]\n"
     ]
    },
    {
     "name": "stdout",
     "output_type": "stream",
     "text": [
      "invalid\n",
      "True\n",
      "True\n",
      "False\n",
      "False\n",
      "True\n"
     ]
    }
   ],
   "source": [
    "def isValid(s: str) -> bool:\n",
    "  \t\"\"\"\n",
    "  \t\t:type s: str - String to be tested for validity\n",
    "  \t\t:rtype: bool - Returns true if the string is valid else false\n",
    "  \t\"\"\"\n",
    "  \t\"\"\"\n",
    "  \t\t\t\tPlan\n",
    "\n",
    "  \t\t- Stack will be used to keep track of opening brackets\n",
    "  \t\t- Each character will be traversed\n",
    "  \t\t- if it is an opening bracket '(, {, [' then, it will be appended to the stack\n",
    "  \t\t- if it is a closing bracket, will first check if the stack is not empty and if it matches the corresponding opening bracket.\n",
    "  \t\t\t- Pop the stack if it matches\n",
    "  \t\t\t- Else, it should return invalid\n",
    "  \t\t- After traversing the string, if the stack is empty, it will return string is valid, if not, it will return False.\n",
    "  \t\t\"\"\"\n",
    "  \t# The matching pairs dict\n",
    "  \tbrackets = {')':'(', '}':'{', ']':'['}\n",
    "\n",
    "  \t# The stack that will hold the opening brackets\n",
    "  \tstack = []\n",
    "\n",
    "  \t# checking each character in the string\n",
    "  \tfor char in s:\n",
    "  \t\tif char in brackets.values(): # checking if it is an opening bracket\n",
    "  \t\t\tstack.append(char)\n",
    "  \t\telif char in brackets.keys():  # Checking if is  closing bracket\n",
    "            # checking if the stack is not empty and if the top matches the corresponding opening bracket\n",
    "  \t\t\tif stack and stack[-1] == brackets[char]:\n",
    "  \t\t\t\tstack.pop() # Pop the top if matched\n",
    "  \t\t\telse:\n",
    "  \t\t\t\treturn False  # return False if not matched\n",
    "  \t\telse:\n",
    "  \t\t\treturn False  # If character is invalid, return False\n",
    "  \treturn len(stack) == 0  # If stack is empty, it means all brackets matched\n",
    "\n",
    "if __name__ == '__main__':\n",
    "\tline = input()\n",
    "\tif isValid(line):\n",
    "\t\tprint('valid')\n",
    "\telse:\n",
    "\t\tprint('invalid')\n",
    "\n",
    "# Custom Test Case\n",
    "print(isValid('()'))\n",
    "print(isValid('()[]{}'))\n",
    "print(isValid('(]'))\n",
    "print(isValid('([)]'))\n",
    "print(isValid('{[]}'))"
   ]
  },
  {
   "cell_type": "code",
   "execution_count": 4,
   "id": "79f0d13d-c895-43d3-ad1e-fb0874343661",
   "metadata": {},
   "outputs": [],
   "source": [
    "# Unit Test case to test the isValid function\n",
    "class TestValidChar(unittest.TestCase):\n",
    "\n",
    "    def test_valid_case(self):\n",
    "        self.assertTrue(isValid('()'))\n",
    "        self.assertTrue(isValid('()[]{}'))\n",
    "        self.assertTrue(isValid('{[]}'))\n",
    "\n",
    "    def test_invalid_cases(self):\n",
    "        self.assertFalse(isValid('(]'))\n",
    "        self.assertFalse(isValid('([)]'))\n",
    "        self.assertFalse(isValid('((('))\n",
    "        self.assertFalse(isValid(')))'))\n",
    "\n",
    "# Test execution\n",
    "if __name__ == '__main':\n",
    "    unittest.main()"
   ]
  },
  {
   "cell_type": "markdown",
   "id": "8a05c04f-f1ee-4b2a-ba08-c9df121e5133",
   "metadata": {},
   "source": [
    "-----------------\n",
    "## Number Generator Problem\n",
    "\n",
    "You are given a string of 10 digits (0 9), each representing the number to be typed.\n",
    "Calculate the total time (in milliseconds) needed to type the number 'num' using one finger.\n",
    "It takes '|a- b|' milliseconds to movefrom position 'a' to position 'b'.\n",
    "\n",
    "**Example:**\n",
    "digits = '0123456789'\n",
    "num = '210'\n",
    "\n",
    "output = '4'\n",
    "\n",
    "**Constraints:**\n",
    "digits.length == 10\n",
    "digits contains each digit from '0' to '9' exactly once in some order.\n",
    "1 <= num.length <= 10^4\n",
    "num[i] is a digit"
   ]
  },
  {
   "cell_type": "code",
   "execution_count": 12,
   "id": "27363811-271b-4d7f-966b-72d69567dfa4",
   "metadata": {},
   "outputs": [
    {
     "name": "stdin",
     "output_type": "stream",
     "text": [
      " 8459763102\n",
      " 5439\n"
     ]
    },
    {
     "name": "stdout",
     "output_type": "stream",
     "text": [
      "9\n"
     ]
    }
   ],
   "source": [
    "def solution(digits: str, num: str) -> int:\n",
    "    # Map each digit to its index in the digits string\n",
    "    digits_to_index = {digit: i for i, digit in enumerate(digits)}\n",
    "\n",
    "    # Calculate the total time\n",
    "    total_time = 0\n",
    "    for i in range(1, len(num)):\n",
    "        total_time += abs(digits_to_index[num[i]] - digits_to_index[num[i -1]])\n",
    "    return total_time\n",
    "\n",
    "# Example\n",
    "if __name__ == '__main__':\n",
    "    digits = input()\n",
    "    num = input()\n",
    "    output = solution(digits, num)\n",
    "    print(output)"
   ]
  },
  {
   "cell_type": "markdown",
   "id": "78306183-57c2-41d1-9968-48b1cf2788e3",
   "metadata": {},
   "source": [
    "-------------------\n",
    "## Baseball Problem\n",
    "\n",
    "Calculating the dynamic scores of a baseball game"
   ]
  },
  {
   "cell_type": "code",
   "execution_count": 19,
   "id": "e1a76b2f-d81f-4674-b66e-6c8424559a45",
   "metadata": {},
   "outputs": [
    {
     "name": "stdout",
     "output_type": "stream",
     "text": [
      "30\n",
      "27\n",
      "1\n"
     ]
    }
   ],
   "source": [
    "def calPoints(ops: str) -> int:\n",
    "    \"\"\"\n",
    "    Plan\n",
    "    Initialize an empty list to store the valid scores.\n",
    "    Iterate through each operation in the input list.\n",
    "    For each operation, check if it is an integer '+', 'D', 'C'\n",
    "    '+' operation, add the sum of the last two elements and include in the record.\n",
    "    'D' operation, double the last element and add it to record.\n",
    "    'C' operation, removes the last element from the record.\n",
    "    for any integer operation, add it to the record.\n",
    "    Return the sum of all elements in the record.\n",
    "    \n",
    "    \"\"\"\n",
    "    record = []  # AN empty list to store scores\n",
    "\n",
    "    for op in ops:\n",
    "        if op == '+':\n",
    "            record.append(record[-1] + record[-2])  # Sum of the last two elements and add to record\n",
    "        elif op == 'D':\n",
    "            record.append(2 * record[-1])  # double the last element\n",
    "        elif op == 'C':\n",
    "            record.pop()  #remove the last element\n",
    "        else:\n",
    "            record.append(int(op))  # Converting the operation to an integer and add to record\n",
    "\n",
    "    return sum(record)  # The sum of all valid scores\n",
    "\n",
    "\n",
    "# Custome test cases\n",
    "\n",
    "print(calPoints(['5', '2', 'C', 'D', '+']))\n",
    "print(calPoints(['5', '-2', '4', 'C', 'D', '9', '+', '+']))\n",
    "print(calPoints(['1']))"
   ]
  },
  {
   "cell_type": "code",
   "execution_count": 21,
   "id": "799af6e5-2b08-4855-afaf-6529e22614ec",
   "metadata": {},
   "outputs": [
    {
     "data": {
      "text/plain": [
       "(3, 4, 5, 6, 7, 8)"
      ]
     },
     "execution_count": 21,
     "metadata": {},
     "output_type": "execute_result"
    }
   ],
   "source": [
    "f = (3, 4, 5)\n",
    "f += (6, 7, 8)\n",
    "f"
   ]
  },
  {
   "cell_type": "markdown",
   "id": "d73aece0-29e1-4e83-b20c-6ae18833af09",
   "metadata": {},
   "source": [
    "---------------\n",
    "Given an array of **N** integers, your task is to transform this array into a permutation of the first **N** positive integers. A permutation of size **N** is an arrangement of numbers such that each number from 1 to **N** appears exactly once.\n",
    "In one operation, you can increase or decrease any element of the array by 1.\n",
    "\n",
    "The challenge is to figure out the smallest number of such operations required to convert the given array into a permutation.\n",
    "\n",
    "**Examples 1:**\n",
    "Input: N = [3, 2, 1, 4]\n",
    "Output: 0\n",
    "\n",
    "**Examples 2:**\n",
    "Input N = [2, 3, 4, 5]\n",
    "Ouput: 4\n",
    "Explanation: 4 operations to decrease each element by 1 to reach permutation [1, 2, 3, 4]. Note that this is one of the possible permutations, e.g this can alos be achieved by operations to decrease the '5' to '1' to form the permutation [2, 3, 4, 1]\n",
    "\n",
    "**Constraints**\n",
    " - The integers in the array Ni will be equal or bigger than 1.\n",
    " - The size of the array N can range from 1 to 10^5cation skills"
   ]
  },
  {
   "cell_type": "code",
   "execution_count": 45,
   "id": "cde87866-9e3c-4e9e-b4ee-ab3fae1e5c0e",
   "metadata": {},
   "outputs": [
    {
     "name": "stdin",
     "output_type": "stream",
     "text": [
      " 4 1 4 2\n"
     ]
    },
    {
     "name": "stdout",
     "output_type": "stream",
     "text": [
      "1\n",
      "1\n",
      "4\n",
      "0\n",
      "6\n"
     ]
    }
   ],
   "source": [
    "def min_operations_to_permutation(arr: list[int]) -> int:\n",
    "    # Write your solution here\n",
    "    \"\"\"\n",
    "    Plan\n",
    "    1. We need to transform the input array into a permutation of numbers from 1 to N.\n",
    "    2. Sort the array to align the smallest numbers with the expected permutation [1. 2. ..., N].\n",
    "    3. Calculate the number of operations needed by summing up the absolute differences between each element in the array and the expected value.\n",
    "    4. This ensures that every number is exactly one of the numbers from 1 to N.\n",
    "    \"\"\"\n",
    "    # Sort the array to try to match it with the expected permutation [1, 2, ..., N]\n",
    "    arr.sort()\n",
    "\n",
    "    operations = 0\n",
    "\n",
    "    for i in range(len(arr)):\n",
    "        # Correctly add the absolute difference to count operations\n",
    "        operations += abs(arr[i] - (i + 1))  # This will always add positive values\n",
    "\n",
    "    return operations\n",
    "\n",
    "\n",
    "if __name__ == '__main__':\n",
    "    line = input()\n",
    "    k = [int(i) for i in line.strip().split()]\n",
    "    print(min_operations_to_permutation(k))\n",
    "\n",
    "print(min_operations_to_permutation([4 1 4 2]))  # Output: 1\n",
    "print(min_operations_to_permutation([2 3 4 5]))  # Output: 4\n",
    "print(min_operations_to_permutation([3 2 1 4]))  # Output: 0\n",
    "print(min_operations_to_permutation([1 1 1 1]))  # Output: 6"
   ]
  },
  {
   "cell_type": "markdown",
   "id": "2e5ce0e3-0318-458e-b5f7-02d0a885f29e",
   "metadata": {},
   "source": [
    "---------------\n",
    "Given an array of **N** integers the cost of a range (subarray) is defined as the sum of the values of the range is **S**, its costt is __S**2__\n",
    "\n",
    "Determine the largest cost of any contiguous subarray within the given array\n",
    "\n",
    "Example:\n",
    "\n",
    "arr = [1, -1, 1, -1, 1]\n",
    "output: 1\n",
    "\n",
    "arr = [1, 2, 3]\n",
    "output: 36\n",
    "\n",
    "**Constraints:**\n",
    "\n",
    "The integers in the array can be positive, neegative, or zero\n",
    "0 >= arr.length <= 10^5"
   ]
  },
  {
   "cell_type": "code",
   "execution_count": 69,
   "id": "7c8d8705-852b-4313-a91c-6c8ada7aee0c",
   "metadata": {},
   "outputs": [
    {
     "name": "stdin",
     "output_type": "stream",
     "text": [
      " 2 1 8 9\n"
     ]
    },
    {
     "name": "stdout",
     "output_type": "stream",
     "text": [
      "400\n"
     ]
    }
   ],
   "source": [
    "from typing import List\n",
    "\n",
    "def squared_sum(arr: List[int]) -> int:\n",
    "    \"\"\"\n",
    "    Plan\n",
    "    We need to find the largest cost of any contiguous subarray within the given array. \n",
    "    The cost is calculated as the square of the sum of elements in a subarray\n",
    "    - Calculate the sum of each subarray.\n",
    "    - Square the sum to get the cost.\n",
    "    - Track the maximum cost\n",
    "    \"\"\"\n",
    "     # Initialize max_cost to a very small value\n",
    "    max_cost = float('-inf')\n",
    "\n",
    "    # Calculate the sum of every possible subarray\n",
    "    for i in range(len(arr)):\n",
    "        subarray_sum = 0  # Reset subarray_sum for each starting index\n",
    "        for j in range(i, len(arr)):\n",
    "            # Correctly accumulate the sum for the subarray\n",
    "            subarray_sum += arr[j]\n",
    "            # Calculate the squared cost\n",
    "            cost = subarray_sum ** 2\n",
    "            # Update max_cost if this cost is greater\n",
    "            if cost > max_cost:\n",
    "                max_cost = cost\n",
    "\n",
    "    return max_cost\n",
    "# Test cases\n",
    "assert squared_sum([1, -1, 1, -1, 1]) == 1\n",
    "assert squared_sum([1, 2, 3]) == 36\n",
    "assert squared_sum([-1, -2, -3, -4]) == 100\n",
    "assert squared_sum([0, 0, 0]) == 0\n",
    "\n",
    "if __name__ == '__main__':\n",
    "    line = input()\n",
    "    arr = [int(i) for i in line.strip().split()]\n",
    "    print(squared_sum(arr))\n",
    "\n"
   ]
  },
  {
   "cell_type": "code",
   "execution_count": 58,
   "id": "dcf02742-be87-4ed5-8fbc-b6744c5e28b3",
   "metadata": {},
   "outputs": [
    {
     "name": "stdout",
     "output_type": "stream",
     "text": [
      "12\n",
      "9\n",
      "5\n"
     ]
    }
   ],
   "source": [
    "arr = [3, 4, 5]\n",
    "for i in range(len(arr)):\n",
    "    subarray_sum = 0  # Reset subarray_sum for each starting index\n",
    "    for j in range(i, len(arr)):\n",
    "        # Correctly accumulate the sum for the subarray\n",
    "        subarray_sum += arr[j]\n",
    "    print(subarray_sum)"
   ]
  },
  {
   "cell_type": "code",
   "execution_count": 61,
   "id": "60e40ec5-3986-4bca-8813-b63471fe8445",
   "metadata": {},
   "outputs": [
    {
     "name": "stdout",
     "output_type": "stream",
     "text": [
      "36\n",
      "25\n",
      "9\n"
     ]
    }
   ],
   "source": [
    "arr = [1, 2, 3]\n",
    "for i in range(len(arr)):\n",
    "    subarray_sum = 0  # Reset subarray_sum for each starting index\n",
    "    for j in range(i, len(arr)):\n",
    "        # Correctly accumulate the sum for the subarray\n",
    "        subarray_sum += arr[j]\n",
    "        c = subarray_sum ** 2\n",
    "    print(c)"
   ]
  },
  {
   "cell_type": "code",
   "execution_count": null,
   "id": "29e341f4-7b62-4f06-9046-c82f65276e69",
   "metadata": {},
   "outputs": [],
   "source": []
  }
 ],
 "metadata": {
  "kernelspec": {
   "display_name": "Python 3 (ipykernel)",
   "language": "python",
   "name": "python3"
  },
  "language_info": {
   "codemirror_mode": {
    "name": "ipython",
    "version": 3
   },
   "file_extension": ".py",
   "mimetype": "text/x-python",
   "name": "python",
   "nbconvert_exporter": "python",
   "pygments_lexer": "ipython3",
   "version": "3.11.7"
  }
 },
 "nbformat": 4,
 "nbformat_minor": 5
}
