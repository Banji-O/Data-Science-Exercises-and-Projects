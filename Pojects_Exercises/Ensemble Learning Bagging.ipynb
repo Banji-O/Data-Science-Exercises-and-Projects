{
 "cells": [
  {
   "cell_type": "markdown",
   "id": "77eae90f-88d1-4f59-adb9-861845fec631",
   "metadata": {},
   "source": [
    "<center>\n",
    "    <h1><b> Ensemble Learning - Bagging</b></h1>\n",
    "</center>\n",
    "\n",
    "This is method of creating multiple models using different data samples from the same dataset. The output of these models will be aggregated and their average will be used fro final prediction.\n",
    "\n",
    "This method and others like cross fold validation, L1 and L2, PCA can be used to address over fitting."
   ]
  },
  {
   "cell_type": "code",
   "execution_count": 1,
   "id": "c8050c64-7a20-4117-af0a-1c07f177081f",
   "metadata": {},
   "outputs": [],
   "source": [
    "import pandas as pd\n",
    "import numpy as np\n",
    "import seaborn as sb\n",
    "import matplotlib.pyplot as plt\n",
    "from sklearn.model_selection import train_test_split, cross_val_score\n",
    "from sklearn.preprocessing import StandardScaler\n",
    "from sklearn.tree import DecisionTreeClassifier\n",
    "from sklearn.ensemble import BaggingClassifier, RandomForestClassifier\n",
    "\n",
    "%matplotlib inline"
   ]
  },
  {
   "cell_type": "code",
   "execution_count": 2,
   "id": "02c7dd69-5760-409d-8c8e-843f8abbdc35",
   "metadata": {},
   "outputs": [],
   "source": [
    "df = pd.read_csv(r'D:\\AI Engineering\\Python\\My_Projects\\Datasets\\pima-indians-diabetes.csv', names =['pregnancy', 'glucose', 'blood_pressure', 'skin_thickness', 'insulin', 'BMI', 'diabetes_pedigree_function', 'age', 'outcome'])"
   ]
  },
  {
   "cell_type": "code",
   "execution_count": 3,
   "id": "b909c98b-21f7-4bf7-8f04-2cda8ed435d0",
   "metadata": {},
   "outputs": [
    {
     "data": {
      "text/html": [
       "<div>\n",
       "<style scoped>\n",
       "    .dataframe tbody tr th:only-of-type {\n",
       "        vertical-align: middle;\n",
       "    }\n",
       "\n",
       "    .dataframe tbody tr th {\n",
       "        vertical-align: top;\n",
       "    }\n",
       "\n",
       "    .dataframe thead th {\n",
       "        text-align: right;\n",
       "    }\n",
       "</style>\n",
       "<table border=\"1\" class=\"dataframe\">\n",
       "  <thead>\n",
       "    <tr style=\"text-align: right;\">\n",
       "      <th></th>\n",
       "      <th>pregnancy</th>\n",
       "      <th>glucose</th>\n",
       "      <th>blood_pressure</th>\n",
       "      <th>skin_thickness</th>\n",
       "      <th>insulin</th>\n",
       "      <th>BMI</th>\n",
       "      <th>diabetes_pedigree_function</th>\n",
       "      <th>age</th>\n",
       "      <th>outcome</th>\n",
       "    </tr>\n",
       "  </thead>\n",
       "  <tbody>\n",
       "    <tr>\n",
       "      <th>0</th>\n",
       "      <td>6</td>\n",
       "      <td>148</td>\n",
       "      <td>72</td>\n",
       "      <td>35</td>\n",
       "      <td>0</td>\n",
       "      <td>33.6</td>\n",
       "      <td>0.627</td>\n",
       "      <td>50</td>\n",
       "      <td>1</td>\n",
       "    </tr>\n",
       "    <tr>\n",
       "      <th>1</th>\n",
       "      <td>1</td>\n",
       "      <td>85</td>\n",
       "      <td>66</td>\n",
       "      <td>29</td>\n",
       "      <td>0</td>\n",
       "      <td>26.6</td>\n",
       "      <td>0.351</td>\n",
       "      <td>31</td>\n",
       "      <td>0</td>\n",
       "    </tr>\n",
       "    <tr>\n",
       "      <th>2</th>\n",
       "      <td>8</td>\n",
       "      <td>183</td>\n",
       "      <td>64</td>\n",
       "      <td>0</td>\n",
       "      <td>0</td>\n",
       "      <td>23.3</td>\n",
       "      <td>0.672</td>\n",
       "      <td>32</td>\n",
       "      <td>1</td>\n",
       "    </tr>\n",
       "    <tr>\n",
       "      <th>3</th>\n",
       "      <td>1</td>\n",
       "      <td>89</td>\n",
       "      <td>66</td>\n",
       "      <td>23</td>\n",
       "      <td>94</td>\n",
       "      <td>28.1</td>\n",
       "      <td>0.167</td>\n",
       "      <td>21</td>\n",
       "      <td>0</td>\n",
       "    </tr>\n",
       "    <tr>\n",
       "      <th>4</th>\n",
       "      <td>0</td>\n",
       "      <td>137</td>\n",
       "      <td>40</td>\n",
       "      <td>35</td>\n",
       "      <td>168</td>\n",
       "      <td>43.1</td>\n",
       "      <td>2.288</td>\n",
       "      <td>33</td>\n",
       "      <td>1</td>\n",
       "    </tr>\n",
       "  </tbody>\n",
       "</table>\n",
       "</div>"
      ],
      "text/plain": [
       "   pregnancy  glucose  blood_pressure  skin_thickness  insulin   BMI  \\\n",
       "0          6      148              72              35        0  33.6   \n",
       "1          1       85              66              29        0  26.6   \n",
       "2          8      183              64               0        0  23.3   \n",
       "3          1       89              66              23       94  28.1   \n",
       "4          0      137              40              35      168  43.1   \n",
       "\n",
       "   diabetes_pedigree_function  age  outcome  \n",
       "0                       0.627   50        1  \n",
       "1                       0.351   31        0  \n",
       "2                       0.672   32        1  \n",
       "3                       0.167   21        0  \n",
       "4                       2.288   33        1  "
      ]
     },
     "execution_count": 3,
     "metadata": {},
     "output_type": "execute_result"
    }
   ],
   "source": [
    " df[:5]"
   ]
  },
  {
   "cell_type": "code",
   "execution_count": 4,
   "id": "5dd67279-b690-4850-83d5-e9f2edd44df0",
   "metadata": {},
   "outputs": [
    {
     "data": {
      "text/plain": [
       "(768, 9)"
      ]
     },
     "execution_count": 4,
     "metadata": {},
     "output_type": "execute_result"
    }
   ],
   "source": [
    "df.shape"
   ]
  },
  {
   "cell_type": "code",
   "execution_count": 5,
   "id": "b30a4a25-f65e-4f36-bea1-825abc47edd3",
   "metadata": {},
   "outputs": [
    {
     "data": {
      "text/plain": [
       "pregnancy                     0\n",
       "glucose                       0\n",
       "blood_pressure                0\n",
       "skin_thickness                0\n",
       "insulin                       0\n",
       "BMI                           0\n",
       "diabetes_pedigree_function    0\n",
       "age                           0\n",
       "outcome                       0\n",
       "dtype: int64"
      ]
     },
     "execution_count": 5,
     "metadata": {},
     "output_type": "execute_result"
    }
   ],
   "source": [
    "df.isnull().sum()"
   ]
  },
  {
   "cell_type": "code",
   "execution_count": 6,
   "id": "48fd37e7-609f-49f5-a647-f893edcc4301",
   "metadata": {},
   "outputs": [
    {
     "data": {
      "text/html": [
       "<div>\n",
       "<style scoped>\n",
       "    .dataframe tbody tr th:only-of-type {\n",
       "        vertical-align: middle;\n",
       "    }\n",
       "\n",
       "    .dataframe tbody tr th {\n",
       "        vertical-align: top;\n",
       "    }\n",
       "\n",
       "    .dataframe thead th {\n",
       "        text-align: right;\n",
       "    }\n",
       "</style>\n",
       "<table border=\"1\" class=\"dataframe\">\n",
       "  <thead>\n",
       "    <tr style=\"text-align: right;\">\n",
       "      <th></th>\n",
       "      <th>pregnancy</th>\n",
       "      <th>glucose</th>\n",
       "      <th>blood_pressure</th>\n",
       "      <th>skin_thickness</th>\n",
       "      <th>insulin</th>\n",
       "      <th>BMI</th>\n",
       "      <th>diabetes_pedigree_function</th>\n",
       "      <th>age</th>\n",
       "      <th>outcome</th>\n",
       "    </tr>\n",
       "  </thead>\n",
       "  <tbody>\n",
       "    <tr>\n",
       "      <th>count</th>\n",
       "      <td>768.000000</td>\n",
       "      <td>768.000000</td>\n",
       "      <td>768.000000</td>\n",
       "      <td>768.000000</td>\n",
       "      <td>768.000000</td>\n",
       "      <td>768.000000</td>\n",
       "      <td>768.000000</td>\n",
       "      <td>768.000000</td>\n",
       "      <td>768.000000</td>\n",
       "    </tr>\n",
       "    <tr>\n",
       "      <th>mean</th>\n",
       "      <td>3.845052</td>\n",
       "      <td>120.894531</td>\n",
       "      <td>69.105469</td>\n",
       "      <td>20.536458</td>\n",
       "      <td>79.799479</td>\n",
       "      <td>31.992578</td>\n",
       "      <td>0.471876</td>\n",
       "      <td>33.240885</td>\n",
       "      <td>0.348958</td>\n",
       "    </tr>\n",
       "    <tr>\n",
       "      <th>std</th>\n",
       "      <td>3.369578</td>\n",
       "      <td>31.972618</td>\n",
       "      <td>19.355807</td>\n",
       "      <td>15.952218</td>\n",
       "      <td>115.244002</td>\n",
       "      <td>7.884160</td>\n",
       "      <td>0.331329</td>\n",
       "      <td>11.760232</td>\n",
       "      <td>0.476951</td>\n",
       "    </tr>\n",
       "    <tr>\n",
       "      <th>min</th>\n",
       "      <td>0.000000</td>\n",
       "      <td>0.000000</td>\n",
       "      <td>0.000000</td>\n",
       "      <td>0.000000</td>\n",
       "      <td>0.000000</td>\n",
       "      <td>0.000000</td>\n",
       "      <td>0.078000</td>\n",
       "      <td>21.000000</td>\n",
       "      <td>0.000000</td>\n",
       "    </tr>\n",
       "    <tr>\n",
       "      <th>25%</th>\n",
       "      <td>1.000000</td>\n",
       "      <td>99.000000</td>\n",
       "      <td>62.000000</td>\n",
       "      <td>0.000000</td>\n",
       "      <td>0.000000</td>\n",
       "      <td>27.300000</td>\n",
       "      <td>0.243750</td>\n",
       "      <td>24.000000</td>\n",
       "      <td>0.000000</td>\n",
       "    </tr>\n",
       "    <tr>\n",
       "      <th>50%</th>\n",
       "      <td>3.000000</td>\n",
       "      <td>117.000000</td>\n",
       "      <td>72.000000</td>\n",
       "      <td>23.000000</td>\n",
       "      <td>30.500000</td>\n",
       "      <td>32.000000</td>\n",
       "      <td>0.372500</td>\n",
       "      <td>29.000000</td>\n",
       "      <td>0.000000</td>\n",
       "    </tr>\n",
       "    <tr>\n",
       "      <th>75%</th>\n",
       "      <td>6.000000</td>\n",
       "      <td>140.250000</td>\n",
       "      <td>80.000000</td>\n",
       "      <td>32.000000</td>\n",
       "      <td>127.250000</td>\n",
       "      <td>36.600000</td>\n",
       "      <td>0.626250</td>\n",
       "      <td>41.000000</td>\n",
       "      <td>1.000000</td>\n",
       "    </tr>\n",
       "    <tr>\n",
       "      <th>max</th>\n",
       "      <td>17.000000</td>\n",
       "      <td>199.000000</td>\n",
       "      <td>122.000000</td>\n",
       "      <td>99.000000</td>\n",
       "      <td>846.000000</td>\n",
       "      <td>67.100000</td>\n",
       "      <td>2.420000</td>\n",
       "      <td>81.000000</td>\n",
       "      <td>1.000000</td>\n",
       "    </tr>\n",
       "  </tbody>\n",
       "</table>\n",
       "</div>"
      ],
      "text/plain": [
       "        pregnancy     glucose  blood_pressure  skin_thickness     insulin  \\\n",
       "count  768.000000  768.000000      768.000000      768.000000  768.000000   \n",
       "mean     3.845052  120.894531       69.105469       20.536458   79.799479   \n",
       "std      3.369578   31.972618       19.355807       15.952218  115.244002   \n",
       "min      0.000000    0.000000        0.000000        0.000000    0.000000   \n",
       "25%      1.000000   99.000000       62.000000        0.000000    0.000000   \n",
       "50%      3.000000  117.000000       72.000000       23.000000   30.500000   \n",
       "75%      6.000000  140.250000       80.000000       32.000000  127.250000   \n",
       "max     17.000000  199.000000      122.000000       99.000000  846.000000   \n",
       "\n",
       "              BMI  diabetes_pedigree_function         age     outcome  \n",
       "count  768.000000                  768.000000  768.000000  768.000000  \n",
       "mean    31.992578                    0.471876   33.240885    0.348958  \n",
       "std      7.884160                    0.331329   11.760232    0.476951  \n",
       "min      0.000000                    0.078000   21.000000    0.000000  \n",
       "25%     27.300000                    0.243750   24.000000    0.000000  \n",
       "50%     32.000000                    0.372500   29.000000    0.000000  \n",
       "75%     36.600000                    0.626250   41.000000    1.000000  \n",
       "max     67.100000                    2.420000   81.000000    1.000000  "
      ]
     },
     "execution_count": 6,
     "metadata": {},
     "output_type": "execute_result"
    }
   ],
   "source": [
    "df.describe()"
   ]
  },
  {
   "cell_type": "code",
   "execution_count": 7,
   "id": "306cf381-2a9e-4c94-b535-e66c1ee8b8be",
   "metadata": {},
   "outputs": [
    {
     "data": {
      "text/plain": [
       "outcome\n",
       "0    500\n",
       "1    268\n",
       "Name: count, dtype: int64"
      ]
     },
     "execution_count": 7,
     "metadata": {},
     "output_type": "execute_result"
    }
   ],
   "source": [
    "df.outcome.value_counts()"
   ]
  },
  {
   "cell_type": "code",
   "execution_count": 8,
   "id": "5452f2fa-1287-496f-ab2f-f25b07befc48",
   "metadata": {},
   "outputs": [
    {
     "data": {
      "text/plain": [
       "0.536"
      ]
     },
     "execution_count": 8,
     "metadata": {},
     "output_type": "execute_result"
    }
   ],
   "source": [
    "268/500"
   ]
  },
  {
   "cell_type": "code",
   "execution_count": 9,
   "id": "d04df435-96bf-4e1c-91fd-756d3d07f38c",
   "metadata": {},
   "outputs": [],
   "source": [
    "X = df.drop(columns = ['outcome'], axis = 1)\n",
    "y = df['outcome']"
   ]
  },
  {
   "cell_type": "code",
   "execution_count": 10,
   "id": "1fd710d4-b355-42cf-9ba0-7ef664ee622a",
   "metadata": {},
   "outputs": [
    {
     "data": {
      "text/plain": [
       "array([[ 0.63994726,  0.84832379,  0.14964075,  0.90726993, -0.69289057,\n",
       "         0.20401277,  0.46849198,  1.4259954 ],\n",
       "       [-0.84488505, -1.12339636, -0.16054575,  0.53090156, -0.69289057,\n",
       "        -0.68442195, -0.36506078, -0.19067191],\n",
       "       [ 1.23388019,  1.94372388, -0.26394125, -1.28821221, -0.69289057,\n",
       "        -1.10325546,  0.60439732, -0.10558415]])"
      ]
     },
     "execution_count": 10,
     "metadata": {},
     "output_type": "execute_result"
    }
   ],
   "source": [
    "scaler = StandardScaler()\n",
    "X_scaled = scaler.fit_transform(X)\n",
    "X_scaled[:3]"
   ]
  },
  {
   "cell_type": "code",
   "execution_count": 11,
   "id": "ee95f856-b0c0-4961-b2c5-9bd063f2745e",
   "metadata": {},
   "outputs": [],
   "source": [
    "X_train, X_test, y_train, y_test = train_test_split(X_scaled, y, stratify = y, random_state = 0)"
   ]
  },
  {
   "cell_type": "code",
   "execution_count": 12,
   "id": "9e38c530-52cf-4816-80a2-e50451f8d499",
   "metadata": {},
   "outputs": [
    {
     "data": {
      "text/plain": [
       "(576, 8)"
      ]
     },
     "execution_count": 12,
     "metadata": {},
     "output_type": "execute_result"
    }
   ],
   "source": [
    "X_train.shape"
   ]
  },
  {
   "cell_type": "code",
   "execution_count": 13,
   "id": "1dddbfbb-42fe-4f66-b973-30fd41f8667c",
   "metadata": {},
   "outputs": [
    {
     "data": {
      "text/plain": [
       "(192, 8)"
      ]
     },
     "execution_count": 13,
     "metadata": {},
     "output_type": "execute_result"
    }
   ],
   "source": [
    "X_test.shape"
   ]
  },
  {
   "cell_type": "code",
   "execution_count": 14,
   "id": "b3e4faed-be00-4e2f-a853-99c058b17001",
   "metadata": {},
   "outputs": [
    {
     "data": {
      "text/plain": [
       "outcome\n",
       "0    375\n",
       "1    201\n",
       "Name: count, dtype: int64"
      ]
     },
     "execution_count": 14,
     "metadata": {},
     "output_type": "execute_result"
    }
   ],
   "source": [
    "y_train.value_counts()"
   ]
  },
  {
   "cell_type": "code",
   "execution_count": 15,
   "id": "025eb916-f387-4933-bb00-06fc18d0ba7c",
   "metadata": {},
   "outputs": [
    {
     "data": {
      "text/plain": [
       "0.536"
      ]
     },
     "execution_count": 15,
     "metadata": {},
     "output_type": "execute_result"
    }
   ],
   "source": [
    "201/375"
   ]
  },
  {
   "cell_type": "code",
   "execution_count": 16,
   "id": "db28a0aa-632a-4b52-be75-0e9f63f534c2",
   "metadata": {},
   "outputs": [
    {
     "data": {
      "text/plain": [
       "array([0.68831169, 0.71428571, 0.67532468, 0.78431373, 0.7124183 ])"
      ]
     },
     "execution_count": 16,
     "metadata": {},
     "output_type": "execute_result"
    }
   ],
   "source": [
    "# Building 5 models on different samples from the same dataset\n",
    "scores = cross_val_score(DecisionTreeClassifier(), X, y, cv = 5)\n",
    "scores"
   ]
  },
  {
   "cell_type": "code",
   "execution_count": 17,
   "id": "45864da6-6451-4fc7-91d6-30ee1f78876b",
   "metadata": {},
   "outputs": [
    {
     "data": {
      "text/plain": [
       "0.7149308208131737"
      ]
     },
     "execution_count": 17,
     "metadata": {},
     "output_type": "execute_result"
    }
   ],
   "source": [
    "scores.mean()"
   ]
  },
  {
   "cell_type": "markdown",
   "id": "4fd12b17-a8e3-4601-9726-b9d77440b2b5",
   "metadata": {},
   "source": [
    "### Using Bagging Classifier"
   ]
  },
  {
   "cell_type": "code",
   "execution_count": 18,
   "id": "2b0e831d-c59f-4492-bf83-310375b6e363",
   "metadata": {},
   "outputs": [],
   "source": [
    "bag_model = BaggingClassifier(\n",
    "    estimator = DecisionTreeClassifier(),  # model used\n",
    "    n_estimators = 100,  # number of models\n",
    "    max_samples = 0.8,  # 80% of the data will be used for training\n",
    "    oob_score = True,  # Out of bag data. i.e data not used for trainng models    \n",
    "    random_state = 0\n",
    ")"
   ]
  },
  {
   "cell_type": "code",
   "execution_count": 19,
   "id": "fa4cc38a-de9e-4d61-9de6-53374522a7e9",
   "metadata": {},
   "outputs": [
    {
     "data": {
      "text/plain": [
       "0.7534722222222222"
      ]
     },
     "execution_count": 19,
     "metadata": {},
     "output_type": "execute_result"
    }
   ],
   "source": [
    "bag_model.fit(X_train, y_train)\n",
    "bag_model.oob_score_"
   ]
  },
  {
   "cell_type": "code",
   "execution_count": 20,
   "id": "57beebe3-c5fa-4cab-9682-9c962962c78d",
   "metadata": {},
   "outputs": [
    {
     "data": {
      "text/plain": [
       "0.7760416666666666"
      ]
     },
     "execution_count": 20,
     "metadata": {},
     "output_type": "execute_result"
    }
   ],
   "source": [
    "bag_model.score(X_test, y_test)"
   ]
  },
  {
   "cell_type": "markdown",
   "id": "26b63087-83e7-416d-a5df-bcc9bdec6d45",
   "metadata": {},
   "source": [
    "#### Bagging and Cross Validation"
   ]
  },
  {
   "cell_type": "code",
   "execution_count": 21,
   "id": "3f8cd860-3b60-45ad-9517-f4a81bbcab38",
   "metadata": {},
   "outputs": [
    {
     "data": {
      "text/plain": [
       "0.7578728461081402"
      ]
     },
     "execution_count": 21,
     "metadata": {},
     "output_type": "execute_result"
    }
   ],
   "source": [
    "bag_model2 = BaggingClassifier(\n",
    "    estimator = DecisionTreeClassifier(),\n",
    "    n_estimators = 100,\n",
    "    max_samples = 0.8,\n",
    "    oob_score = True,\n",
    "    random_state = 0\n",
    ")\n",
    "\n",
    "score2 = cross_val_score(bag_model, X, y, cv = 5)\n",
    "score2.mean()"
   ]
  },
  {
   "cell_type": "markdown",
   "id": "e01aaa39-14c4-4d43-a594-279fe863ea88",
   "metadata": {},
   "source": [
    " #### Trying Random Forest Model"
   ]
  },
  {
   "cell_type": "code",
   "execution_count": 22,
   "id": "a0ae865e-d853-4f2c-8645-4ce6a0e0dd86",
   "metadata": {},
   "outputs": [
    {
     "data": {
      "text/plain": [
       "0.7565911212970036"
      ]
     },
     "execution_count": 22,
     "metadata": {},
     "output_type": "execute_result"
    }
   ],
   "source": [
    "scores3 = cross_val_score(RandomForestClassifier(), X, y, cv = 5)\n",
    "scores3.mean()"
   ]
  },
  {
   "cell_type": "code",
   "execution_count": null,
   "id": "dc968a24-b91a-42c0-833b-7ba973908eab",
   "metadata": {},
   "outputs": [],
   "source": []
  }
 ],
 "metadata": {
  "kernelspec": {
   "display_name": "Python 3 (ipykernel)",
   "language": "python",
   "name": "python3"
  },
  "language_info": {
   "codemirror_mode": {
    "name": "ipython",
    "version": 3
   },
   "file_extension": ".py",
   "mimetype": "text/x-python",
   "name": "python",
   "nbconvert_exporter": "python",
   "pygments_lexer": "ipython3",
   "version": "3.11.7"
  }
 },
 "nbformat": 4,
 "nbformat_minor": 5
}
